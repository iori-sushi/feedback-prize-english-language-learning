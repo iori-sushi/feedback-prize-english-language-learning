{
 "cells": [
  {
   "cell_type": "markdown",
   "id": "27c6caf1-14e6-4880-8440-97ebc3014f98",
   "metadata": {},
   "source": [
    "# 1. Preparation"
   ]
  },
  {
   "cell_type": "markdown",
   "id": "47cc8b91-6705-43ec-8bfb-2a884b6c8d68",
   "metadata": {},
   "source": [
    "## 1.1. Import Libraries"
   ]
  },
  {
   "cell_type": "code",
   "execution_count": 51,
   "id": "ad2dd40d-91fa-4aea-b7ac-9e38510d56de",
   "metadata": {},
   "outputs": [],
   "source": [
    "import warnings\n",
    "\n",
    "import lightgbm as lgb\n",
    "import numpy as np\n",
    "import pandas as pd\n",
    "import tensorflow as tf\n",
    "import transformers\n",
    "from keras.preprocessing.text import Tokenizer\n",
    "from sklearn.decomposition import PCA\n",
    "from sklearn.model_selection import train_test_split as tts\n",
    "from sklearn.utils.class_weight import compute_class_weight as ccw\n",
    "\n",
    "from tensorflow.keras import Model, optimizers\n",
    "from tensorflow.keras.callbacks import EarlyStopping\n",
    "from tensorflow.keras.layers import (\n",
    "    BatchNormalization,\n",
    "    Conv2D,\n",
    "    Dense,\n",
    "    Dropout,\n",
    "    Flatten,\n",
    "    Input,\n",
    "    LeakyReLU,\n",
    "    MaxPooling2D,\n",
    "    Rescaling,\n",
    ")\n",
    "from tensorflow.keras.models import Sequential\n",
    "from tensorflow.keras.utils import set_random_seed, to_categorical\n",
    "from transformers import (\n",
    "    RobertaTokenizer,\n",
    "    TFRobertaModel,\n",
    ")\n",
    "\n",
    "warnings.simplefilter(\"ignore\")"
   ]
  },
  {
   "cell_type": "markdown",
   "id": "6b09792e-5c8f-48e9-9c83-ea5f398a3141",
   "metadata": {},
   "source": [
    "## 1.2. Fetching Data"
   ]
  },
  {
   "cell_type": "code",
   "execution_count": 2,
   "id": "c472a671-fa4c-4f41-b457-a9c76ca34620",
   "metadata": {},
   "outputs": [],
   "source": [
    "seed = 0\n",
    "np.random.seed(seed)\n",
    "set_random_seed(seed)\n",
    "\n",
    "train_df = pd.read_csv(\"../input/train.csv\", index_col=\"text_id\")\n",
    "X_train = train_df.full_text\n",
    "cols = [col for col in train_df.columns if col != \"full_text\"]\n",
    "y_train = train_df[cols]\n",
    "X_test = pd.read_csv(\"../input/test.csv\", index_col=\"text_id\").full_text\n",
    "X_test_idx = X_test.index"
   ]
  },
  {
   "cell_type": "markdown",
   "id": "9d595301-948c-4ac2-b7c1-6e2982601851",
   "metadata": {},
   "source": [
    "## 1.3. Sentence Encodings"
   ]
  },
  {
   "cell_type": "markdown",
   "id": "ecb830f4-85e8-47c3-a325-a649d7ae8885",
   "metadata": {},
   "source": [
    "### 1.3.0. Custom Functions"
   ]
  },
  {
   "cell_type": "code",
   "execution_count": 3,
   "id": "5d17bfcb-6a95-49f4-a40f-cb3aceb7daee",
   "metadata": {},
   "outputs": [],
   "source": [
    "def bert_encoder(texts, tokenizer, max_len):\n",
    "    input_ids = []; attention_mask = []\n",
    "    for text in texts:\n",
    "        token = tokenizer(text, max_length=max_len, truncation=True, padding='max_length',\n",
    "                         add_special_tokens=True, return_attention_mask=True)\n",
    "        input_ids.append(token['input_ids'])\n",
    "        attention_mask.append(token['attention_mask'])    \n",
    "    return np.array(input_ids), np.array(attention_mask)\n",
    "\n",
    "def train_test_split_scratch(X, y, test_size=.1):\n",
    "    all_num = X[0].shape[0]\n",
    "    test_num = int(all_num * (test_size))\n",
    "    test_idx = np.random.choice(all_num, test_num, replace=False)\n",
    "    train_idx = np.setdiff1d(np.arange(all_num), test_idx)\n",
    "    return (X[0][train_idx], X[1][train_idx]), (X[0][test_idx], X[1][test_idx]), y.iloc[train_idx], y.iloc[test_idx]\n",
    "\n",
    "reshape_func = lambda df: df.reshape(list(df.shape)+[1])"
   ]
  },
  {
   "cell_type": "markdown",
   "id": "81f71dda-ea83-47ea-a9f1-da2f9dc4a82f",
   "metadata": {},
   "source": [
    "### 1.3.1. TFIDF with PCA"
   ]
  },
  {
   "cell_type": "code",
   "execution_count": 4,
   "id": "188cdd31-ce19-4957-9957-9bd57a9fee66",
   "metadata": {},
   "outputs": [],
   "source": [
    "tokenizer_tfidf = Tokenizer()\n",
    "tokenizer_tfidf.fit_on_texts(X_train)\n",
    "X_train_tfidf = tokenizer_tfidf.texts_to_matrix(X_train, \"tfidf\")\n",
    "X_test_tfidf = tokenizer_tfidf.texts_to_matrix(X_test, \"tfidf\")\n",
    "\n",
    "pca_tfidf = PCA(n_components=500, whiten=True, random_state=seed)\n",
    "X_train_tfidf = pca_tfidf.fit_transform(X_train_tfidf)\n",
    "X_test_tfidf = pca_tfidf.transform(X_test_tfidf)\n",
    "\n",
    "X_train_tfidf, X_val_tfidf, y_train_tfidf, y_val_tfidf = tts(X_train_tfidf, y_train, test_size=.1, random_state=seed)\n",
    "\n",
    "lgb_trains_tfidf = {}\n",
    "lgb_vals_tfidf = {}\n",
    "for col in cols:\n",
    "    exec(f\"lgb_trains_tfidf['{col}'] = lgb.Dataset(X_train_tfidf, y_train_tfidf.{col})\")\n",
    "    exec(f\"lgb_vals_tfidf['{col}'] = lgb.Dataset(X_val_tfidf, y_val_tfidf.{col})\")"
   ]
  },
  {
   "cell_type": "markdown",
   "id": "4b35f077-7f43-429d-9c82-0953a3ade890",
   "metadata": {},
   "source": [
    "### 1.3.2. roberta-base"
   ]
  },
  {
   "cell_type": "code",
   "execution_count": 5,
   "id": "666f64dd-f53e-4197-aa09-c12d370a8dd2",
   "metadata": {},
   "outputs": [
    {
     "data": {
      "application/vnd.jupyter.widget-view+json": {
       "model_id": "47bd3bf9497c4618982a87277d4dcff0",
       "version_major": 2,
       "version_minor": 0
      },
      "text/plain": [
       "Downloading:   0%|          | 0.00/899k [00:00<?, ?B/s]"
      ]
     },
     "metadata": {},
     "output_type": "display_data"
    },
    {
     "data": {
      "application/vnd.jupyter.widget-view+json": {
       "model_id": "dd3eb37d94d64aa5bc68d4bce0f5faae",
       "version_major": 2,
       "version_minor": 0
      },
      "text/plain": [
       "Downloading:   0%|          | 0.00/456k [00:00<?, ?B/s]"
      ]
     },
     "metadata": {},
     "output_type": "display_data"
    },
    {
     "data": {
      "application/vnd.jupyter.widget-view+json": {
       "model_id": "7d1c87798dba40ad9a95957778ec771f",
       "version_major": 2,
       "version_minor": 0
      },
      "text/plain": [
       "Downloading:   0%|          | 0.00/481 [00:00<?, ?B/s]"
      ]
     },
     "metadata": {},
     "output_type": "display_data"
    },
    {
     "data": {
      "application/vnd.jupyter.widget-view+json": {
       "model_id": "42eecb44560348438cf160ed7d347df8",
       "version_major": 2,
       "version_minor": 0
      },
      "text/plain": [
       "Downloading:   0%|          | 0.00/657M [00:00<?, ?B/s]"
      ]
     },
     "metadata": {},
     "output_type": "display_data"
    },
    {
     "name": "stderr",
     "output_type": "stream",
     "text": [
      "Some layers from the model checkpoint at roberta-base were not used when initializing TFRobertaModel: ['lm_head']\n",
      "- This IS expected if you are initializing TFRobertaModel from the checkpoint of a model trained on another task or with another architecture (e.g. initializing a BertForSequenceClassification model from a BertForPreTraining model).\n",
      "- This IS NOT expected if you are initializing TFRobertaModel from the checkpoint of a model that you expect to be exactly identical (initializing a BertForSequenceClassification model from a BertForSequenceClassification model).\n",
      "All the layers of TFRobertaModel were initialized from the model checkpoint at roberta-base.\n",
      "If your task is similar to the task the model of the checkpoint was trained on, you can already use TFRobertaModel for predictions without further training.\n"
     ]
    },
    {
     "name": "stdout",
     "output_type": "stream",
     "text": [
      "110/110 [==============================] - 7s 47ms/step\n",
      "13/13 [==============================] - 3s 78ms/step\n",
      "1/1 [==============================] - 0s 67ms/step\n"
     ]
    }
   ],
   "source": [
    "max_len = 128 #512\n",
    "roberta_dir = \"roberta-base\"#'../input/roberta-base/'\n",
    "\n",
    "tokenizer_roberta = RobertaTokenizer.from_pretrained(roberta_dir)\n",
    "model_roberta = TFRobertaModel.from_pretrained(roberta_dir)\n",
    "\n",
    "X_train_roberta = bert_encoder(X_train, tokenizer_roberta, max_len)\n",
    "X_test_roberta = bert_encoder(X_test, tokenizer_roberta, max_len)\n",
    "X_train_roberta, X_val_roberta, y_train_roberta, y_val_roberta = train_test_split_scratch(X_train_roberta, y_train)\n",
    "\n",
    "input_ids_roberta  = Input(shape=(X_train_roberta[0].shape[1], ), dtype = tf.int32)\n",
    "attention_mask_roberta = Input(shape=(X_train_roberta[1].shape[1], ), dtype = tf.int32)\n",
    "roberta_ = model_roberta(input_ids = input_ids_roberta, attention_mask = attention_mask_roberta)\n",
    "roberta_ = Model(inputs = [input_ids_roberta, attention_mask_roberta], outputs = roberta_)\n",
    "roberta_.compile(loss=\"rmse\", optimizer=\"rmsprop\")\n",
    "X_train_roberta_3d = reshape_func(roberta_.predict(X_train_roberta).last_hidden_state)\n",
    "X_val_roberta_3d = reshape_func(roberta_.predict(X_val_roberta).last_hidden_state)\n",
    "X_test_roberta_3d = reshape_func(roberta_.predict(X_test_roberta).last_hidden_state)\n",
    "\n",
    "pca_roberta = PCA(n_components=2000, whiten=True, random_state=seed)\n",
    "X_train_roberta_pca = pca_roberta.fit_transform(X_train_roberta_3d.reshape((X_train_roberta_3d.shape[0], -1)))\n",
    "X_val_roberta_pca = pca_roberta.transform(X_val_roberta_3d.reshape((X_val_roberta_3d.shape[0], -1)))\n",
    "X_test_roberta_pca = pca_roberta.transform(X_test_roberta_3d.reshape((X_test_roberta_3d.shape[0], -1)))\n",
    "\n",
    "lgb_trains_roberta = {}\n",
    "lgb_vals_roberta = {}\n",
    "for col in cols:\n",
    "    exec(f\"lgb_trains_roberta['{col}'] = lgb.Dataset(X_train_roberta_pca, y_train_roberta.{col})\")\n",
    "    exec(f\"lgb_vals_roberta['{col}'] = lgb.Dataset(X_val_roberta_pca, y_val_roberta.{col})\")"
   ]
  },
  {
   "cell_type": "code",
   "execution_count": 65,
   "id": "4c72891c-2b4d-4f07-9124-685537bc52e2",
   "metadata": {
    "collapsed": true,
    "jupyter": {
     "outputs_hidden": true
    },
    "tags": []
   },
   "outputs": [
    {
     "name": "stdout",
     "output_type": "stream",
     "text": [
      "(3911, 22170)\n",
      "120\n"
     ]
    },
    {
     "data": {
      "image/png": "[encoded data removed]",
      "text/plain": [
       "<Figure size 1320x990 with 1 Axes>"
      ]
     },
     "metadata": {
      "needs_background": "light"
     },
     "output_type": "display_data"
    },
    {
     "name": "stdout",
     "output_type": "stream",
     "text": [
      "CPU times: user 16min 39s, sys: 7min 5s, total: 23min 45s\n",
      "Wall time: 52.8 s\n"
     ]
    }
   ],
   "source": [
    "%%time\n",
    "\n",
    "tokenizer_tfidf = Tokenizer()\n",
    "tokenizer_tfidf.fit_on_texts(X_train)\n",
    "X_train_tfidf = tokenizer_tfidf.texts_to_matrix(X_train, \"tfidf\")\n",
    "print(X_train_tfidf.shape)\n",
    "\n",
    "pca_tfidf = PCA(n_components=3000, whiten=True, random_state=seed)\n",
    "print(pca_tfidf.fit_transform(X_train_tfidf).__sizeof__())\n",
    "\n",
    "plt.plot(np.cumsum(pca_tfidf.explained_variance_ratio_))\n",
    "plt.show()"
   ]
  },
  {
   "cell_type": "code",
   "execution_count": 66,
   "id": "0be322c6-ec7f-4016-8958-718410d23d88",
   "metadata": {
    "collapsed": true,
    "jupyter": {
     "outputs_hidden": true
    },
    "tags": []
   },
   "outputs": [
    {
     "name": "stdout",
     "output_type": "stream",
     "text": [
      "(3911, 22170)\n",
      "93864120\n"
     ]
    },
    {
     "data": {
      "image/png": "[encoded data removed]",
      "text/plain": [
       "<Figure size 1320x990 with 1 Axes>"
      ]
     },
     "metadata": {
      "needs_background": "light"
     },
     "output_type": "display_data"
    },
    {
     "name": "stdout",
     "output_type": "stream",
     "text": [
      "CPU times: user 20min 35s, sys: 7min 51s, total: 28min 26s\n",
      "Wall time: 58.6 s\n"
     ]
    }
   ],
   "source": [
    "%%time\n",
    "\n",
    "print(X_train_tfidf.shape)\n",
    "\n",
    "svd_tfidf = TruncatedSVD(n_components=3000, random_state=seed)\n",
    "print(svd_tfidf.fit_transform(X_train_tfidf).__sizeof__())\n",
    "\n",
    "plt.plot(np.cumsum(svd_tfidf.explained_variance_ratio_))\n",
    "plt.show()"
   ]
  },
  {
   "cell_type": "code",
   "execution_count": 69,
   "id": "ffb36111-b98d-4864-bd27-05f6bcab8fbe",
   "metadata": {
    "collapsed": true,
    "jupyter": {
     "outputs_hidden": true
    },
    "tags": []
   },
   "outputs": [
    {
     "name": "stdout",
     "output_type": "stream",
     "text": [
      "120\n"
     ]
    },
    {
     "data": {
      "image/png": "[encoded data removed]",
      "text/plain": [
       "<Figure size 1320x990 with 1 Axes>"
      ]
     },
     "metadata": {
      "needs_background": "light"
     },
     "output_type": "display_data"
    },
    {
     "name": "stdout",
     "output_type": "stream",
     "text": [
      "CPU times: user 38min 38s, sys: 32min 10s, total: 1h 10min 49s\n",
      "Wall time: 2min 41s\n"
     ]
    }
   ],
   "source": [
    "%%time\n",
    "pca_roberta = PCA(n_components=3000, random_state=seed)\n",
    "check = pca_roberta.fit_transform(X_train_roberta_3d.reshape((X_train_roberta_3d.shape[0],-1)))\n",
    "check.shape\n",
    "print(check.__sizeof__())\n",
    "\n",
    "import matplotlib.pyplot as plt\n",
    "plt.plot(np.cumsum(pca_roberta.explained_variance_ratio_))\n",
    "plt.show()"
   ]
  },
  {
   "cell_type": "code",
   "execution_count": 70,
   "id": "238a148e-9585-4be6-8abe-eba59a77670b",
   "metadata": {
    "collapsed": true,
    "jupyter": {
     "outputs_hidden": true
    },
    "tags": []
   },
   "outputs": [
    {
     "name": "stdout",
     "output_type": "stream",
     "text": [
      "42240120\n"
     ]
    },
    {
     "data": {
      "image/png": "[encoded data removed]",
      "text/plain": [
       "<Figure size 1320x990 with 1 Axes>"
      ]
     },
     "metadata": {
      "needs_background": "light"
     },
     "output_type": "display_data"
    },
    {
     "name": "stdout",
     "output_type": "stream",
     "text": [
      "CPU times: user 1h 20min 58s, sys: 31min 43s, total: 1h 52min 41s\n",
      "Wall time: 4min 36s\n"
     ]
    }
   ],
   "source": [
    "%%time\n",
    "from sklearn.decomposition import TruncatedSVD\n",
    "svd_roberta = TruncatedSVD(n_components=3000, random_state=seed)\n",
    "check2 = svd_roberta.fit_transform(X_train_roberta_3d.reshape((X_train_roberta_3d.shape[0],-1)))\n",
    "check2.shape\n",
    "print(check2.__sizeof__())\n",
    "\n",
    "plt.plot(np.cumsum(svd_roberta.explained_variance_ratio_))\n",
    "plt.show()"
   ]
  },
  {
   "cell_type": "markdown",
   "id": "7d72a307-9991-4a03-923e-4dd3e9d8030d",
   "metadata": {
    "tags": []
   },
   "source": [
    "# 2. Building Models"
   ]
  },
  {
   "cell_type": "markdown",
   "id": "cb776971-eddb-4aab-83c9-2bb912fe1659",
   "metadata": {},
   "source": [
    "## 2.0. Custom Loss Functions"
   ]
  },
  {
   "cell_type": "code",
   "execution_count": 6,
   "id": "2baef06b-1230-48c9-877d-9d83b26b1d3c",
   "metadata": {},
   "outputs": [],
   "source": [
    "@tf.autograph.experimental.do_not_convert\n",
    "def MCRMSE_keras(y_true, y_pred):\n",
    "    return tf.reduce_mean(tf.reduce_mean(tf.square(y_true - y_pred), axis=1))\n",
    "\n",
    "def MCRMSE_lgb(preds, eval_data):\n",
    "    diff = eval_data - preds\n",
    "    sq = np.square(diff)\n",
    "    rmse = np.sum(sq, axis=0) / eval_data.shape[0]\n",
    "    return \"MCRMSE\", np.sum(rmse) / eval_data.shape[1], False"
   ]
  },
  {
   "cell_type": "markdown",
   "id": "cc28e03b-8af9-4cf6-a8c0-f879a9b1f6ef",
   "metadata": {
    "tags": []
   },
   "source": [
    "## 2.1. keras1: small Keras Model with tfidf-encoding"
   ]
  },
  {
   "cell_type": "code",
   "execution_count": 7,
   "id": "11e67840-907a-4863-9161-001c19713dd4",
   "metadata": {
    "tags": []
   },
   "outputs": [
    {
     "name": "stdout",
     "output_type": "stream",
     "text": [
      "Epoch 1/100\n",
      "440/440 [==============================] - 4s 7ms/step - loss: 0.4869 - MCRMSE_keras: 0.4870 - val_loss: 0.3647 - val_MCRMSE_keras: 0.3647\n",
      "Epoch 2/100\n",
      "440/440 [==============================] - 3s 8ms/step - loss: 0.3385 - MCRMSE_keras: 0.3385 - val_loss: 0.3429 - val_MCRMSE_keras: 0.3429\n",
      "Epoch 3/100\n",
      "440/440 [==============================] - 3s 7ms/step - loss: 0.2711 - MCRMSE_keras: 0.2711 - val_loss: 0.3458 - val_MCRMSE_keras: 0.3458\n",
      "Epoch 4/100\n",
      "440/440 [==============================] - 3s 8ms/step - loss: 0.2454 - MCRMSE_keras: 0.2454 - val_loss: 0.3529 - val_MCRMSE_keras: 0.3529\n",
      "Epoch 5/100\n",
      "440/440 [==============================] - 3s 8ms/step - loss: 0.2251 - MCRMSE_keras: 0.2251 - val_loss: 0.3534 - val_MCRMSE_keras: 0.3534\n",
      "Epoch 6/100\n",
      "440/440 [==============================] - 3s 7ms/step - loss: 0.2012 - MCRMSE_keras: 0.2012 - val_loss: 0.3473 - val_MCRMSE_keras: 0.3473\n",
      "Epoch 7/100\n",
      "440/440 [==============================] - 3s 7ms/step - loss: 0.1964 - MCRMSE_keras: 0.1965 - val_loss: 0.3412 - val_MCRMSE_keras: 0.3412\n",
      "Epoch 8/100\n",
      "440/440 [==============================] - 3s 8ms/step - loss: 0.1866 - MCRMSE_keras: 0.1866 - val_loss: 0.3501 - val_MCRMSE_keras: 0.3501\n",
      "Epoch 9/100\n",
      "440/440 [==============================] - 3s 8ms/step - loss: 0.1837 - MCRMSE_keras: 0.1837 - val_loss: 0.3388 - val_MCRMSE_keras: 0.3388\n",
      "Epoch 10/100\n",
      "440/440 [==============================] - 3s 8ms/step - loss: 0.1769 - MCRMSE_keras: 0.1769 - val_loss: 0.3519 - val_MCRMSE_keras: 0.3519\n",
      "Epoch 11/100\n",
      "440/440 [==============================] - 3s 7ms/step - loss: 0.1719 - MCRMSE_keras: 0.1719 - val_loss: 0.3389 - val_MCRMSE_keras: 0.3389\n",
      "Epoch 12/100\n",
      "440/440 [==============================] - 3s 7ms/step - loss: 0.1683 - MCRMSE_keras: 0.1683 - val_loss: 0.3444 - val_MCRMSE_keras: 0.3444\n",
      "Epoch 13/100\n",
      "440/440 [==============================] - 3s 7ms/step - loss: 0.1616 - MCRMSE_keras: 0.1616 - val_loss: 0.3476 - val_MCRMSE_keras: 0.3476\n",
      "Epoch 14/100\n",
      "440/440 [==============================] - 3s 7ms/step - loss: 0.1601 - MCRMSE_keras: 0.1601 - val_loss: 0.3419 - val_MCRMSE_keras: 0.3419\n"
     ]
    },
    {
     "data": {
      "text/plain": [
       "<keras.callbacks.History at 0x7fcdf8382f10>"
      ]
     },
     "execution_count": 7,
     "metadata": {},
     "output_type": "execute_result"
    },
    {
     "name": "stdout",
     "output_type": "stream",
     "text": [
      "1/1 [==============================] - 0s 92ms/step\n"
     ]
    },
    {
     "data": {
      "text/html": [
       "<div>\n",
       "<style scoped>\n",
       "    .dataframe tbody tr th:only-of-type {\n",
       "        vertical-align: middle;\n",
       "    }\n",
       "\n",
       "    .dataframe tbody tr th {\n",
       "        vertical-align: top;\n",
       "    }\n",
       "\n",
       "    .dataframe thead th {\n",
       "        text-align: right;\n",
       "    }\n",
       "</style>\n",
       "<table border=\"1\" class=\"dataframe\">\n",
       "  <thead>\n",
       "    <tr style=\"text-align: right;\">\n",
       "      <th></th>\n",
       "      <th>cohesion</th>\n",
       "      <th>syntax</th>\n",
       "      <th>vocabulary</th>\n",
       "      <th>phraseology</th>\n",
       "      <th>grammar</th>\n",
       "      <th>conventions</th>\n",
       "    </tr>\n",
       "    <tr>\n",
       "      <th>text_id</th>\n",
       "      <th></th>\n",
       "      <th></th>\n",
       "      <th></th>\n",
       "      <th></th>\n",
       "      <th></th>\n",
       "      <th></th>\n",
       "    </tr>\n",
       "  </thead>\n",
       "  <tbody>\n",
       "    <tr>\n",
       "      <th>0000C359D63E</th>\n",
       "      <td>2.804770</td>\n",
       "      <td>2.728215</td>\n",
       "      <td>2.989167</td>\n",
       "      <td>2.783143</td>\n",
       "      <td>2.682304</td>\n",
       "      <td>2.777767</td>\n",
       "    </tr>\n",
       "    <tr>\n",
       "      <th>000BAD50D026</th>\n",
       "      <td>2.757102</td>\n",
       "      <td>2.702014</td>\n",
       "      <td>2.941860</td>\n",
       "      <td>2.743857</td>\n",
       "      <td>2.671812</td>\n",
       "      <td>2.757508</td>\n",
       "    </tr>\n",
       "    <tr>\n",
       "      <th>00367BB2546B</th>\n",
       "      <td>3.494375</td>\n",
       "      <td>3.400168</td>\n",
       "      <td>3.596958</td>\n",
       "      <td>3.525245</td>\n",
       "      <td>3.406241</td>\n",
       "      <td>3.475540</td>\n",
       "    </tr>\n",
       "  </tbody>\n",
       "</table>\n",
       "</div>"
      ],
      "text/plain": [
       "              cohesion    syntax  vocabulary  phraseology   grammar  \\\n",
       "text_id                                                               \n",
       "0000C359D63E  2.804770  2.728215    2.989167     2.783143  2.682304   \n",
       "000BAD50D026  2.757102  2.702014    2.941860     2.743857  2.671812   \n",
       "00367BB2546B  3.494375  3.400168    3.596958     3.525245  3.406241   \n",
       "\n",
       "              conventions  \n",
       "text_id                    \n",
       "0000C359D63E     2.777767  \n",
       "000BAD50D026     2.757508  \n",
       "00367BB2546B     3.475540  "
      ]
     },
     "execution_count": 7,
     "metadata": {},
     "output_type": "execute_result"
    }
   ],
   "source": [
    "keras1_model = Sequential()\n",
    "keras1_model.add(Dense(500, input_dim=X_train_tfidf.shape[1], activation=\"relu\"))\n",
    "keras1_model.add(BatchNormalization())\n",
    "keras1_model.add(Dense(500, activation=\"relu\"))\n",
    "keras1_model.add(Dropout(.5))\n",
    "keras1_model.add(Dense(500, activation=\"relu\"))\n",
    "keras1_model.add(Dropout(.5))\n",
    "keras1_model.add(Dense(200, activation=\"relu\"))\n",
    "keras1_model.add(Dense(y_train.shape[1], activation=\"sigmoid\"))\n",
    "keras1_model.add(Rescaling(4, offset=1))\n",
    "\n",
    "optimizer = optimizers.Adam(amsgrad=True)\n",
    "keras1_model.compile(loss=MCRMSE_keras, optimizer=optimizer, metrics=[MCRMSE_keras])\n",
    "keras1_model.fit(X_train_tfidf, y_train_tfidf, batch_size=2**3, epochs=100, verbose=1,\n",
    "          validation_data=(X_val_tfidf, y_val_tfidf), workers=30, use_multiprocessing=True,\n",
    "          callbacks=[EarlyStopping(monitor=\"val_loss\", patience=5, restore_best_weights=True)])\n",
    "\n",
    "keras1_pred = pd.DataFrame(keras1_model.predict(X_test_tfidf), columns=cols, index=X_test_idx)\n",
    "keras1_pred"
   ]
  },
  {
   "cell_type": "code",
   "execution_count": 7,
   "id": "24f260fc-1ef9-4507-abe0-7977ed095e0a",
   "metadata": {
    "tags": []
   },
   "outputs": [
    {
     "name": "stdout",
     "output_type": "stream",
     "text": [
      "Epoch 1/30\n",
      "440/440 [==============================] - 3s 5ms/step - loss: 0.3869 - MCRMSE_keras: 0.3870 - val_loss: 0.3311 - val_MCRMSE_keras: 0.3311\n",
      "Epoch 2/30\n",
      "440/440 [==============================] - 2s 4ms/step - loss: 0.3091 - MCRMSE_keras: 0.3092 - val_loss: 0.3334 - val_MCRMSE_keras: 0.3334\n",
      "Epoch 3/30\n",
      "440/440 [==============================] - 2s 4ms/step - loss: 0.2856 - MCRMSE_keras: 0.2856 - val_loss: 0.3280 - val_MCRMSE_keras: 0.3280\n",
      "Epoch 4/30\n",
      "440/440 [==============================] - 2s 4ms/step - loss: 0.2658 - MCRMSE_keras: 0.2658 - val_loss: 0.3211 - val_MCRMSE_keras: 0.3211\n",
      "Epoch 5/30\n",
      "440/440 [==============================] - 2s 4ms/step - loss: 0.2503 - MCRMSE_keras: 0.2503 - val_loss: 0.3317 - val_MCRMSE_keras: 0.3317\n",
      "Epoch 6/30\n",
      "440/440 [==============================] - 2s 4ms/step - loss: 0.2389 - MCRMSE_keras: 0.2389 - val_loss: 0.3424 - val_MCRMSE_keras: 0.3424\n",
      "Epoch 7/30\n",
      "440/440 [==============================] - 2s 4ms/step - loss: 0.2285 - MCRMSE_keras: 0.2285 - val_loss: 0.3469 - val_MCRMSE_keras: 0.3469\n",
      "Epoch 8/30\n",
      "440/440 [==============================] - 2s 4ms/step - loss: 0.2120 - MCRMSE_keras: 0.2120 - val_loss: 0.3336 - val_MCRMSE_keras: 0.3336\n",
      "Epoch 9/30\n",
      "440/440 [==============================] - 2s 4ms/step - loss: 0.2061 - MCRMSE_keras: 0.2061 - val_loss: 0.3321 - val_MCRMSE_keras: 0.3321\n"
     ]
    },
    {
     "data": {
      "text/plain": [
       "<keras.callbacks.History at 0x7fa3a80ef340>"
      ]
     },
     "execution_count": 7,
     "metadata": {},
     "output_type": "execute_result"
    },
    {
     "name": "stdout",
     "output_type": "stream",
     "text": [
      "1/1 [==============================] - 0s 80ms/step\n"
     ]
    },
    {
     "data": {
      "text/html": [
       "<div>\n",
       "<style scoped>\n",
       "    .dataframe tbody tr th:only-of-type {\n",
       "        vertical-align: middle;\n",
       "    }\n",
       "\n",
       "    .dataframe tbody tr th {\n",
       "        vertical-align: top;\n",
       "    }\n",
       "\n",
       "    .dataframe thead th {\n",
       "        text-align: right;\n",
       "    }\n",
       "</style>\n",
       "<table border=\"1\" class=\"dataframe\">\n",
       "  <thead>\n",
       "    <tr style=\"text-align: right;\">\n",
       "      <th></th>\n",
       "      <th>cohesion</th>\n",
       "      <th>syntax</th>\n",
       "      <th>vocabulary</th>\n",
       "      <th>phraseology</th>\n",
       "      <th>grammar</th>\n",
       "      <th>conventions</th>\n",
       "    </tr>\n",
       "    <tr>\n",
       "      <th>text_id</th>\n",
       "      <th></th>\n",
       "      <th></th>\n",
       "      <th></th>\n",
       "      <th></th>\n",
       "      <th></th>\n",
       "      <th></th>\n",
       "    </tr>\n",
       "  </thead>\n",
       "  <tbody>\n",
       "    <tr>\n",
       "      <th>0000C359D63E</th>\n",
       "      <td>2.963785</td>\n",
       "      <td>2.769119</td>\n",
       "      <td>2.991218</td>\n",
       "      <td>2.912914</td>\n",
       "      <td>2.738309</td>\n",
       "      <td>2.812911</td>\n",
       "    </tr>\n",
       "    <tr>\n",
       "      <th>000BAD50D026</th>\n",
       "      <td>2.947985</td>\n",
       "      <td>2.858868</td>\n",
       "      <td>2.971609</td>\n",
       "      <td>2.895396</td>\n",
       "      <td>2.806762</td>\n",
       "      <td>2.909150</td>\n",
       "    </tr>\n",
       "    <tr>\n",
       "      <th>00367BB2546B</th>\n",
       "      <td>3.620040</td>\n",
       "      <td>3.479509</td>\n",
       "      <td>3.510632</td>\n",
       "      <td>3.619158</td>\n",
       "      <td>3.427733</td>\n",
       "      <td>3.479627</td>\n",
       "    </tr>\n",
       "  </tbody>\n",
       "</table>\n",
       "</div>"
      ],
      "text/plain": [
       "              cohesion    syntax  vocabulary  phraseology   grammar  \\\n",
       "text_id                                                               \n",
       "0000C359D63E  2.963785  2.769119    2.991218     2.912914  2.738309   \n",
       "000BAD50D026  2.947985  2.858868    2.971609     2.895396  2.806762   \n",
       "00367BB2546B  3.620040  3.479509    3.510632     3.619158  3.427733   \n",
       "\n",
       "              conventions  \n",
       "text_id                    \n",
       "0000C359D63E     2.812911  \n",
       "000BAD50D026     2.909150  \n",
       "00367BB2546B     3.479627  "
      ]
     },
     "execution_count": 7,
     "metadata": {},
     "output_type": "execute_result"
    }
   ],
   "source": [
    "keras1_model = Sequential()\n",
    "keras1_model.add(Dense(500, input_dim=X_train_tfidf.shape[1], activation=\"relu\"))\n",
    "keras1_model.add(BatchNormalization())\n",
    "keras1_model.add(Dense(500, activation=\"relu\"))\n",
    "keras1_model.add(Dropout(.3))\n",
    "keras1_model.add(Dense(500, activation=LeakyReLU(.1)))\n",
    "keras1_model.add(Dropout(.2))\n",
    "keras1_model.add(Dense(500, activation=\"relu\"))\n",
    "keras1_model.add(Dense(y_train.shape[1], activation=\"sigmoid\"))\n",
    "keras1_model.add(Rescaling(4, offset=1))\n",
    "\n",
    "optimizer = optimizers.Adam(amsgrad=True)\n",
    "keras1_model.compile(loss=MCRMSE_keras, optimizer=optimizer, metrics=[MCRMSE_keras])\n",
    "keras1_model.fit(X_train_tfidf, y_train_tfidf, batch_size=2**3, epochs=30, verbose=1,\n",
    "          validation_data=(X_val_tfidf, y_val_tfidf), workers=30, use_multiprocessing=True,\n",
    "          callbacks=[EarlyStopping(monitor=\"val_loss\", patience=5, restore_best_weights=True)])\n",
    "\n",
    "keras1_pred = pd.DataFrame(keras1_model.predict(X_test_tfidf), columns=cols, index=X_test_idx)\n",
    "keras1_pred"
   ]
  },
  {
   "cell_type": "markdown",
   "id": "61e51bfe-0488-4881-abec-be0dfe0cb7a7",
   "metadata": {},
   "source": [
    "## 2.2. keras2: large Keras Model with tfidf-encoding"
   ]
  },
  {
   "cell_type": "code",
   "execution_count": 9,
   "id": "98d76b73-c55a-446d-9e14-832033296e77",
   "metadata": {
    "tags": []
   },
   "outputs": [
    {
     "name": "stdout",
     "output_type": "stream",
     "text": [
      "Epoch 1/50\n",
      "440/440 [==============================] - 7s 14ms/step - loss: 0.4874 - MCRMSE_keras: 0.4875 - val_loss: 0.6546 - val_MCRMSE_keras: 0.6546\n",
      "Epoch 2/50\n",
      "440/440 [==============================] - 6s 13ms/step - loss: 0.4029 - MCRMSE_keras: 0.4029 - val_loss: 0.6405 - val_MCRMSE_keras: 0.6405\n",
      "Epoch 3/50\n",
      "440/440 [==============================] - 6s 13ms/step - loss: 0.3731 - MCRMSE_keras: 0.3730 - val_loss: 1.9810 - val_MCRMSE_keras: 1.9810\n",
      "Epoch 4/50\n",
      "440/440 [==============================] - 6s 13ms/step - loss: 0.3452 - MCRMSE_keras: 0.3452 - val_loss: 0.3921 - val_MCRMSE_keras: 0.3921\n",
      "Epoch 5/50\n",
      "440/440 [==============================] - 6s 13ms/step - loss: 0.3255 - MCRMSE_keras: 0.3255 - val_loss: 0.4325 - val_MCRMSE_keras: 0.4325\n",
      "Epoch 6/50\n",
      "440/440 [==============================] - 6s 13ms/step - loss: 0.2944 - MCRMSE_keras: 0.2944 - val_loss: 0.3670 - val_MCRMSE_keras: 0.3670\n",
      "Epoch 7/50\n",
      "440/440 [==============================] - 6s 13ms/step - loss: 0.2840 - MCRMSE_keras: 0.2840 - val_loss: 0.3997 - val_MCRMSE_keras: 0.3997\n",
      "Epoch 8/50\n",
      "440/440 [==============================] - 6s 13ms/step - loss: 0.2628 - MCRMSE_keras: 0.2628 - val_loss: 0.4570 - val_MCRMSE_keras: 0.4570\n",
      "Epoch 9/50\n",
      "440/440 [==============================] - 6s 13ms/step - loss: 0.2501 - MCRMSE_keras: 0.2501 - val_loss: 0.3523 - val_MCRMSE_keras: 0.3523\n",
      "Epoch 10/50\n",
      "440/440 [==============================] - 6s 13ms/step - loss: 0.2440 - MCRMSE_keras: 0.2440 - val_loss: 0.4486 - val_MCRMSE_keras: 0.4486\n",
      "Epoch 11/50\n",
      "440/440 [==============================] - 6s 13ms/step - loss: 0.2373 - MCRMSE_keras: 0.2373 - val_loss: 0.3714 - val_MCRMSE_keras: 0.3714\n",
      "Epoch 12/50\n",
      "440/440 [==============================] - 6s 13ms/step - loss: 0.2248 - MCRMSE_keras: 0.2247 - val_loss: 0.3630 - val_MCRMSE_keras: 0.3630\n",
      "Epoch 13/50\n",
      "440/440 [==============================] - 6s 13ms/step - loss: 0.2205 - MCRMSE_keras: 0.2205 - val_loss: 0.3474 - val_MCRMSE_keras: 0.3474\n",
      "Epoch 14/50\n",
      "440/440 [==============================] - 6s 14ms/step - loss: 0.2121 - MCRMSE_keras: 0.2121 - val_loss: 0.3600 - val_MCRMSE_keras: 0.3600\n",
      "Epoch 15/50\n",
      "440/440 [==============================] - 6s 14ms/step - loss: 0.2124 - MCRMSE_keras: 0.2124 - val_loss: 0.3508 - val_MCRMSE_keras: 0.3508\n",
      "Epoch 16/50\n",
      "440/440 [==============================] - 6s 13ms/step - loss: 0.2101 - MCRMSE_keras: 0.2100 - val_loss: 0.3614 - val_MCRMSE_keras: 0.3614\n",
      "Epoch 17/50\n",
      "440/440 [==============================] - 6s 13ms/step - loss: 0.2111 - MCRMSE_keras: 0.2111 - val_loss: 0.3674 - val_MCRMSE_keras: 0.3674\n",
      "Epoch 18/50\n",
      "440/440 [==============================] - 6s 14ms/step - loss: 0.2123 - MCRMSE_keras: 0.2122 - val_loss: 0.3532 - val_MCRMSE_keras: 0.3532\n"
     ]
    },
    {
     "data": {
      "text/plain": [
       "<keras.callbacks.History at 0x7fce5775eb20>"
      ]
     },
     "execution_count": 9,
     "metadata": {},
     "output_type": "execute_result"
    },
    {
     "name": "stdout",
     "output_type": "stream",
     "text": [
      "1/1 [==============================] - 0s 176ms/step\n"
     ]
    },
    {
     "data": {
      "text/html": [
       "<div>\n",
       "<style scoped>\n",
       "    .dataframe tbody tr th:only-of-type {\n",
       "        vertical-align: middle;\n",
       "    }\n",
       "\n",
       "    .dataframe tbody tr th {\n",
       "        vertical-align: top;\n",
       "    }\n",
       "\n",
       "    .dataframe thead th {\n",
       "        text-align: right;\n",
       "    }\n",
       "</style>\n",
       "<table border=\"1\" class=\"dataframe\">\n",
       "  <thead>\n",
       "    <tr style=\"text-align: right;\">\n",
       "      <th></th>\n",
       "      <th>cohesion</th>\n",
       "      <th>syntax</th>\n",
       "      <th>vocabulary</th>\n",
       "      <th>phraseology</th>\n",
       "      <th>grammar</th>\n",
       "      <th>conventions</th>\n",
       "    </tr>\n",
       "    <tr>\n",
       "      <th>text_id</th>\n",
       "      <th></th>\n",
       "      <th></th>\n",
       "      <th></th>\n",
       "      <th></th>\n",
       "      <th></th>\n",
       "      <th></th>\n",
       "    </tr>\n",
       "  </thead>\n",
       "  <tbody>\n",
       "    <tr>\n",
       "      <th>0000C359D63E</th>\n",
       "      <td>2.805748</td>\n",
       "      <td>2.679327</td>\n",
       "      <td>3.033418</td>\n",
       "      <td>2.752163</td>\n",
       "      <td>2.636959</td>\n",
       "      <td>2.840636</td>\n",
       "    </tr>\n",
       "    <tr>\n",
       "      <th>000BAD50D026</th>\n",
       "      <td>2.709807</td>\n",
       "      <td>2.579508</td>\n",
       "      <td>2.968937</td>\n",
       "      <td>2.654088</td>\n",
       "      <td>2.518137</td>\n",
       "      <td>2.767656</td>\n",
       "    </tr>\n",
       "    <tr>\n",
       "      <th>00367BB2546B</th>\n",
       "      <td>3.627219</td>\n",
       "      <td>3.607767</td>\n",
       "      <td>3.658159</td>\n",
       "      <td>3.617604</td>\n",
       "      <td>3.686137</td>\n",
       "      <td>3.460452</td>\n",
       "    </tr>\n",
       "  </tbody>\n",
       "</table>\n",
       "</div>"
      ],
      "text/plain": [
       "              cohesion    syntax  vocabulary  phraseology   grammar  \\\n",
       "text_id                                                               \n",
       "0000C359D63E  2.805748  2.679327    3.033418     2.752163  2.636959   \n",
       "000BAD50D026  2.709807  2.579508    2.968937     2.654088  2.518137   \n",
       "00367BB2546B  3.627219  3.607767    3.658159     3.617604  3.686137   \n",
       "\n",
       "              conventions  \n",
       "text_id                    \n",
       "0000C359D63E     2.840636  \n",
       "000BAD50D026     2.767656  \n",
       "00367BB2546B     3.460452  "
      ]
     },
     "execution_count": 9,
     "metadata": {},
     "output_type": "execute_result"
    }
   ],
   "source": [
    "keras2_model = Sequential()\n",
    "keras2_model.add(Dense(2000, input_dim=X_train_tfidf.shape[1], activation=\"relu\"))\n",
    "keras2_model.add(BatchNormalization())\n",
    "keras2_model.add(Dense(2000, activation=\"relu\"))\n",
    "keras2_model.add(Dropout(.3))\n",
    "keras2_model.add(Dense(3000, activation=LeakyReLU(.1)))\n",
    "keras2_model.add(Dropout(.2))\n",
    "keras2_model.add(Dense(2000, activation=\"relu\"))\n",
    "keras2_model.add(Dense(500, activation=\"relu\"))\n",
    "keras2_model.add(Dense(3000, activation=\"softplus\"))\n",
    "keras2_model.add(BatchNormalization())\n",
    "keras2_model.add(Dense(1000, activation=LeakyReLU(.1)))\n",
    "keras2_model.add(Dropout(.3))\n",
    "keras2_model.add(Dense(3000, activation=\"softsign\"))\n",
    "keras2_model.add(Dense(1000, activation=LeakyReLU(.1)))\n",
    "keras2_model.add(Dropout(.1))\n",
    "keras2_model.add(Dense(3000, activation=\"softplus\"))\n",
    "keras2_model.add(Dropout(.4))\n",
    "keras2_model.add(Dense(3000, activation=\"relu\"))\n",
    "keras2_model.add(Dense(1000, activation=\"relu\"))\n",
    "keras2_model.add(BatchNormalization())\n",
    "keras2_model.add(Dense(y_train.shape[1], activation=\"sigmoid\"))\n",
    "keras2_model.add(Rescaling(4, offset=1))\n",
    "\n",
    "optimizer = optimizers.Adam(amsgrad=True)\n",
    "keras2_model.compile(loss=MCRMSE_keras, optimizer=optimizer, metrics=[MCRMSE_keras])\n",
    "keras2_model.fit(X_train_tfidf, y_train_tfidf, batch_size=2**3, epochs=50, verbose=1,\n",
    "          validation_data=(X_val_tfidf, y_val_tfidf), workers=30, use_multiprocessing=True,\n",
    "          callbacks=[EarlyStopping(monitor=\"val_loss\", patience=5, restore_best_weights=True)])\n",
    "\n",
    "keras2_pred = pd.DataFrame(keras2_model.predict(X_test_tfidf), columns=cols, index=X_test_idx)\n",
    "keras2_pred"
   ]
  },
  {
   "cell_type": "code",
   "execution_count": 8,
   "id": "9a2d1425-5102-4fde-8d0c-ab8e5fdbece0",
   "metadata": {
    "tags": []
   },
   "outputs": [
    {
     "name": "stdout",
     "output_type": "stream",
     "text": [
      "Epoch 1/50\n",
      "440/440 [==============================] - 6s 11ms/step - loss: 0.4854 - MCRMSE_keras: 0.4855 - val_loss: 0.3736 - val_MCRMSE_keras: 0.3736\n",
      "Epoch 2/50\n",
      "440/440 [==============================] - 5s 11ms/step - loss: 0.3818 - MCRMSE_keras: 0.3819 - val_loss: 0.4495 - val_MCRMSE_keras: 0.4495\n",
      "Epoch 3/50\n",
      "440/440 [==============================] - 5s 11ms/step - loss: 0.3867 - MCRMSE_keras: 0.3867 - val_loss: 0.3983 - val_MCRMSE_keras: 0.3983\n",
      "Epoch 4/50\n",
      "440/440 [==============================] - 5s 11ms/step - loss: 0.3636 - MCRMSE_keras: 0.3636 - val_loss: 0.3594 - val_MCRMSE_keras: 0.3594\n",
      "Epoch 5/50\n",
      "440/440 [==============================] - 5s 11ms/step - loss: 0.3587 - MCRMSE_keras: 0.3586 - val_loss: 0.3882 - val_MCRMSE_keras: 0.3882\n",
      "Epoch 6/50\n",
      "440/440 [==============================] - 4s 10ms/step - loss: 0.3864 - MCRMSE_keras: 0.3864 - val_loss: 0.4725 - val_MCRMSE_keras: 0.4725\n",
      "Epoch 7/50\n",
      "440/440 [==============================] - 5s 11ms/step - loss: 0.3699 - MCRMSE_keras: 0.3699 - val_loss: 0.3777 - val_MCRMSE_keras: 0.3777\n",
      "Epoch 8/50\n",
      "440/440 [==============================] - 5s 11ms/step - loss: 0.3537 - MCRMSE_keras: 0.3537 - val_loss: 0.5030 - val_MCRMSE_keras: 0.5030\n",
      "Epoch 9/50\n",
      "440/440 [==============================] - 5s 11ms/step - loss: 0.3503 - MCRMSE_keras: 0.3503 - val_loss: 0.3555 - val_MCRMSE_keras: 0.3555\n",
      "Epoch 10/50\n",
      "440/440 [==============================] - 4s 10ms/step - loss: 0.3398 - MCRMSE_keras: 0.3398 - val_loss: 0.4135 - val_MCRMSE_keras: 0.4135\n",
      "Epoch 11/50\n",
      "440/440 [==============================] - 5s 11ms/step - loss: 0.3288 - MCRMSE_keras: 0.3287 - val_loss: 0.3584 - val_MCRMSE_keras: 0.3584\n",
      "Epoch 12/50\n",
      "440/440 [==============================] - 5s 11ms/step - loss: 0.3130 - MCRMSE_keras: 0.3130 - val_loss: 0.3509 - val_MCRMSE_keras: 0.3509\n",
      "Epoch 13/50\n",
      "440/440 [==============================] - 5s 10ms/step - loss: 0.3139 - MCRMSE_keras: 0.3139 - val_loss: 0.3495 - val_MCRMSE_keras: 0.3495\n",
      "Epoch 14/50\n",
      "440/440 [==============================] - 4s 10ms/step - loss: 0.2964 - MCRMSE_keras: 0.2964 - val_loss: 0.3578 - val_MCRMSE_keras: 0.3578\n",
      "Epoch 15/50\n",
      "440/440 [==============================] - 5s 10ms/step - loss: 0.3109 - MCRMSE_keras: 0.3109 - val_loss: 0.3717 - val_MCRMSE_keras: 0.3717\n",
      "Epoch 16/50\n",
      "440/440 [==============================] - 5s 11ms/step - loss: 0.2991 - MCRMSE_keras: 0.2990 - val_loss: 0.3618 - val_MCRMSE_keras: 0.3618\n",
      "Epoch 17/50\n",
      "440/440 [==============================] - 5s 11ms/step - loss: 0.2929 - MCRMSE_keras: 0.2929 - val_loss: 0.3494 - val_MCRMSE_keras: 0.3494\n",
      "Epoch 18/50\n",
      "440/440 [==============================] - 5s 10ms/step - loss: 0.2865 - MCRMSE_keras: 0.2865 - val_loss: 0.3578 - val_MCRMSE_keras: 0.3578\n",
      "Epoch 19/50\n",
      "440/440 [==============================] - 5s 11ms/step - loss: 0.2834 - MCRMSE_keras: 0.2834 - val_loss: 0.3499 - val_MCRMSE_keras: 0.3499\n",
      "Epoch 20/50\n",
      "440/440 [==============================] - 5s 11ms/step - loss: 0.3125 - MCRMSE_keras: 0.3126 - val_loss: 0.3680 - val_MCRMSE_keras: 0.3680\n",
      "Epoch 21/50\n",
      "440/440 [==============================] - 5s 10ms/step - loss: 0.2880 - MCRMSE_keras: 0.2880 - val_loss: 0.3474 - val_MCRMSE_keras: 0.3474\n",
      "Epoch 22/50\n",
      "440/440 [==============================] - 5s 10ms/step - loss: 0.2611 - MCRMSE_keras: 0.2611 - val_loss: 0.3744 - val_MCRMSE_keras: 0.3744\n",
      "Epoch 23/50\n",
      "440/440 [==============================] - 5s 11ms/step - loss: 0.2672 - MCRMSE_keras: 0.2672 - val_loss: 0.3758 - val_MCRMSE_keras: 0.3758\n",
      "Epoch 24/50\n",
      "440/440 [==============================] - 5s 11ms/step - loss: 0.2719 - MCRMSE_keras: 0.2719 - val_loss: 0.3484 - val_MCRMSE_keras: 0.3484\n",
      "Epoch 25/50\n",
      "440/440 [==============================] - 5s 10ms/step - loss: 0.2501 - MCRMSE_keras: 0.2501 - val_loss: 0.3776 - val_MCRMSE_keras: 0.3776\n",
      "Epoch 26/50\n",
      "440/440 [==============================] - 5s 10ms/step - loss: 0.2504 - MCRMSE_keras: 0.2504 - val_loss: 0.3901 - val_MCRMSE_keras: 0.3901\n"
     ]
    },
    {
     "data": {
      "text/plain": [
       "<keras.callbacks.History at 0x7fa3845b05e0>"
      ]
     },
     "execution_count": 8,
     "metadata": {},
     "output_type": "execute_result"
    },
    {
     "name": "stdout",
     "output_type": "stream",
     "text": [
      "1/1 [==============================] - 0s 162ms/step\n"
     ]
    },
    {
     "data": {
      "text/html": [
       "<div>\n",
       "<style scoped>\n",
       "    .dataframe tbody tr th:only-of-type {\n",
       "        vertical-align: middle;\n",
       "    }\n",
       "\n",
       "    .dataframe tbody tr th {\n",
       "        vertical-align: top;\n",
       "    }\n",
       "\n",
       "    .dataframe thead th {\n",
       "        text-align: right;\n",
       "    }\n",
       "</style>\n",
       "<table border=\"1\" class=\"dataframe\">\n",
       "  <thead>\n",
       "    <tr style=\"text-align: right;\">\n",
       "      <th></th>\n",
       "      <th>cohesion</th>\n",
       "      <th>syntax</th>\n",
       "      <th>vocabulary</th>\n",
       "      <th>phraseology</th>\n",
       "      <th>grammar</th>\n",
       "      <th>conventions</th>\n",
       "    </tr>\n",
       "    <tr>\n",
       "      <th>text_id</th>\n",
       "      <th></th>\n",
       "      <th></th>\n",
       "      <th></th>\n",
       "      <th></th>\n",
       "      <th></th>\n",
       "      <th></th>\n",
       "    </tr>\n",
       "  </thead>\n",
       "  <tbody>\n",
       "    <tr>\n",
       "      <th>0000C359D63E</th>\n",
       "      <td>2.989588</td>\n",
       "      <td>2.980597</td>\n",
       "      <td>3.171119</td>\n",
       "      <td>3.033654</td>\n",
       "      <td>2.925820</td>\n",
       "      <td>2.951505</td>\n",
       "    </tr>\n",
       "    <tr>\n",
       "      <th>000BAD50D026</th>\n",
       "      <td>2.907359</td>\n",
       "      <td>2.897914</td>\n",
       "      <td>3.104528</td>\n",
       "      <td>2.943808</td>\n",
       "      <td>2.834405</td>\n",
       "      <td>2.868799</td>\n",
       "    </tr>\n",
       "    <tr>\n",
       "      <th>00367BB2546B</th>\n",
       "      <td>3.439269</td>\n",
       "      <td>3.368748</td>\n",
       "      <td>3.525527</td>\n",
       "      <td>3.531998</td>\n",
       "      <td>3.427338</td>\n",
       "      <td>3.441388</td>\n",
       "    </tr>\n",
       "  </tbody>\n",
       "</table>\n",
       "</div>"
      ],
      "text/plain": [
       "              cohesion    syntax  vocabulary  phraseology   grammar  \\\n",
       "text_id                                                               \n",
       "0000C359D63E  2.989588  2.980597    3.171119     3.033654  2.925820   \n",
       "000BAD50D026  2.907359  2.897914    3.104528     2.943808  2.834405   \n",
       "00367BB2546B  3.439269  3.368748    3.525527     3.531998  3.427338   \n",
       "\n",
       "              conventions  \n",
       "text_id                    \n",
       "0000C359D63E     2.951505  \n",
       "000BAD50D026     2.868799  \n",
       "00367BB2546B     3.441388  "
      ]
     },
     "execution_count": 8,
     "metadata": {},
     "output_type": "execute_result"
    }
   ],
   "source": [
    "keras2_model = Sequential()\n",
    "keras2_model.add(Dense(2000, input_dim=X_train_tfidf.shape[1], activation=\"relu\"))\n",
    "keras2_model.add(BatchNormalization())\n",
    "keras2_model.add(Dense(2000, activation=\"relu\"))\n",
    "keras2_model.add(Dropout(.3))\n",
    "keras2_model.add(Dense(3000, activation=LeakyReLU(.1)))\n",
    "keras2_model.add(Dropout(.2))\n",
    "keras2_model.add(Dense(2000, activation=\"relu\"))\n",
    "keras2_model.add(Dense(500, activation=\"relu\"))\n",
    "keras2_model.add(Dense(3000, activation=\"softplus\"))\n",
    "keras2_model.add(BatchNormalization())\n",
    "keras2_model.add(Dense(1000, activation=LeakyReLU(.1)))\n",
    "keras2_model.add(Dropout(.3))\n",
    "keras2_model.add(Dense(3000, activation=\"softsign\"))\n",
    "keras2_model.add(Dense(1000, activation=LeakyReLU(.1)))\n",
    "keras2_model.add(Dropout(.1))\n",
    "keras2_model.add(Dense(3000, activation=\"softplus\"))\n",
    "keras2_model.add(Dropout(.4))\n",
    "keras2_model.add(Dense(3000, activation=\"relu\"))\n",
    "keras2_model.add(Dense(1000, activation=\"relu\"))\n",
    "keras2_model.add(BatchNormalization())\n",
    "keras2_model.add(Dense(y_train.shape[1], activation=\"sigmoid\"))\n",
    "keras2_model.add(Rescaling(4, offset=1))\n",
    "\n",
    "optimizer = optimizers.Adam(amsgrad=True)\n",
    "keras2_model.compile(loss=MCRMSE_keras, optimizer=optimizer, metrics=[MCRMSE_keras])\n",
    "keras2_model.fit(X_train_tfidf, y_train_tfidf, batch_size=2**3, epochs=50, verbose=1,\n",
    "          validation_data=(X_val_tfidf, y_val_tfidf), workers=30, use_multiprocessing=True,\n",
    "          callbacks=[EarlyStopping(monitor=\"val_loss\", patience=5, restore_best_weights=True)])\n",
    "\n",
    "keras2_pred = pd.DataFrame(keras2_model.predict(X_test_tfidf), columns=cols, index=X_test_idx)\n",
    "keras2_pred"
   ]
  },
  {
   "cell_type": "markdown",
   "id": "73d9b13a-79d6-492f-a9ff-32f11a2f330a",
   "metadata": {},
   "source": [
    "## 2.3. keras3: small Keras Model with roberta-encoding (2d input)"
   ]
  },
  {
   "cell_type": "code",
   "execution_count": 94,
   "id": "d40c12c6-2447-4281-ab9c-119b07f4860b",
   "metadata": {},
   "outputs": [
    {
     "name": "stdout",
     "output_type": "stream",
     "text": [
      "Epoch 1/30\n",
      "440/440 [==============================] - 2s 3ms/step - loss: 0.4955 - MCRMSE_keras: 0.4955 - val_loss: 0.4131 - val_MCRMSE_keras: 0.4129\n",
      "Epoch 2/30\n",
      "440/440 [==============================] - 1s 3ms/step - loss: 0.2854 - MCRMSE_keras: 0.2854 - val_loss: 0.2856 - val_MCRMSE_keras: 0.2854\n",
      "Epoch 3/30\n",
      "440/440 [==============================] - 1s 3ms/step - loss: 0.2196 - MCRMSE_keras: 0.2196 - val_loss: 0.3135 - val_MCRMSE_keras: 0.3133\n",
      "Epoch 4/30\n",
      "440/440 [==============================] - 1s 3ms/step - loss: 0.1394 - MCRMSE_keras: 0.1394 - val_loss: 0.3025 - val_MCRMSE_keras: 0.3022\n",
      "Epoch 5/30\n",
      "440/440 [==============================] - 2s 4ms/step - loss: 0.1174 - MCRMSE_keras: 0.1174 - val_loss: 0.2965 - val_MCRMSE_keras: 0.2963\n",
      "Epoch 6/30\n",
      "440/440 [==============================] - 2s 4ms/step - loss: 0.0956 - MCRMSE_keras: 0.0956 - val_loss: 0.2983 - val_MCRMSE_keras: 0.2981\n",
      "Epoch 7/30\n",
      "440/440 [==============================] - 2s 4ms/step - loss: 0.0795 - MCRMSE_keras: 0.0795 - val_loss: 0.2958 - val_MCRMSE_keras: 0.2956\n"
     ]
    },
    {
     "data": {
      "text/plain": [
       "<keras.callbacks.History at 0x7fa31432dd00>"
      ]
     },
     "execution_count": 94,
     "metadata": {},
     "output_type": "execute_result"
    },
    {
     "name": "stdout",
     "output_type": "stream",
     "text": [
      "1/1 [==============================] - 0s 61ms/step\n"
     ]
    },
    {
     "data": {
      "text/html": [
       "<div>\n",
       "<style scoped>\n",
       "    .dataframe tbody tr th:only-of-type {\n",
       "        vertical-align: middle;\n",
       "    }\n",
       "\n",
       "    .dataframe tbody tr th {\n",
       "        vertical-align: top;\n",
       "    }\n",
       "\n",
       "    .dataframe thead th {\n",
       "        text-align: right;\n",
       "    }\n",
       "</style>\n",
       "<table border=\"1\" class=\"dataframe\">\n",
       "  <thead>\n",
       "    <tr style=\"text-align: right;\">\n",
       "      <th></th>\n",
       "      <th>cohesion</th>\n",
       "      <th>syntax</th>\n",
       "      <th>vocabulary</th>\n",
       "      <th>phraseology</th>\n",
       "      <th>grammar</th>\n",
       "      <th>conventions</th>\n",
       "    </tr>\n",
       "    <tr>\n",
       "      <th>text_id</th>\n",
       "      <th></th>\n",
       "      <th></th>\n",
       "      <th></th>\n",
       "      <th></th>\n",
       "      <th></th>\n",
       "      <th></th>\n",
       "    </tr>\n",
       "  </thead>\n",
       "  <tbody>\n",
       "    <tr>\n",
       "      <th>0000C359D63E</th>\n",
       "      <td>2.752523</td>\n",
       "      <td>2.717053</td>\n",
       "      <td>2.872118</td>\n",
       "      <td>2.760310</td>\n",
       "      <td>2.689044</td>\n",
       "      <td>2.745223</td>\n",
       "    </tr>\n",
       "    <tr>\n",
       "      <th>000BAD50D026</th>\n",
       "      <td>2.699581</td>\n",
       "      <td>2.544492</td>\n",
       "      <td>2.775638</td>\n",
       "      <td>2.642119</td>\n",
       "      <td>2.537196</td>\n",
       "      <td>2.584038</td>\n",
       "    </tr>\n",
       "    <tr>\n",
       "      <th>00367BB2546B</th>\n",
       "      <td>3.698744</td>\n",
       "      <td>3.682313</td>\n",
       "      <td>3.622563</td>\n",
       "      <td>3.659604</td>\n",
       "      <td>3.627332</td>\n",
       "      <td>3.645622</td>\n",
       "    </tr>\n",
       "  </tbody>\n",
       "</table>\n",
       "</div>"
      ],
      "text/plain": [
       "              cohesion    syntax  vocabulary  phraseology   grammar  \\\n",
       "text_id                                                               \n",
       "0000C359D63E  2.752523  2.717053    2.872118     2.760310  2.689044   \n",
       "000BAD50D026  2.699581  2.544492    2.775638     2.642119  2.537196   \n",
       "00367BB2546B  3.698744  3.682313    3.622563     3.659604  3.627332   \n",
       "\n",
       "              conventions  \n",
       "text_id                    \n",
       "0000C359D63E     2.745223  \n",
       "000BAD50D026     2.584038  \n",
       "00367BB2546B     3.645622  "
      ]
     },
     "execution_count": 94,
     "metadata": {},
     "output_type": "execute_result"
    }
   ],
   "source": [
    "keras3_model = Sequential()\n",
    "keras3_model.add(Dense(500, input_dim=X_train_roberta_pca.shape[1],  activation=\"relu\"))\n",
    "keras3_model.add(Dense(1000, activation=\"relu\"))\n",
    "keras3_model.add(Dropout(.5))\n",
    "keras3_model.add(Dense(500, activation=\"relu\"))\n",
    "keras3_model.add(Dense(y_train_roberta.shape[1], activation=\"sigmoid\"))\n",
    "keras3_model.add(Rescaling(4, offset=1))\n",
    "\n",
    "optimizer = optimizers.Adam(amsgrad=True)\n",
    "keras3_model.compile(loss=MCRMSE_keras, optimizer=optimizer, metrics=[MCRMSE_keras])\n",
    "\n",
    "keras3_model.fit(X_train_roberta_pca, y_train_roberta, batch_size=2**3, epochs=30, verbose=1,\n",
    "          validation_data=(X_val_roberta_pca, y_val_roberta), workers=30, use_multiprocessing=True,\n",
    "          callbacks=[EarlyStopping(monitor=\"val_loss\", patience=5, restore_best_weights=True)])\n",
    "\n",
    "keras3_pred = pd.DataFrame(keras3_model.predict(X_test_roberta_pca), columns=cols, index=X_test_idx)\n",
    "keras3_pred"
   ]
  },
  {
   "cell_type": "markdown",
   "id": "49366edb-67a1-48a0-89c2-8f3045094dd3",
   "metadata": {},
   "source": [
    "## 2.4. keras4: small CNN Keras Model with roberta-encoding (3d input)"
   ]
  },
  {
   "cell_type": "code",
   "execution_count": 10,
   "id": "74e43b7c-5957-47b1-bdea-afff1437cb22",
   "metadata": {},
   "outputs": [
    {
     "name": "stdout",
     "output_type": "stream",
     "text": [
      "Epoch 1/30\n",
      "440/440 [==============================] - 63s 137ms/step - loss: 127.9664 - MCRMSE_keras: 127.9664 - val_loss: 0.7688 - val_MCRMSE_keras: 0.7682\n",
      "Epoch 2/30\n",
      "440/440 [==============================] - 56s 127ms/step - loss: 0.3792 - MCRMSE_keras: 0.3792 - val_loss: 1.1548 - val_MCRMSE_keras: 1.1543\n",
      "Epoch 3/30\n",
      "440/440 [==============================] - 56s 127ms/step - loss: 0.3358 - MCRMSE_keras: 0.3358 - val_loss: 1.6506 - val_MCRMSE_keras: 1.6498\n",
      "Epoch 4/30\n",
      "440/440 [==============================] - 56s 128ms/step - loss: 0.3219 - MCRMSE_keras: 0.3219 - val_loss: 1.4516 - val_MCRMSE_keras: 1.4509\n",
      "Epoch 5/30\n",
      "440/440 [==============================] - 58s 131ms/step - loss: 0.2591 - MCRMSE_keras: 0.2591 - val_loss: 0.3834 - val_MCRMSE_keras: 0.3835\n",
      "Epoch 6/30\n",
      "440/440 [==============================] - 56s 127ms/step - loss: 0.2129 - MCRMSE_keras: 0.2129 - val_loss: 0.5669 - val_MCRMSE_keras: 0.5674\n",
      "Epoch 7/30\n",
      "440/440 [==============================] - 56s 127ms/step - loss: 0.1781 - MCRMSE_keras: 0.1781 - val_loss: 0.4109 - val_MCRMSE_keras: 0.4110\n",
      "Epoch 8/30\n",
      "440/440 [==============================] - 56s 127ms/step - loss: 0.1493 - MCRMSE_keras: 0.1493 - val_loss: 0.6574 - val_MCRMSE_keras: 0.6576\n",
      "Epoch 9/30\n",
      "440/440 [==============================] - 56s 127ms/step - loss: 0.1343 - MCRMSE_keras: 0.1343 - val_loss: 0.5091 - val_MCRMSE_keras: 0.5088\n",
      "Epoch 10/30\n",
      "440/440 [==============================] - 57s 129ms/step - loss: 0.1275 - MCRMSE_keras: 0.1275 - val_loss: 0.4982 - val_MCRMSE_keras: 0.4986\n"
     ]
    },
    {
     "data": {
      "text/plain": [
       "<keras.callbacks.History at 0x7fa3844b2040>"
      ]
     },
     "execution_count": 10,
     "metadata": {},
     "output_type": "execute_result"
    },
    {
     "name": "stdout",
     "output_type": "stream",
     "text": [
      "WARNING:tensorflow:5 out of the last 18 calls to <function Model.make_predict_function.<locals>.predict_function at 0x7fa3c82084c0> triggered tf.function retracing. Tracing is expensive and the excessive number of tracings could be due to (1) creating @tf.function repeatedly in a loop, (2) passing tensors with different shapes, (3) passing Python objects instead of tensors. For (1), please define your @tf.function outside of the loop. For (2), @tf.function has reduce_retracing=True option that can avoid unnecessary retracing. For (3), please refer to https://www.tensorflow.org/guide/function#controlling_retracing and https://www.tensorflow.org/api_docs/python/tf/function for  more details.\n"
     ]
    },
    {
     "name": "stderr",
     "output_type": "stream",
     "text": [
      "WARNING:tensorflow:5 out of the last 18 calls to <function Model.make_predict_function.<locals>.predict_function at 0x7fa3c82084c0> triggered tf.function retracing. Tracing is expensive and the excessive number of tracings could be due to (1) creating @tf.function repeatedly in a loop, (2) passing tensors with different shapes, (3) passing Python objects instead of tensors. For (1), please define your @tf.function outside of the loop. For (2), @tf.function has reduce_retracing=True option that can avoid unnecessary retracing. For (3), please refer to https://www.tensorflow.org/guide/function#controlling_retracing and https://www.tensorflow.org/api_docs/python/tf/function for  more details.\n"
     ]
    },
    {
     "name": "stdout",
     "output_type": "stream",
     "text": [
      "1/1 [==============================] - 0s 200ms/step\n"
     ]
    },
    {
     "data": {
      "text/html": [
       "<div>\n",
       "<style scoped>\n",
       "    .dataframe tbody tr th:only-of-type {\n",
       "        vertical-align: middle;\n",
       "    }\n",
       "\n",
       "    .dataframe tbody tr th {\n",
       "        vertical-align: top;\n",
       "    }\n",
       "\n",
       "    .dataframe thead th {\n",
       "        text-align: right;\n",
       "    }\n",
       "</style>\n",
       "<table border=\"1\" class=\"dataframe\">\n",
       "  <thead>\n",
       "    <tr style=\"text-align: right;\">\n",
       "      <th></th>\n",
       "      <th>cohesion</th>\n",
       "      <th>syntax</th>\n",
       "      <th>vocabulary</th>\n",
       "      <th>phraseology</th>\n",
       "      <th>grammar</th>\n",
       "      <th>conventions</th>\n",
       "    </tr>\n",
       "    <tr>\n",
       "      <th>text_id</th>\n",
       "      <th></th>\n",
       "      <th></th>\n",
       "      <th></th>\n",
       "      <th></th>\n",
       "      <th></th>\n",
       "      <th></th>\n",
       "    </tr>\n",
       "  </thead>\n",
       "  <tbody>\n",
       "    <tr>\n",
       "      <th>0000C359D63E</th>\n",
       "      <td>2.643941</td>\n",
       "      <td>2.785937</td>\n",
       "      <td>3.085424</td>\n",
       "      <td>2.716612</td>\n",
       "      <td>2.739584</td>\n",
       "      <td>2.518022</td>\n",
       "    </tr>\n",
       "    <tr>\n",
       "      <th>000BAD50D026</th>\n",
       "      <td>2.747708</td>\n",
       "      <td>2.415225</td>\n",
       "      <td>2.662930</td>\n",
       "      <td>2.298503</td>\n",
       "      <td>2.178475</td>\n",
       "      <td>2.592122</td>\n",
       "    </tr>\n",
       "    <tr>\n",
       "      <th>00367BB2546B</th>\n",
       "      <td>2.817374</td>\n",
       "      <td>2.855446</td>\n",
       "      <td>3.147187</td>\n",
       "      <td>2.696755</td>\n",
       "      <td>2.697556</td>\n",
       "      <td>2.833001</td>\n",
       "    </tr>\n",
       "  </tbody>\n",
       "</table>\n",
       "</div>"
      ],
      "text/plain": [
       "              cohesion    syntax  vocabulary  phraseology   grammar  \\\n",
       "text_id                                                               \n",
       "0000C359D63E  2.643941  2.785937    3.085424     2.716612  2.739584   \n",
       "000BAD50D026  2.747708  2.415225    2.662930     2.298503  2.178475   \n",
       "00367BB2546B  2.817374  2.855446    3.147187     2.696755  2.697556   \n",
       "\n",
       "              conventions  \n",
       "text_id                    \n",
       "0000C359D63E     2.518022  \n",
       "000BAD50D026     2.592122  \n",
       "00367BB2546B     2.833001  "
      ]
     },
     "execution_count": 10,
     "metadata": {},
     "output_type": "execute_result"
    }
   ],
   "source": [
    "keras4_model = Sequential()\n",
    "keras4_model.add(BatchNormalization())\n",
    "keras4_model.add(Conv2D(32, (3, 3), activation='relu', input_shape=X_train_roberta_3d.shape[1:]))\n",
    "keras4_model.add(MaxPooling2D((2, 2)))\n",
    "keras4_model.add(Conv2D(64, (3, 3), activation='relu'))\n",
    "keras4_model.add(MaxPooling2D((2, 2)))\n",
    "keras4_model.add(Conv2D(64, (3, 3), activation='relu'))\n",
    "keras4_model.add(Flatten())\n",
    "keras4_model.add(BatchNormalization())\n",
    "keras4_model.add(Dense(500,  activation=\"relu\"))\n",
    "keras4_model.add(Dense(1000, activation=\"relu\"))\n",
    "keras4_model.add(Dropout(.1))\n",
    "keras4_model.add(Dense(500, activation=\"relu\"))\n",
    "keras4_model.add(Dense(y_train_roberta.shape[1], activation=\"linear\"))\n",
    "#keras4_model.add(Rescaling(4, offset=1))z\n",
    "\n",
    "optimizer = optimizers.Adam(amsgrad=True)\n",
    "keras4_model.compile(loss=MCRMSE_keras, optimizer=optimizer, metrics=[MCRMSE_keras])\n",
    "\n",
    "keras4_model.fit(X_train_roberta_3d, y_train_roberta, batch_size=2**3, epochs=30, verbose=1,\n",
    "          validation_data=(X_val_roberta_3d, y_val_roberta), workers=30, use_multiprocessing=True,\n",
    "          callbacks=[EarlyStopping(monitor=\"val_loss\", patience=5, restore_best_weights=True)])\n",
    "\n",
    "keras4_pred = pd.DataFrame(keras4_model.predict(X_test_roberta_3d), columns=cols, index=X_test_idx)\n",
    "keras4_pred"
   ]
  },
  {
   "cell_type": "markdown",
   "id": "a1de77eb-c43f-486f-8198-c99ca8c55bf2",
   "metadata": {},
   "source": [
    "## 2.5. keras5: small Keras Model with roberta-encoding (2d input - 1 choosed layer)"
   ]
  },
  {
   "cell_type": "code",
   "execution_count": 9,
   "id": "123a0a2c-6479-4aa2-8b59-48b995ce422e",
   "metadata": {},
   "outputs": [
    {
     "name": "stdout",
     "output_type": "stream",
     "text": [
      "Epoch 1/30\n",
      "440/440 [==============================] - 2s 3ms/step - loss: 0.3733 - MCRMSE_keras: 0.3733 - val_loss: 0.3298 - val_MCRMSE_keras: 0.3295\n",
      "Epoch 2/30\n",
      "440/440 [==============================] - 1s 3ms/step - loss: 0.2992 - MCRMSE_keras: 0.2992 - val_loss: 0.3258 - val_MCRMSE_keras: 0.3256\n",
      "Epoch 3/30\n",
      "440/440 [==============================] - 1s 3ms/step - loss: 0.2799 - MCRMSE_keras: 0.2799 - val_loss: 0.3284 - val_MCRMSE_keras: 0.3280\n",
      "Epoch 4/30\n",
      "440/440 [==============================] - 1s 3ms/step - loss: 0.2623 - MCRMSE_keras: 0.2623 - val_loss: 0.3257 - val_MCRMSE_keras: 0.3253\n",
      "Epoch 5/30\n",
      "440/440 [==============================] - 1s 3ms/step - loss: 0.2487 - MCRMSE_keras: 0.2487 - val_loss: 0.3263 - val_MCRMSE_keras: 0.3260\n",
      "Epoch 6/30\n",
      "440/440 [==============================] - 1s 3ms/step - loss: 0.2422 - MCRMSE_keras: 0.2422 - val_loss: 0.3123 - val_MCRMSE_keras: 0.3120\n",
      "Epoch 7/30\n",
      "440/440 [==============================] - 1s 3ms/step - loss: 0.2275 - MCRMSE_keras: 0.2275 - val_loss: 0.3342 - val_MCRMSE_keras: 0.3339\n",
      "Epoch 8/30\n",
      "440/440 [==============================] - 1s 3ms/step - loss: 0.2217 - MCRMSE_keras: 0.2217 - val_loss: 0.3281 - val_MCRMSE_keras: 0.3277\n",
      "Epoch 9/30\n",
      "440/440 [==============================] - 1s 3ms/step - loss: 0.2096 - MCRMSE_keras: 0.2096 - val_loss: 0.3165 - val_MCRMSE_keras: 0.3161\n",
      "Epoch 10/30\n",
      "440/440 [==============================] - 1s 3ms/step - loss: 0.2025 - MCRMSE_keras: 0.2025 - val_loss: 0.3278 - val_MCRMSE_keras: 0.3273\n",
      "Epoch 11/30\n",
      "440/440 [==============================] - 1s 3ms/step - loss: 0.1937 - MCRMSE_keras: 0.1937 - val_loss: 0.3140 - val_MCRMSE_keras: 0.3137\n"
     ]
    },
    {
     "data": {
      "text/plain": [
       "<keras.callbacks.History at 0x7fa3845e3a00>"
      ]
     },
     "execution_count": 9,
     "metadata": {},
     "output_type": "execute_result"
    },
    {
     "name": "stdout",
     "output_type": "stream",
     "text": [
      "1/1 [==============================] - 0s 62ms/step\n"
     ]
    },
    {
     "data": {
      "text/html": [
       "<div>\n",
       "<style scoped>\n",
       "    .dataframe tbody tr th:only-of-type {\n",
       "        vertical-align: middle;\n",
       "    }\n",
       "\n",
       "    .dataframe tbody tr th {\n",
       "        vertical-align: top;\n",
       "    }\n",
       "\n",
       "    .dataframe thead th {\n",
       "        text-align: right;\n",
       "    }\n",
       "</style>\n",
       "<table border=\"1\" class=\"dataframe\">\n",
       "  <thead>\n",
       "    <tr style=\"text-align: right;\">\n",
       "      <th></th>\n",
       "      <th>cohesion</th>\n",
       "      <th>syntax</th>\n",
       "      <th>vocabulary</th>\n",
       "      <th>phraseology</th>\n",
       "      <th>grammar</th>\n",
       "      <th>conventions</th>\n",
       "    </tr>\n",
       "    <tr>\n",
       "      <th>text_id</th>\n",
       "      <th></th>\n",
       "      <th></th>\n",
       "      <th></th>\n",
       "      <th></th>\n",
       "      <th></th>\n",
       "      <th></th>\n",
       "    </tr>\n",
       "  </thead>\n",
       "  <tbody>\n",
       "    <tr>\n",
       "      <th>0000C359D63E</th>\n",
       "      <td>2.647943</td>\n",
       "      <td>2.580876</td>\n",
       "      <td>2.835324</td>\n",
       "      <td>2.696351</td>\n",
       "      <td>2.637722</td>\n",
       "      <td>2.527094</td>\n",
       "    </tr>\n",
       "    <tr>\n",
       "      <th>000BAD50D026</th>\n",
       "      <td>3.129585</td>\n",
       "      <td>2.991297</td>\n",
       "      <td>3.167293</td>\n",
       "      <td>3.060746</td>\n",
       "      <td>2.941916</td>\n",
       "      <td>3.096443</td>\n",
       "    </tr>\n",
       "    <tr>\n",
       "      <th>00367BB2546B</th>\n",
       "      <td>3.276878</td>\n",
       "      <td>3.265459</td>\n",
       "      <td>3.469006</td>\n",
       "      <td>3.352366</td>\n",
       "      <td>3.356730</td>\n",
       "      <td>3.336330</td>\n",
       "    </tr>\n",
       "  </tbody>\n",
       "</table>\n",
       "</div>"
      ],
      "text/plain": [
       "              cohesion    syntax  vocabulary  phraseology   grammar  \\\n",
       "text_id                                                               \n",
       "0000C359D63E  2.647943  2.580876    2.835324     2.696351  2.637722   \n",
       "000BAD50D026  3.129585  2.991297    3.167293     3.060746  2.941916   \n",
       "00367BB2546B  3.276878  3.265459    3.469006     3.352366  3.356730   \n",
       "\n",
       "              conventions  \n",
       "text_id                    \n",
       "0000C359D63E     2.527094  \n",
       "000BAD50D026     3.096443  \n",
       "00367BB2546B     3.336330  "
      ]
     },
     "execution_count": 9,
     "metadata": {},
     "output_type": "execute_result"
    }
   ],
   "source": [
    "keras5_target = 1\n",
    "\n",
    "keras5_model = Sequential()\n",
    "keras5_model.add(Dense(500, input_dim=X_train_roberta_3d[:,keras5_target,:,0].shape[1],  activation=\"relu\"))\n",
    "keras5_model.add(Dense(1000, activation=\"relu\"))\n",
    "keras5_model.add(Dropout(.5))\n",
    "keras5_model.add(Dense(500, activation=\"relu\"))\n",
    "keras5_model.add(Dense(y_train_roberta.shape[1], activation=\"sigmoid\"))\n",
    "keras5_model.add(Rescaling(4, offset=1))\n",
    "\n",
    "optimizer = optimizers.Adam(amsgrad=True)\n",
    "keras5_model.compile(loss=MCRMSE_keras, optimizer=optimizer, metrics=[MCRMSE_keras])\n",
    "\n",
    "keras5_model.fit(X_train_roberta_3d[:,keras5_target,:,0], y_train_roberta, batch_size=2**3, epochs=30, verbose=1,\n",
    "          validation_data=(X_val_roberta_3d[:,keras5_target,:,0], y_val_roberta), workers=30, use_multiprocessing=True,\n",
    "          callbacks=[EarlyStopping(monitor=\"val_loss\", patience=5, restore_best_weights=True)])\n",
    "\n",
    "keras5_pred = pd.DataFrame(keras5_model.predict(X_test_roberta_3d[:,keras5_target,:,0]), columns=cols, index=X_test_idx)\n",
    "keras5_pred"
   ]
  },
  {
   "cell_type": "markdown",
   "id": "daf50a07-1bdc-42fc-97fb-3a3fe0a550fa",
   "metadata": {},
   "source": [
    "## 2.4. lgb1: LightGBM Model with tfidf-encoding"
   ]
  },
  {
   "cell_type": "code",
   "execution_count": 11,
   "id": "c39e2c20-4c21-47a6-86f2-a3d3df1d64d0",
   "metadata": {},
   "outputs": [
    {
     "name": "stdout",
     "output_type": "stream",
     "text": [
      "Training until validation scores don't improve for 50 rounds\n",
      "[100]\ttraining's rmse: 0.229601\tvalid_1's rmse: 0.604514\n",
      "Early stopping, best iteration is:\n",
      "[58]\ttraining's rmse: 0.323036\tvalid_1's rmse: 0.598864\n",
      "Training until validation scores don't improve for 50 rounds\n",
      "[100]\ttraining's rmse: 0.228208\tvalid_1's rmse: 0.555162\n",
      "Early stopping, best iteration is:\n",
      "[71]\ttraining's rmse: 0.286076\tvalid_1's rmse: 0.548377\n",
      "Training until validation scores don't improve for 50 rounds\n",
      "Early stopping, best iteration is:\n",
      "[41]\ttraining's rmse: 0.322176\tvalid_1's rmse: 0.498272\n",
      "Training until validation scores don't improve for 50 rounds\n",
      "[100]\ttraining's rmse: 0.229137\tvalid_1's rmse: 0.556103\n",
      "Early stopping, best iteration is:\n",
      "[72]\ttraining's rmse: 0.283216\tvalid_1's rmse: 0.552301\n",
      "Training until validation scores don't improve for 50 rounds\n",
      "[100]\ttraining's rmse: 0.249628\tvalid_1's rmse: 0.618536\n",
      "Early stopping, best iteration is:\n",
      "[58]\ttraining's rmse: 0.346478\tvalid_1's rmse: 0.612825\n",
      "Training until validation scores don't improve for 50 rounds\n",
      "Early stopping, best iteration is:\n",
      "[42]\ttraining's rmse: 0.382837\tvalid_1's rmse: 0.605135\n"
     ]
    },
    {
     "data": {
      "text/html": [
       "<div>\n",
       "<style scoped>\n",
       "    .dataframe tbody tr th:only-of-type {\n",
       "        vertical-align: middle;\n",
       "    }\n",
       "\n",
       "    .dataframe tbody tr th {\n",
       "        vertical-align: top;\n",
       "    }\n",
       "\n",
       "    .dataframe thead th {\n",
       "        text-align: right;\n",
       "    }\n",
       "</style>\n",
       "<table border=\"1\" class=\"dataframe\">\n",
       "  <thead>\n",
       "    <tr style=\"text-align: right;\">\n",
       "      <th></th>\n",
       "      <th>cohesion</th>\n",
       "      <th>syntax</th>\n",
       "      <th>vocabulary</th>\n",
       "      <th>phraseology</th>\n",
       "      <th>grammar</th>\n",
       "      <th>conventions</th>\n",
       "    </tr>\n",
       "    <tr>\n",
       "      <th>text_id</th>\n",
       "      <th></th>\n",
       "      <th></th>\n",
       "      <th></th>\n",
       "      <th></th>\n",
       "      <th></th>\n",
       "      <th></th>\n",
       "    </tr>\n",
       "  </thead>\n",
       "  <tbody>\n",
       "    <tr>\n",
       "      <th>0000C359D63E</th>\n",
       "      <td>3.019085</td>\n",
       "      <td>2.909469</td>\n",
       "      <td>3.166960</td>\n",
       "      <td>2.825631</td>\n",
       "      <td>2.714723</td>\n",
       "      <td>2.622996</td>\n",
       "    </tr>\n",
       "    <tr>\n",
       "      <th>000BAD50D026</th>\n",
       "      <td>3.219392</td>\n",
       "      <td>2.851266</td>\n",
       "      <td>3.033757</td>\n",
       "      <td>3.006670</td>\n",
       "      <td>2.572265</td>\n",
       "      <td>3.079148</td>\n",
       "    </tr>\n",
       "    <tr>\n",
       "      <th>00367BB2546B</th>\n",
       "      <td>3.773325</td>\n",
       "      <td>3.421739</td>\n",
       "      <td>3.666559</td>\n",
       "      <td>3.480376</td>\n",
       "      <td>3.541353</td>\n",
       "      <td>3.499535</td>\n",
       "    </tr>\n",
       "  </tbody>\n",
       "</table>\n",
       "</div>"
      ],
      "text/plain": [
       "              cohesion    syntax  vocabulary  phraseology   grammar  \\\n",
       "text_id                                                               \n",
       "0000C359D63E  3.019085  2.909469    3.166960     2.825631  2.714723   \n",
       "000BAD50D026  3.219392  2.851266    3.033757     3.006670  2.572265   \n",
       "00367BB2546B  3.773325  3.421739    3.666559     3.480376  3.541353   \n",
       "\n",
       "              conventions  \n",
       "text_id                    \n",
       "0000C359D63E     2.622996  \n",
       "000BAD50D026     3.079148  \n",
       "00367BB2546B     3.499535  "
      ]
     },
     "execution_count": 11,
     "metadata": {},
     "output_type": "execute_result"
    }
   ],
   "source": [
    "lgb1_models = {}\n",
    "lgb1_preds = {}\n",
    "\n",
    "for score in cols:\n",
    "    lgb1_params = {'objective': 'regression',\n",
    "                   'metric': 'rmse',\n",
    "                   'verbosity': 0,\n",
    "                   'early_stopping_round': 50,\n",
    "                   'random_state': seed,\n",
    "                   'device': 'gpu'}\n",
    "    \n",
    "    train_set=lgb_trains_tfidf[score]\n",
    "    valid_sets=lgb_vals_tfidf[score]\n",
    "\n",
    "    lgb1_model = lgb.train(\n",
    "        params=lgb1_params,\n",
    "        train_set=train_set,\n",
    "        num_boost_round=1000,\n",
    "        valid_sets=(train_set, valid_sets),\n",
    "        callbacks=None,\n",
    "        verbose_eval=100\n",
    "    )\n",
    "    \n",
    "    lgb1_models[score] = lgb1_model\n",
    "    lgb1_preds[score] = lgb1_model.predict(X_test_tfidf)\n",
    "    \n",
    "lgb1_pred = pd.DataFrame(lgb1_preds, index=X_test_idx)\n",
    "lgb1_pred"
   ]
  },
  {
   "cell_type": "markdown",
   "id": "1f518d59-e091-4e1d-b551-cbb2b0fbe722",
   "metadata": {},
   "source": [
    "## 2.5. lgb2: LightGBM Model with roberta_ids"
   ]
  },
  {
   "cell_type": "code",
   "execution_count": null,
   "id": "15afdf15-79d9-4c16-9171-75d4bb40d2e1",
   "metadata": {},
   "outputs": [],
   "source": [
    "lgb2_models = {}\n",
    "lgb2_preds = {}\n",
    "\n",
    "for score in cols:\n",
    "    lgb2_params = {'objective': 'regression',\n",
    "                   'metric': 'rmse',\n",
    "                   'verbosity': 0,\n",
    "                   'early_stopping_round': 50,\n",
    "                   'random_state': seed,\n",
    "                   'device': 'gpu'}\n",
    "    \n",
    "    train_set=lgb_trains_roberta[score]\n",
    "    valid_sets=lgb_vals_roberta[score]\n",
    "\n",
    "    lgb2_model = lgb.train(\n",
    "        params=lgb2_params,\n",
    "        train_set=train_set,\n",
    "        num_boost_round=1000,\n",
    "        valid_sets=(train_set, valid_sets),\n",
    "        callbacks=None,\n",
    "        verbose_eval=100\n",
    "    )\n",
    "    \n",
    "    lgb2_models[score] = lgb2_model\n",
    "    lgb2_preds[score] = lgb2_model.predict(X_test_roberta_3d[:,1,:,0])\n",
    "    \n",
    "lgb2_pred = pd.DataFrame(lgb2_preds, index=X_test_idx)\n",
    "lgb2_pred"
   ]
  },
  {
   "cell_type": "markdown",
   "id": "875df3d1-7df6-4f97-a9f2-5d55b2754d64",
   "metadata": {},
   "source": [
    "## 2.5. lgb3: LightGBM Model with roberta-encoding"
   ]
  },
  {
   "cell_type": "code",
   "execution_count": 6,
   "id": "5b71ef0c-bee0-4ad8-a791-584cea04dd86",
   "metadata": {},
   "outputs": [
    {
     "name": "stdout",
     "output_type": "stream",
     "text": [
      "Training until validation scores don't improve for 50 rounds\n",
      "Early stopping, best iteration is:\n",
      "[36]\ttraining's rmse: 0.335681\tvalid_1's rmse: 0.605719\n",
      "Training until validation scores don't improve for 50 rounds\n",
      "Early stopping, best iteration is:\n",
      "[32]\ttraining's rmse: 0.334978\tvalid_1's rmse: 0.521349\n",
      "Training until validation scores don't improve for 50 rounds\n",
      "[100]\ttraining's rmse: 0.114305\tvalid_1's rmse: 0.529278\n",
      "Early stopping, best iteration is:\n",
      "[57]\ttraining's rmse: 0.212235\tvalid_1's rmse: 0.528903\n",
      "Training until validation scores don't improve for 50 rounds\n",
      "[100]\ttraining's rmse: 0.127145\tvalid_1's rmse: 0.544383\n",
      "Early stopping, best iteration is:\n",
      "[55]\ttraining's rmse: 0.242747\tvalid_1's rmse: 0.543852\n",
      "Training until validation scores don't improve for 50 rounds\n",
      "Early stopping, best iteration is:\n",
      "[42]\ttraining's rmse: 0.308323\tvalid_1's rmse: 0.596516\n",
      "Training until validation scores don't improve for 50 rounds\n",
      "Early stopping, best iteration is:\n",
      "[26]\ttraining's rmse: 0.381359\tvalid_1's rmse: 0.571637\n"
     ]
    },
    {
     "data": {
      "text/html": [
       "<div>\n",
       "<style scoped>\n",
       "    .dataframe tbody tr th:only-of-type {\n",
       "        vertical-align: middle;\n",
       "    }\n",
       "\n",
       "    .dataframe tbody tr th {\n",
       "        vertical-align: top;\n",
       "    }\n",
       "\n",
       "    .dataframe thead th {\n",
       "        text-align: right;\n",
       "    }\n",
       "</style>\n",
       "<table border=\"1\" class=\"dataframe\">\n",
       "  <thead>\n",
       "    <tr style=\"text-align: right;\">\n",
       "      <th></th>\n",
       "      <th>cohesion</th>\n",
       "      <th>syntax</th>\n",
       "      <th>vocabulary</th>\n",
       "      <th>phraseology</th>\n",
       "      <th>grammar</th>\n",
       "      <th>conventions</th>\n",
       "    </tr>\n",
       "    <tr>\n",
       "      <th>text_id</th>\n",
       "      <th></th>\n",
       "      <th></th>\n",
       "      <th></th>\n",
       "      <th></th>\n",
       "      <th></th>\n",
       "      <th></th>\n",
       "    </tr>\n",
       "  </thead>\n",
       "  <tbody>\n",
       "    <tr>\n",
       "      <th>0000C359D63E</th>\n",
       "      <td>2.955500</td>\n",
       "      <td>2.798980</td>\n",
       "      <td>3.170331</td>\n",
       "      <td>2.893913</td>\n",
       "      <td>2.706838</td>\n",
       "      <td>2.827876</td>\n",
       "    </tr>\n",
       "    <tr>\n",
       "      <th>000BAD50D026</th>\n",
       "      <td>2.698052</td>\n",
       "      <td>2.458195</td>\n",
       "      <td>2.779996</td>\n",
       "      <td>2.556159</td>\n",
       "      <td>2.439393</td>\n",
       "      <td>2.702144</td>\n",
       "    </tr>\n",
       "    <tr>\n",
       "      <th>00367BB2546B</th>\n",
       "      <td>3.192263</td>\n",
       "      <td>3.406182</td>\n",
       "      <td>3.712828</td>\n",
       "      <td>3.461215</td>\n",
       "      <td>3.423035</td>\n",
       "      <td>3.598236</td>\n",
       "    </tr>\n",
       "  </tbody>\n",
       "</table>\n",
       "</div>"
      ],
      "text/plain": [
       "              cohesion    syntax  vocabulary  phraseology   grammar  \\\n",
       "text_id                                                               \n",
       "0000C359D63E  2.955500  2.798980    3.170331     2.893913  2.706838   \n",
       "000BAD50D026  2.698052  2.458195    2.779996     2.556159  2.439393   \n",
       "00367BB2546B  3.192263  3.406182    3.712828     3.461215  3.423035   \n",
       "\n",
       "              conventions  \n",
       "text_id                    \n",
       "0000C359D63E     2.827876  \n",
       "000BAD50D026     2.702144  \n",
       "00367BB2546B     3.598236  "
      ]
     },
     "execution_count": 6,
     "metadata": {},
     "output_type": "execute_result"
    }
   ],
   "source": [
    "lgb3_models = {}\n",
    "lgb3_preds = {}\n",
    "\n",
    "for score in cols:\n",
    "    lgb3_params = {'objective': 'regression',\n",
    "                   'metric': 'rmse',\n",
    "                   'verbosity': 0,\n",
    "                   'early_stopping_round': 50,\n",
    "                   'random_state': seed,\n",
    "                   'device': 'gpu'}\n",
    "    \n",
    "    train_set=lgb_trains_roberta[score]\n",
    "    valid_sets=lgb_vals_roberta[score]\n",
    "\n",
    "    lgb3_model = lgb.train(\n",
    "        params=lgb3_params,\n",
    "        train_set=train_set,\n",
    "        num_boost_round=1000,\n",
    "        valid_sets=(train_set, valid_sets),\n",
    "        callbacks=None,\n",
    "        verbose_eval=100\n",
    "    )\n",
    "    \n",
    "    lgb3_models[score] = lgb3_model\n",
    "    lgb3_preds[score] = lgb3_model.predict(X_test_roberta_pca)\n",
    "    \n",
    "lgb3_pred = pd.DataFrame(lgb3_preds, index=X_test_idx)\n",
    "lgb3_pred"
   ]
  },
  {
   "cell_type": "markdown",
   "id": "18502278-eb0d-4d38-b3f1-d0a6399a3750",
   "metadata": {},
   "source": [
    "## 2.5. lgb4: LightGBM Model with roberta-encoding Classification"
   ]
  },
  {
   "cell_type": "code",
   "execution_count": 91,
   "id": "f598ad3d-8e97-45a3-9fc7-6288a1e80f40",
   "metadata": {},
   "outputs": [
    {
     "name": "stdout",
     "output_type": "stream",
     "text": [
      "Training until validation scores don't improve for 50 rounds\n",
      "Early stopping, best iteration is:\n",
      "[4]\ttraining's multi_logloss: 0.785821\tvalid_1's multi_logloss: 1.58326\n",
      "Training until validation scores don't improve for 50 rounds\n",
      "Early stopping, best iteration is:\n",
      "[5]\ttraining's multi_logloss: 0.665223\tvalid_1's multi_logloss: 1.41076\n",
      "Training until validation scores don't improve for 50 rounds\n",
      "Early stopping, best iteration is:\n",
      "[2]\ttraining's multi_logloss: 1.05247\tvalid_1's multi_logloss: 1.5921\n",
      "Training until validation scores don't improve for 50 rounds\n",
      "Early stopping, best iteration is:\n",
      "[4]\ttraining's multi_logloss: 0.773894\tvalid_1's multi_logloss: 1.42386\n",
      "Training until validation scores don't improve for 50 rounds\n",
      "Early stopping, best iteration is:\n",
      "[5]\ttraining's multi_logloss: 0.680759\tvalid_1's multi_logloss: 1.46841\n",
      "Training until validation scores don't improve for 50 rounds\n",
      "Early stopping, best iteration is:\n",
      "[3]\ttraining's multi_logloss: 0.907645\tvalid_1's multi_logloss: 1.54985\n"
     ]
    },
    {
     "data": {
      "text/html": [
       "<div>\n",
       "<style scoped>\n",
       "    .dataframe tbody tr th:only-of-type {\n",
       "        vertical-align: middle;\n",
       "    }\n",
       "\n",
       "    .dataframe tbody tr th {\n",
       "        vertical-align: top;\n",
       "    }\n",
       "\n",
       "    .dataframe thead th {\n",
       "        text-align: right;\n",
       "    }\n",
       "</style>\n",
       "<table border=\"1\" class=\"dataframe\">\n",
       "  <thead>\n",
       "    <tr style=\"text-align: right;\">\n",
       "      <th></th>\n",
       "      <th>cohesion</th>\n",
       "      <th>syntax</th>\n",
       "      <th>vocabulary</th>\n",
       "      <th>phraseology</th>\n",
       "      <th>grammar</th>\n",
       "      <th>conventions</th>\n",
       "    </tr>\n",
       "    <tr>\n",
       "      <th>text_id</th>\n",
       "      <th></th>\n",
       "      <th></th>\n",
       "      <th></th>\n",
       "      <th></th>\n",
       "      <th></th>\n",
       "      <th></th>\n",
       "    </tr>\n",
       "  </thead>\n",
       "  <tbody>\n",
       "    <tr>\n",
       "      <th>0000C359D63E</th>\n",
       "      <td>2.0</td>\n",
       "      <td>2.0</td>\n",
       "      <td>2.5</td>\n",
       "      <td>2.0</td>\n",
       "      <td>2.0</td>\n",
       "      <td>2.5</td>\n",
       "    </tr>\n",
       "    <tr>\n",
       "      <th>000BAD50D026</th>\n",
       "      <td>2.5</td>\n",
       "      <td>2.0</td>\n",
       "      <td>2.5</td>\n",
       "      <td>2.0</td>\n",
       "      <td>2.0</td>\n",
       "      <td>2.0</td>\n",
       "    </tr>\n",
       "    <tr>\n",
       "      <th>00367BB2546B</th>\n",
       "      <td>2.5</td>\n",
       "      <td>3.0</td>\n",
       "      <td>2.5</td>\n",
       "      <td>3.0</td>\n",
       "      <td>3.0</td>\n",
       "      <td>3.0</td>\n",
       "    </tr>\n",
       "  </tbody>\n",
       "</table>\n",
       "</div>"
      ],
      "text/plain": [
       "              cohesion  syntax  vocabulary  phraseology  grammar  conventions\n",
       "text_id                                                                      \n",
       "0000C359D63E       2.0     2.0         2.5          2.0      2.0          2.5\n",
       "000BAD50D026       2.5     2.0         2.5          2.0      2.0          2.0\n",
       "00367BB2546B       2.5     3.0         2.5          3.0      3.0          3.0"
      ]
     },
     "execution_count": 91,
     "metadata": {},
     "output_type": "execute_result"
    },
    {
     "data": {
      "text/html": [
       "<div>\n",
       "<style scoped>\n",
       "    .dataframe tbody tr th:only-of-type {\n",
       "        vertical-align: middle;\n",
       "    }\n",
       "\n",
       "    .dataframe tbody tr th {\n",
       "        vertical-align: top;\n",
       "    }\n",
       "\n",
       "    .dataframe thead th {\n",
       "        text-align: right;\n",
       "    }\n",
       "</style>\n",
       "<table border=\"1\" class=\"dataframe\">\n",
       "  <thead>\n",
       "    <tr style=\"text-align: right;\">\n",
       "      <th></th>\n",
       "      <th>cohesion</th>\n",
       "      <th>syntax</th>\n",
       "      <th>vocabulary</th>\n",
       "      <th>phraseology</th>\n",
       "      <th>grammar</th>\n",
       "      <th>conventions</th>\n",
       "    </tr>\n",
       "    <tr>\n",
       "      <th>text_id</th>\n",
       "      <th></th>\n",
       "      <th></th>\n",
       "      <th></th>\n",
       "      <th></th>\n",
       "      <th></th>\n",
       "      <th></th>\n",
       "    </tr>\n",
       "  </thead>\n",
       "  <tbody>\n",
       "    <tr>\n",
       "      <th>0000C359D63E</th>\n",
       "      <td>2.399561</td>\n",
       "      <td>2.296134</td>\n",
       "      <td>2.392576</td>\n",
       "      <td>2.272267</td>\n",
       "      <td>2.289611</td>\n",
       "      <td>2.365816</td>\n",
       "    </tr>\n",
       "    <tr>\n",
       "      <th>000BAD50D026</th>\n",
       "      <td>2.321107</td>\n",
       "      <td>2.240885</td>\n",
       "      <td>2.375593</td>\n",
       "      <td>2.341672</td>\n",
       "      <td>2.297098</td>\n",
       "      <td>2.339070</td>\n",
       "    </tr>\n",
       "    <tr>\n",
       "      <th>00367BB2546B</th>\n",
       "      <td>2.409786</td>\n",
       "      <td>2.498440</td>\n",
       "      <td>2.444131</td>\n",
       "      <td>2.537912</td>\n",
       "      <td>2.494004</td>\n",
       "      <td>2.595239</td>\n",
       "    </tr>\n",
       "  </tbody>\n",
       "</table>\n",
       "</div>"
      ],
      "text/plain": [
       "              cohesion    syntax  vocabulary  phraseology   grammar  \\\n",
       "text_id                                                               \n",
       "0000C359D63E  2.399561  2.296134    2.392576     2.272267  2.289611   \n",
       "000BAD50D026  2.321107  2.240885    2.375593     2.341672  2.297098   \n",
       "00367BB2546B  2.409786  2.498440    2.444131     2.537912  2.494004   \n",
       "\n",
       "              conventions  \n",
       "text_id                    \n",
       "0000C359D63E     2.365816  \n",
       "000BAD50D026     2.339070  \n",
       "00367BB2546B     2.595239  "
      ]
     },
     "execution_count": 91,
     "metadata": {},
     "output_type": "execute_result"
    }
   ],
   "source": [
    "lgb4_models = {}\n",
    "lgb4_preds_argmax = {}\n",
    "lgb4_preds_probability = {}\n",
    "\n",
    "lgb_trains_roberta_cat = {}\n",
    "lgb_vals_roberta_cat = {}\n",
    "\n",
    "for col in cols:\n",
    "    y_train_categorical = y_train_roberta[col]\n",
    "    y_val_categorical = y_val_roberta[col]\n",
    "    weight = dict(zip(np.array(range(2, 11, 1)) /2,\n",
    "                      ccw(class_weight='balanced', classes=np.unique(y_train_categorical), y=y_train_categorical)))\n",
    "    train_weight = [weight[i] for i in y_train_categorical]\n",
    "    val_weight = [weight[i] for i in y_val_categorical]\n",
    "    lgb_trains_roberta_cat[col] = lgb.Dataset(X_train_roberta_pca, y_train_categorical, free_raw_data=False, weight=train_weight)\n",
    "    lgb_vals_roberta_cat[col] = lgb.Dataset(X_val_roberta_pca, y_val_categorical, free_raw_data=False, weight=val_weight)\n",
    "\n",
    "for score in cols:\n",
    "    lgb4_params = {'objective': 'multiclass',\n",
    "                   'metric': 'multi_logloss',\n",
    "                   'num_class': 9,\n",
    "                   'num_leaves': 100,\n",
    "                   'max_iter': 10000,\n",
    "                   'verbosity': -1,\n",
    "                   'early_stopping_round': 50,\n",
    "                   'random_state': seed,\n",
    "                   'device': 'gpu'}\n",
    "    \n",
    "    train_set=lgb_trains_roberta_cat[score]\n",
    "    valid_sets=lgb_vals_roberta_cat[score]\n",
    "\n",
    "    lgb4_model = lgb.train(\n",
    "        params=lgb4_params,\n",
    "        train_set=train_set,\n",
    "        num_boost_round=1000,\n",
    "        valid_sets=(train_set, valid_sets),\n",
    "        callbacks=None,\n",
    "        verbose_eval=100\n",
    "    )\n",
    "    \n",
    "    lgb4_models[score] = lgb4_model\n",
    "    lgb4_preds_argmax[score] = lgb4_model.predict(X_test_roberta_pca)\n",
    "    lgb4_preds_probability[score] = np.dot(lgb4_preds_argmax[score], np.array(list(weight.keys())))\n",
    "    lgb4_preds_argmax[score] = [list(weight.keys())[i] for i in np.argmax(lgb4_preds_argmax[score] , axis=1)]\n",
    "    \n",
    "lgb4_pred_argmax = pd.DataFrame(lgb4_preds_argmax, index=X_test_idx)\n",
    "lgb4_pred_argmax\n",
    "\n",
    "lgb4_pred_probability = pd.DataFrame(lgb4_preds_probability, index=X_test_idx)\n",
    "lgb4_pred_probability"
   ]
  },
  {
   "cell_type": "code",
   "execution_count": 15,
   "id": "b37f55ba-dbbb-4a3d-8f68-6c4c06a64ca9",
   "metadata": {},
   "outputs": [
    {
     "data": {
      "text/html": [
       "<div>\n",
       "<style scoped>\n",
       "    .dataframe tbody tr th:only-of-type {\n",
       "        vertical-align: middle;\n",
       "    }\n",
       "\n",
       "    .dataframe tbody tr th {\n",
       "        vertical-align: top;\n",
       "    }\n",
       "\n",
       "    .dataframe thead th {\n",
       "        text-align: right;\n",
       "    }\n",
       "</style>\n",
       "<table border=\"1\" class=\"dataframe\">\n",
       "  <thead>\n",
       "    <tr style=\"text-align: right;\">\n",
       "      <th></th>\n",
       "      <th>cohesion</th>\n",
       "      <th>syntax</th>\n",
       "      <th>vocabulary</th>\n",
       "      <th>phraseology</th>\n",
       "      <th>grammar</th>\n",
       "      <th>conventions</th>\n",
       "    </tr>\n",
       "    <tr>\n",
       "      <th>text_id</th>\n",
       "      <th></th>\n",
       "      <th></th>\n",
       "      <th></th>\n",
       "      <th></th>\n",
       "      <th></th>\n",
       "      <th></th>\n",
       "    </tr>\n",
       "  </thead>\n",
       "  <tbody>\n",
       "    <tr>\n",
       "      <th>0000C359D63E</th>\n",
       "      <td>2.767483</td>\n",
       "      <td>2.733454</td>\n",
       "      <td>2.969960</td>\n",
       "      <td>2.808294</td>\n",
       "      <td>2.716757</td>\n",
       "      <td>2.652545</td>\n",
       "    </tr>\n",
       "    <tr>\n",
       "      <th>000BAD50D026</th>\n",
       "      <td>3.038738</td>\n",
       "      <td>2.872625</td>\n",
       "      <td>3.037558</td>\n",
       "      <td>2.952971</td>\n",
       "      <td>2.719184</td>\n",
       "      <td>2.952540</td>\n",
       "    </tr>\n",
       "    <tr>\n",
       "      <th>00367BB2546B</th>\n",
       "      <td>3.365481</td>\n",
       "      <td>3.267979</td>\n",
       "      <td>3.486429</td>\n",
       "      <td>3.339178</td>\n",
       "      <td>3.286980</td>\n",
       "      <td>3.294214</td>\n",
       "    </tr>\n",
       "  </tbody>\n",
       "</table>\n",
       "</div>"
      ],
      "text/plain": [
       "              cohesion    syntax  vocabulary  phraseology   grammar  \\\n",
       "text_id                                                               \n",
       "0000C359D63E  2.767483  2.733454    2.969960     2.808294  2.716757   \n",
       "000BAD50D026  3.038738  2.872625    3.037558     2.952971  2.719184   \n",
       "00367BB2546B  3.365481  3.267979    3.486429     3.339178  3.286980   \n",
       "\n",
       "              conventions  \n",
       "text_id                    \n",
       "0000C359D63E     2.652545  \n",
       "000BAD50D026     2.952540  \n",
       "00367BB2546B     3.294214  "
      ]
     },
     "execution_count": 15,
     "metadata": {},
     "output_type": "execute_result"
    }
   ],
   "source": [
    "preds = [keras1_pred, keras2_pred, keras3_pred, keras4_pred, lgb1_pred, lgb2_pred]\n",
    "pred = pd.DataFrame(np.mean(np.array(preds), axis=0), columns=cols, index=X_test_idx)\n",
    "pred"
   ]
  },
  {
   "cell_type": "code",
   "execution_count": 86,
   "id": "d51394ed-8972-475b-b685-c474c197667c",
   "metadata": {},
   "outputs": [],
   "source": [
    "pred.to_csv(\"submission.csv\", index=True)"
   ]
  }
 ],
 "metadata": {
  "kernelspec": {
   "display_name": "Python 3",
   "language": "python",
   "name": "python3"
  },
  "language_info": {
   "codemirror_mode": {
    "name": "ipython",
    "version": 3
   },
   "file_extension": ".py",
   "mimetype": "text/x-python",
   "name": "python",
   "nbconvert_exporter": "python",
   "pygments_lexer": "ipython3",
   "version": "3.10.6"
  }
 },
 "nbformat": 4,
 "nbformat_minor": 5
}
