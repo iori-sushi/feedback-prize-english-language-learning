{
 "cells": [
  {
   "cell_type": "markdown",
   "id": "27c6caf1-14e6-4880-8440-97ebc3014f98",
   "metadata": {},
   "source": [
    "# 1. Preparation"
   ]
  },
  {
   "cell_type": "markdown",
   "id": "47cc8b91-6705-43ec-8bfb-2a884b6c8d68",
   "metadata": {},
   "source": [
    "## 1.1. Import Libraries"
   ]
  },
  {
   "cell_type": "code",
   "execution_count": 3,
   "id": "ad2dd40d-91fa-4aea-b7ac-9e38510d56de",
   "metadata": {},
   "outputs": [
    {
     "name": "stderr",
     "output_type": "stream",
     "text": [
      "[nltk_data] Downloading package stopwords to /home/jovyan/nltk_data...\n",
      "[nltk_data]   Package stopwords is already up-to-date!\n"
     ]
    },
    {
     "data": {
      "text/plain": [
       "True"
      ]
     },
     "execution_count": 3,
     "metadata": {},
     "output_type": "execute_result"
    }
   ],
   "source": [
    "import os\n",
    "import re\n",
    "import string\n",
    "import warnings\n",
    "warnings.simplefilter(\"ignore\")\n",
    "\n",
    "import lightgbm as lgb\n",
    "import nltk\n",
    "import numpy as np\n",
    "import optuna\n",
    "import pandas as pd\n",
    "import tensorflow as tf\n",
    "from imblearn.over_sampling import RandomOverSampler\n",
    "from keras.layers import add, concatenate\n",
    "from keras.preprocessing.text import Tokenizer\n",
    "from nltk.corpus import stopwords\n",
    "from optuna.integration import KerasPruningCallback\n",
    "from sklearn.decomposition import PCA\n",
    "from sklearn.model_selection import StratifiedKFold\n",
    "from sklearn.model_selection import train_test_split as tts\n",
    "from sklearn.utils.class_weight import compute_class_weight as ccw\n",
    "from tensorflow.keras import Model, optimizers\n",
    "from tensorflow.keras.callbacks import EarlyStopping\n",
    "from tensorflow.keras.layers import (\n",
    "    BatchNormalization,\n",
    "    Dense,\n",
    "    Dropout,\n",
    "    Flatten,\n",
    "    Input,\n",
    "    LeakyReLU,\n",
    "    Rescaling,\n",
    ")\n",
    "from tensorflow.keras.models import Sequential\n",
    "from tensorflow.keras.utils import set_random_seed, to_categorical\n",
    "\n",
    "pd.options.display.max_columns=100\n",
    "nltk.download('stopwords')"
   ]
  },
  {
   "cell_type": "markdown",
   "id": "6b09792e-5c8f-48e9-9c83-ea5f398a3141",
   "metadata": {},
   "source": [
    "## 1.2. Fetching Data"
   ]
  },
  {
   "cell_type": "code",
   "execution_count": 4,
   "id": "c472a671-fa4c-4f41-b457-a9c76ca34620",
   "metadata": {},
   "outputs": [],
   "source": [
    "seed = 0\n",
    "np.random.seed(seed)\n",
    "set_random_seed(seed)\n",
    "\n",
    "train_df = pd.read_csv(\"../input/train.csv\", index_col=\"text_id\")\n",
    "X_train = train_df.full_text\n",
    "cols = [col for col in train_df.columns if col != \"full_text\"]\n",
    "y_train = train_df[cols]\n",
    "X_test = pd.read_csv(\"../input/test.csv\", index_col=\"text_id\").full_text\n",
    "X_test_idx = X_test.index"
   ]
  },
  {
   "cell_type": "markdown",
   "id": "9d595301-948c-4ac2-b7c1-6e2982601851",
   "metadata": {},
   "source": [
    "## 1.3. Custom Fanctions"
   ]
  },
  {
   "cell_type": "markdown",
   "id": "6b963d7b-9719-42f9-9087-268c619bedc5",
   "metadata": {},
   "source": [
    "memo\n",
    "encoding, onebyone_wrapper, kfold, oversampling, building_model, check_results\n",
    "optuna, optunaresult, predict"
   ]
  },
  {
   "cell_type": "code",
   "execution_count": 88,
   "id": "cefda4b6-9974-482e-84ca-b4d78e362160",
   "metadata": {},
   "outputs": [],
   "source": [
    "@tf.autograph.experimental.do_not_convert\n",
    "def MCRMSE(y_true, y_pred):\n",
    "    return tf.reduce_mean(tf.reduce_mean(tf.square(y_true - y_pred), axis=1))"
   ]
  },
  {
   "cell_type": "code",
   "execution_count": 160,
   "id": "64a9eb01-f20e-4026-b7a2-8de3d5a8f77e",
   "metadata": {},
   "outputs": [],
   "source": [
    "class BuildModel:\n",
    "    \n",
    "    def __init__(self, X_train = X_train, y_train = y_train, X_test = X_test):\n",
    "        self.X_train = X_train\n",
    "        self.X_test = X_test\n",
    "        self.y_train = y_train\n",
    "\n",
    "    def execution(self, params):\n",
    "        X_train_enc, X_test = self.encodingX(params[\"pca_components\"])\n",
    "        preds = []; evals = []\n",
    "        X_trains, X_vals, y_trains, y_vals = self.kfold(X_train_enc, self.y_train, n_splits=params[\"valid_splits\"])\n",
    "        for X_train, X_val, y_train, y_val in zip(X_trains, X_vals, y_trains, y_vals):\n",
    "            X_train, y_train = self.oversampling(X_train, y_train)\n",
    "            model, evaluation = self.modeling(X_train, y_train, params, X_val, y_val)\n",
    "            preds += [pd.DataFrame(model.predict(X_val), index=X_val.index, columns=[y_train.name])]\n",
    "            evals += [evaluation]\n",
    "        return np.mean(evals), pd.concat(preds, axis=0)\n",
    "    \n",
    "    def finalize(self, y_train, params):\n",
    "        X_train_enc, X_test_enc = self.encodingX(params[\"pca_components\"])\n",
    "        X_train, y_train = self.oversampling(X_train_enc, y_train)\n",
    "        model = self.modeling(X_train, y_train, params)\n",
    "        pred = pd.DataFrame(model.predict(X_test_enc), index=X_test_enc.index, columns=[y_train.name])\n",
    "        return pred, model\n",
    "    \n",
    "    def encodingX(self, n_components = 500):\n",
    "        train_idx = self.X_train.index\n",
    "        test_idx = self.X_test.index\n",
    "\n",
    "        X_train = self.X_train.str.lower().replace(re.compile(r'[\\n\\r\\t]'), ' ', regex=True)\n",
    "        X_test = self.X_test.str.lower().replace(re.compile(r'[\\n\\r\\t]'), ' ', regex=True)\n",
    "\n",
    "        stop_words = stopwords.words('english')\n",
    "        remove_stopwords = lambda ls: [\" \".join([word for word in l.split() if not word in stop_words]) for l in ls] \n",
    "        X_train = remove_stopwords(X_train)\n",
    "        X_test = remove_stopwords(X_test)\n",
    "\n",
    "        X_train = [re.sub(\"[%s]\" % re.escape(string.punctuation), \"\", t) for t in X_train]\n",
    "        X_test = [re.sub(\"[%s]\" % re.escape(string.punctuation), \"\", t) for t in X_test]\n",
    "\n",
    "        tokenizer = Tokenizer()\n",
    "        tokenizer.fit_on_texts(X_train)\n",
    "        X_train = tokenizer.texts_to_matrix(X_train, \"tfidf\")\n",
    "        X_test = tokenizer.texts_to_matrix(X_test, \"tfidf\")\n",
    "\n",
    "        pca = PCA(n_components=n_components, whiten=True, random_state=seed)\n",
    "        X_train = pd.DataFrame(pca.fit_transform(X_train), index=train_idx)\n",
    "        X_test = pd.DataFrame(pca.transform(X_test), index=test_idx)\n",
    "        return X_train, X_test\n",
    "    \n",
    "    def kfold(self, X_train, y_train, n_splits = 4):\n",
    "        skf = StratifiedKFold(n_splits=n_splits, shuffle=True, random_state=seed)\n",
    "        X_trains = []; X_vals = []; y_trains = []; y_vals = []\n",
    "        for train_idx, val_idx in skf.split(X_train, y_train.astype(str)):\n",
    "            X_trains.append(X_train.iloc[train_idx,:])\n",
    "            X_vals.append(X_train.iloc[val_idx,:])\n",
    "            y_trains.append(y_train.iloc[train_idx])\n",
    "            y_vals.append(y_train.iloc[val_idx])\n",
    "        return X_trains, X_vals, y_trains, y_vals\n",
    "        \n",
    "    def oversampling(self, X_train, y_train):\n",
    "        X_idx = list(X_train.index)\n",
    "        maximum = int(len(y_train) * 1.5)\n",
    "        agg = y_train.value_counts()\n",
    "        mean = int(agg.mean())\n",
    "        agg_ltm = agg < mean\n",
    "        strategy_value = (maximum - (agg[agg>=mean]).sum()) // (agg_ltm).sum()\n",
    "        add_value = (maximum - (agg[agg>=mean]).sum()) % (agg_ltm).sum()\n",
    "        sampling_strategy = {str(k): strategy_value + add_value if k == agg[agg_ltm].index[0] else strategy_value for k in agg_ltm[agg_ltm].index}\n",
    "        X_train, y_train = RandomOverSampler(sampling_strategy=sampling_strategy, random_state=seed).fit_resample(X_train, y_train.astype(str))\n",
    "        idx = X_idx + list(X_train.index[len(X_idx):])\n",
    "        X_train.index = idx\n",
    "        y_train.index = idx\n",
    "        y_train = y_train.astype(np.float32)\n",
    "        return X_train, y_train\n",
    "\n",
    "    def modeling(self, X_train, y_train, params, X_val = None, y_val = None):\n",
    "        model = Sequential()\n",
    "        for i in range(1, params[\"NLayers\"]+1):\n",
    "            if params[f\"BatchNorm_l{i}\"]:\n",
    "                model.add(BatchNormalization())\n",
    "            if params[f\"Activation_l{i}\"] == \"lrelu\":\n",
    "                params[f\"Activation_l{i}\"] = LeakyReLU(alpha=.1)\n",
    "            if i == 1:\n",
    "                model.add(Dense(params[f\"Units_l{i}\"], input_dim=X_train.shape[1], activation=params[f\"Activation_l{i}\"]))\n",
    "            else:\n",
    "                model.add(Dense(params[f\"Units_l{i}\"], activation=params[f\"Activation_l{i}\"]))\n",
    "            if params[f\"Dropout_l{i}\"]:\n",
    "                model.add(Dropout(.3))\n",
    "        if params[\"Rescaling\"]:\n",
    "            model.add(Dense(1, activation=\"sigmoid\"))\n",
    "            model.add(Rescaling(4, offset=1))\n",
    "        else:\n",
    "            model.add(Dense(1, activation=\"linear\"))\n",
    "\n",
    "        optimizer = optimizers.Adam(learning_rate=params[\"LearningRate\"], amsgrad=True)\n",
    "        model.compile(loss=MCRMSE, optimizer=optimizer, metrics=MCRMSE)\n",
    "\n",
    "        if not X_val is None:\n",
    "            callbacks = [EarlyStopping(monitor=\"val_loss\", patience=10, restore_best_weights=True)]\n",
    "            if not params[\"Pruner\"] is None:\n",
    "                callbacks += [params[\"Pruner\"]]\n",
    "        \n",
    "            model.fit(X_train, y_train, validation_data = (X_val, y_val),\n",
    "                      batch_size=params[\"BatchSize\"], epochs=100,\n",
    "                      workers=8, use_multiprocessing=True, verbose=0, callbacks=callbacks)\n",
    "            evaluation = model.evaluate(X_val, y_val, verbose=0)\n",
    "            return model, evaluation\n",
    "        else:\n",
    "            model.fit(X_train, y_train,\n",
    "                      batch_size=params[\"BatchSize\"], epochs=100,\n",
    "                      workers=8, use_multiprocessing=True, verbose=0)\n",
    "            return model"
   ]
  },
  {
   "cell_type": "code",
   "execution_count": 132,
   "id": "19072420-9b68-493d-8dc0-156f1a66596c",
   "metadata": {
    "collapsed": true,
    "jupyter": {
     "outputs_hidden": true,
     "source_hidden": true
    },
    "tags": []
   },
   "outputs": [
    {
     "name": "stdout",
     "output_type": "stream",
     "text": [
      "550/550 [==============================] - 19s 21ms/step - loss: 2.3063 - MCRMSE: 2.3063 - val_loss: 0.6509 - val_MCRMSE: 0.6470\n",
      "31/31 [==============================] - 0s 4ms/step\n",
      "550/550 [==============================] - 20s 21ms/step - loss: 2.1882 - MCRMSE: 2.1880 - val_loss: 0.5691 - val_MCRMSE: 0.5709\n",
      "31/31 [==============================] - 0s 4ms/step\n",
      "550/550 [==============================] - 19s 21ms/step - loss: 2.4875 - MCRMSE: 2.4877 - val_loss: 2.5487 - val_MCRMSE: 2.5394\n",
      "31/31 [==============================] - 0s 4ms/step\n",
      "551/551 [==============================] - 20s 21ms/step - loss: 2.2794 - MCRMSE: 2.2774 - val_loss: 0.8259 - val_MCRMSE: 0.8300\n",
      "31/31 [==============================] - 0s 4ms/step\n"
     ]
    },
    {
     "data": {
      "text/plain": [
       "(1.1468700915575027,\n",
       "                 syntax\n",
       " text_id               \n",
       " 0022683E9EA5  2.393339\n",
       " 0049B1DF5CCC  2.865965\n",
       " 005661280443  3.489913\n",
       " 009F4E9310CB  2.976347\n",
       " 00B21F9B726F  2.011185\n",
       " ...                ...\n",
       " FF4CBDA0E418  3.094027\n",
       " FF9E0379CD98  1.860351\n",
       " FFA6690BC309  2.820983\n",
       " FFCDB2524616  2.998853\n",
       " FFD29828A873  4.186502\n",
       " \n",
       " [3911 rows x 1 columns])"
      ]
     },
     "execution_count": 132,
     "metadata": {},
     "output_type": "execute_result"
    }
   ],
   "source": [
    "res = study_result(\"keras1\")\n",
    "params = {k:v for k,v in zip(res.columns, res.values[0])} | {\"BatchSize\": 2**3, \"Rescaling\": False, \"Pruner\": None, \"valid_splits\":4, \"pca_components\": 500}\n",
    "build = BuildModel(y_train = y_train.syntax)\n",
    "res = build.execution(params)\n",
    "res"
   ]
  },
  {
   "cell_type": "code",
   "execution_count": 161,
   "id": "2baef06b-1230-48c9-877d-9d83b26b1d3c",
   "metadata": {},
   "outputs": [],
   "source": [
    "class ParamTuning:\n",
    "    \n",
    "    def __init__(self,\n",
    "                 y_train,\n",
    "                 storage='mysql+pymysql://iori:'+os.environ[\"MySQL_PASSWORD\"]+'@'+os.environ[\"MySQL_IP\"]+\":3306/kaggleELL?charset=utf8mb4\",\n",
    "                 directions=[\"minimize\"]):\n",
    "        self.y_train = y_train\n",
    "        self.storage = storage\n",
    "        self.directions = directions\n",
    "        self.study_name = \"keras-\" + y_train.name\n",
    "\n",
    "    def execution(self, trial):\n",
    "        params = self.get_param(trial)\n",
    "        evals, pred = BuildModel(y_train=self.y_train).execution(params)\n",
    "        return evals\n",
    "    \n",
    "    def get_param(self, trial):\n",
    "        param = {\n",
    "            \"valid_splits\": 4,\n",
    "            \"pca_components\": 500,\n",
    "            \"NLayers\": trial.suggest_int(\"NLayers\", 7, 20),\n",
    "            \"LearningRate\": trial.suggest_uniform(\"LearningRate\", .0005, .01),\n",
    "            \"BatchSize\": 2**3,\n",
    "            'Rescaling': False,#trial.suggest_categorical('Rescaling', [True, False]) \n",
    "            \"Pruner\": None #KerasPruningCallback(trial, \"val_acc\"),\n",
    "            }\n",
    "\n",
    "        for i in range(1, param[\"NLayers\"]+1):\n",
    "            param[f\"BatchNorm_l{i}\"] = trial.suggest_categorical(f'BatchNorm_l{i}', [True, False])\n",
    "            param[f\"Units_l{i}\"] = int(trial.suggest_uniform(f\"Units_l{i}\", 300, 2000))\n",
    "            activation = trial.suggest_categorical(f'Activation_l{i}', ['relu', \"lrelu\", \"softplus\", \"softsign\"])\n",
    "            if activation == \"lrelu\":\n",
    "                activation = LeakyReLU(alpha=.1)\n",
    "            param[f'Activation_l{i}'] = activation\n",
    "            param[f'Dropout_l{i}'] = trial.suggest_categorical(f'Dropout_l{i}', [True, False]) \n",
    "        return param        \n",
    "\n",
    "    def studying(self, n_trials=1):\n",
    "        tf.keras.backend.clear_session()\n",
    "        keras_study = optuna.create_study(study_name=self.study_name,\n",
    "                                          directions=self.directions,# pruner=optuna.pruners.MedianPruner(), \n",
    "                                          storage=self.storage,\n",
    "                                          load_if_exists=True)\n",
    "        keras_study.optimize(self.execution, n_trials=n_trials, gc_after_trial=True)\n",
    "  \n",
    "    def show_result(self):\n",
    "        study = optuna.load_study(study_name=self.study_name, storage=self.storage)\n",
    "        bts = []\n",
    "        for bt in study.best_trials:\n",
    "            values = bt.values or [0]\n",
    "            values = [bt.number] + values + [bt.datetime_complete - bt.datetime_start] + list(bt.params.values())\n",
    "            bts.append(pd.DataFrame([values], columns = [\"number\", \"MCRMSE\", \"exec_time\"] + list(bt.params.keys())))\n",
    "            res = pd.concat(bts, axis=0, ignore_index=True).sort_values(\"MCRMSE\")\n",
    "        return res"
   ]
  },
  {
   "cell_type": "code",
   "execution_count": 164,
   "id": "ef9e4feb-e903-4c7f-bc0b-6da4202572a4",
   "metadata": {},
   "outputs": [],
   "source": [
    "res = {}\n",
    "for target in y_train.columns:\n",
    "    res[target] = ParamTuning(y_train=y_train[target]).show_result()"
   ]
  },
  {
   "cell_type": "code",
   "execution_count": 172,
   "id": "ebbee621-4868-4826-b935-130d95f1f35f",
   "metadata": {},
   "outputs": [
    {
     "data": {
      "text/plain": [
       "{'cohesion': {'number': 8,\n",
       "  'MCRMSE': 0.3538328483700752,\n",
       "  'exec_time': Timedelta('0 days 00:16:45'),\n",
       "  'Activation_l1': 'relu',\n",
       "  'Activation_l10': 'lrelu',\n",
       "  'Activation_l11': 'relu',\n",
       "  'Activation_l12': 'softplus',\n",
       "  'Activation_l13': 'relu',\n",
       "  'Activation_l2': 'softplus',\n",
       "  'Activation_l3': 'softplus',\n",
       "  'Activation_l4': 'softsign',\n",
       "  'Activation_l5': 'softsign',\n",
       "  'Activation_l6': 'relu',\n",
       "  'Activation_l7': 'softplus',\n",
       "  'Activation_l8': 'softplus',\n",
       "  'Activation_l9': 'softsign',\n",
       "  'BatchNorm_l1': True,\n",
       "  'BatchNorm_l10': False,\n",
       "  'BatchNorm_l11': True,\n",
       "  'BatchNorm_l12': True,\n",
       "  'BatchNorm_l13': False,\n",
       "  'BatchNorm_l2': False,\n",
       "  'BatchNorm_l3': False,\n",
       "  'BatchNorm_l4': True,\n",
       "  'BatchNorm_l5': True,\n",
       "  'BatchNorm_l6': True,\n",
       "  'BatchNorm_l7': False,\n",
       "  'BatchNorm_l8': True,\n",
       "  'BatchNorm_l9': True,\n",
       "  'Dropout_l1': True,\n",
       "  'Dropout_l10': False,\n",
       "  'Dropout_l11': False,\n",
       "  'Dropout_l12': True,\n",
       "  'Dropout_l13': False,\n",
       "  'Dropout_l2': False,\n",
       "  'Dropout_l3': False,\n",
       "  'Dropout_l4': True,\n",
       "  'Dropout_l5': True,\n",
       "  'Dropout_l6': False,\n",
       "  'Dropout_l7': False,\n",
       "  'Dropout_l8': False,\n",
       "  'Dropout_l9': False,\n",
       "  'LearningRate': 0.009164467397957059,\n",
       "  'NLayers': 13,\n",
       "  'Units_l1': 1185.15693641852,\n",
       "  'Units_l10': 986.0602487653048,\n",
       "  'Units_l11': 739.9402845485151,\n",
       "  'Units_l12': 429.1981276271356,\n",
       "  'Units_l13': 337.1507702635088,\n",
       "  'Units_l2': 1622.7678925550274,\n",
       "  'Units_l3': 1793.2592140116183,\n",
       "  'Units_l4': 660.2256661375993,\n",
       "  'Units_l5': 1084.1487232994325,\n",
       "  'Units_l6': 845.841825883195,\n",
       "  'Units_l7': 1863.4775406336882,\n",
       "  'Units_l8': 520.1568897849073,\n",
       "  'Units_l9': 1040.196387283577,\n",
       "  'BatchSize': 8,\n",
       "  'Rescaling': False,\n",
       "  'Pruner': None,\n",
       "  'pca_components': 500},\n",
       " 'syntax': {'number': 0,\n",
       "  'MCRMSE': 0.3339000344276428,\n",
       "  'exec_time': Timedelta('0 days 00:19:26'),\n",
       "  'Activation_l1': 'lrelu',\n",
       "  'Activation_l10': 'softplus',\n",
       "  'Activation_l11': 'relu',\n",
       "  'Activation_l2': 'relu',\n",
       "  'Activation_l3': 'relu',\n",
       "  'Activation_l4': 'softsign',\n",
       "  'Activation_l5': 'lrelu',\n",
       "  'Activation_l6': 'softsign',\n",
       "  'Activation_l7': 'relu',\n",
       "  'Activation_l8': 'lrelu',\n",
       "  'Activation_l9': 'softplus',\n",
       "  'BatchNorm_l1': False,\n",
       "  'BatchNorm_l10': True,\n",
       "  'BatchNorm_l11': False,\n",
       "  'BatchNorm_l2': False,\n",
       "  'BatchNorm_l3': False,\n",
       "  'BatchNorm_l4': True,\n",
       "  'BatchNorm_l5': True,\n",
       "  'BatchNorm_l6': False,\n",
       "  'BatchNorm_l7': True,\n",
       "  'BatchNorm_l8': True,\n",
       "  'BatchNorm_l9': False,\n",
       "  'Dropout_l1': False,\n",
       "  'Dropout_l10': True,\n",
       "  'Dropout_l11': True,\n",
       "  'Dropout_l2': True,\n",
       "  'Dropout_l3': False,\n",
       "  'Dropout_l4': False,\n",
       "  'Dropout_l5': True,\n",
       "  'Dropout_l6': False,\n",
       "  'Dropout_l7': True,\n",
       "  'Dropout_l8': True,\n",
       "  'Dropout_l9': False,\n",
       "  'LearningRate': 0.007388025797932515,\n",
       "  'NLayers': 11,\n",
       "  'Units_l1': 1331.4333841606547,\n",
       "  'Units_l10': 603.0421050827679,\n",
       "  'Units_l11': 1443.846244599409,\n",
       "  'Units_l2': 1485.734768818816,\n",
       "  'Units_l3': 736.293037501021,\n",
       "  'Units_l4': 1985.7331743076104,\n",
       "  'Units_l5': 828.5965087798704,\n",
       "  'Units_l6': 1427.865771281098,\n",
       "  'Units_l7': 698.5391786781926,\n",
       "  'Units_l8': 1808.4597267165009,\n",
       "  'Units_l9': 959.9451352974785,\n",
       "  'BatchSize': 8,\n",
       "  'Rescaling': False,\n",
       "  'Pruner': None,\n",
       "  'pca_components': 500},\n",
       " 'vocabulary': {'number': 3,\n",
       "  'MCRMSE': 0.29410217702388763,\n",
       "  'exec_time': Timedelta('0 days 00:18:13'),\n",
       "  'Activation_l1': 'lrelu',\n",
       "  'Activation_l10': 'relu',\n",
       "  'Activation_l11': 'softplus',\n",
       "  'Activation_l12': 'lrelu',\n",
       "  'Activation_l13': 'relu',\n",
       "  'Activation_l2': 'relu',\n",
       "  'Activation_l3': 'softsign',\n",
       "  'Activation_l4': 'lrelu',\n",
       "  'Activation_l5': 'relu',\n",
       "  'Activation_l6': 'softsign',\n",
       "  'Activation_l7': 'softsign',\n",
       "  'Activation_l8': 'relu',\n",
       "  'Activation_l9': 'softplus',\n",
       "  'BatchNorm_l1': True,\n",
       "  'BatchNorm_l10': False,\n",
       "  'BatchNorm_l11': True,\n",
       "  'BatchNorm_l12': False,\n",
       "  'BatchNorm_l13': True,\n",
       "  'BatchNorm_l2': True,\n",
       "  'BatchNorm_l3': True,\n",
       "  'BatchNorm_l4': True,\n",
       "  'BatchNorm_l5': True,\n",
       "  'BatchNorm_l6': False,\n",
       "  'BatchNorm_l7': False,\n",
       "  'BatchNorm_l8': False,\n",
       "  'BatchNorm_l9': True,\n",
       "  'Dropout_l1': False,\n",
       "  'Dropout_l10': True,\n",
       "  'Dropout_l11': True,\n",
       "  'Dropout_l12': True,\n",
       "  'Dropout_l13': True,\n",
       "  'Dropout_l2': False,\n",
       "  'Dropout_l3': False,\n",
       "  'Dropout_l4': True,\n",
       "  'Dropout_l5': True,\n",
       "  'Dropout_l6': False,\n",
       "  'Dropout_l7': False,\n",
       "  'Dropout_l8': True,\n",
       "  'Dropout_l9': False,\n",
       "  'LearningRate': 0.005908481905908217,\n",
       "  'NLayers': 13,\n",
       "  'Units_l1': 1293.0472205312049,\n",
       "  'Units_l10': 367.3031670020722,\n",
       "  'Units_l11': 1169.1574718071038,\n",
       "  'Units_l12': 1375.4173509797824,\n",
       "  'Units_l13': 1156.4657655347917,\n",
       "  'Units_l2': 1865.2701463670874,\n",
       "  'Units_l3': 741.1510559276963,\n",
       "  'Units_l4': 1669.6759552778078,\n",
       "  'Units_l5': 1043.6176265172608,\n",
       "  'Units_l6': 1734.6656572841716,\n",
       "  'Units_l7': 1401.4493275864527,\n",
       "  'Units_l8': 797.0205901805289,\n",
       "  'Units_l9': 1560.4983252876752,\n",
       "  'BatchSize': 8,\n",
       "  'Rescaling': False,\n",
       "  'Pruner': None,\n",
       "  'pca_components': 500},\n",
       " 'phraseology': {'number': 1,\n",
       "  'MCRMSE': 0.3265671133995056,\n",
       "  'exec_time': Timedelta('0 days 00:28:18'),\n",
       "  'Activation_l1': 'softsign',\n",
       "  'Activation_l10': 'relu',\n",
       "  'Activation_l11': 'lrelu',\n",
       "  'Activation_l12': 'lrelu',\n",
       "  'Activation_l13': 'lrelu',\n",
       "  'Activation_l2': 'relu',\n",
       "  'Activation_l3': 'softplus',\n",
       "  'Activation_l4': 'softsign',\n",
       "  'Activation_l5': 'softsign',\n",
       "  'Activation_l6': 'softplus',\n",
       "  'Activation_l7': 'relu',\n",
       "  'Activation_l8': 'lrelu',\n",
       "  'Activation_l9': 'softplus',\n",
       "  'BatchNorm_l1': False,\n",
       "  'BatchNorm_l10': True,\n",
       "  'BatchNorm_l11': True,\n",
       "  'BatchNorm_l12': False,\n",
       "  'BatchNorm_l13': True,\n",
       "  'BatchNorm_l2': False,\n",
       "  'BatchNorm_l3': True,\n",
       "  'BatchNorm_l4': True,\n",
       "  'BatchNorm_l5': True,\n",
       "  'BatchNorm_l6': True,\n",
       "  'BatchNorm_l7': True,\n",
       "  'BatchNorm_l8': True,\n",
       "  'BatchNorm_l9': False,\n",
       "  'Dropout_l1': True,\n",
       "  'Dropout_l10': False,\n",
       "  'Dropout_l11': False,\n",
       "  'Dropout_l12': True,\n",
       "  'Dropout_l13': True,\n",
       "  'Dropout_l2': True,\n",
       "  'Dropout_l3': False,\n",
       "  'Dropout_l4': True,\n",
       "  'Dropout_l5': True,\n",
       "  'Dropout_l6': True,\n",
       "  'Dropout_l7': True,\n",
       "  'Dropout_l8': True,\n",
       "  'Dropout_l9': False,\n",
       "  'LearningRate': 0.0044187321267900575,\n",
       "  'NLayers': 13,\n",
       "  'Units_l1': 1933.5065717158423,\n",
       "  'Units_l10': 1761.8458575262957,\n",
       "  'Units_l11': 1504.1168588627465,\n",
       "  'Units_l12': 807.6551631515497,\n",
       "  'Units_l13': 1828.680862650528,\n",
       "  'Units_l2': 828.4095081751383,\n",
       "  'Units_l3': 1152.7771228296501,\n",
       "  'Units_l4': 1040.3416647454387,\n",
       "  'Units_l5': 1210.840427708233,\n",
       "  'Units_l6': 1584.0503616483538,\n",
       "  'Units_l7': 1097.5388813892241,\n",
       "  'Units_l8': 488.88978079647336,\n",
       "  'Units_l9': 1089.4503621570207,\n",
       "  'BatchSize': 8,\n",
       "  'Rescaling': False,\n",
       "  'Pruner': None,\n",
       "  'pca_components': 500},\n",
       " 'grammar': {'number': 2,\n",
       "  'MCRMSE': 0.40471139177680016,\n",
       "  'exec_time': Timedelta('0 days 00:27:59'),\n",
       "  'Activation_l1': 'softsign',\n",
       "  'Activation_l10': 'softsign',\n",
       "  'Activation_l11': 'softplus',\n",
       "  'Activation_l2': 'relu',\n",
       "  'Activation_l3': 'lrelu',\n",
       "  'Activation_l4': 'relu',\n",
       "  'Activation_l5': 'softplus',\n",
       "  'Activation_l6': 'relu',\n",
       "  'Activation_l7': 'softsign',\n",
       "  'Activation_l8': 'relu',\n",
       "  'Activation_l9': 'relu',\n",
       "  'BatchNorm_l1': True,\n",
       "  'BatchNorm_l10': True,\n",
       "  'BatchNorm_l11': True,\n",
       "  'BatchNorm_l2': True,\n",
       "  'BatchNorm_l3': False,\n",
       "  'BatchNorm_l4': True,\n",
       "  'BatchNorm_l5': True,\n",
       "  'BatchNorm_l6': True,\n",
       "  'BatchNorm_l7': False,\n",
       "  'BatchNorm_l8': True,\n",
       "  'BatchNorm_l9': True,\n",
       "  'Dropout_l1': False,\n",
       "  'Dropout_l10': False,\n",
       "  'Dropout_l11': True,\n",
       "  'Dropout_l2': False,\n",
       "  'Dropout_l3': True,\n",
       "  'Dropout_l4': False,\n",
       "  'Dropout_l5': True,\n",
       "  'Dropout_l6': False,\n",
       "  'Dropout_l7': True,\n",
       "  'Dropout_l8': True,\n",
       "  'Dropout_l9': False,\n",
       "  'LearningRate': 0.006833493518551342,\n",
       "  'NLayers': 11,\n",
       "  'Units_l1': 310.45689553747707,\n",
       "  'Units_l10': 1266.1421818725569,\n",
       "  'Units_l11': 754.361387641244,\n",
       "  'Units_l2': 1556.84429538937,\n",
       "  'Units_l3': 1788.3284773072799,\n",
       "  'Units_l4': 1116.237418417931,\n",
       "  'Units_l5': 1108.969909106119,\n",
       "  'Units_l6': 401.821244382222,\n",
       "  'Units_l7': 1460.9306005289445,\n",
       "  'Units_l8': 1423.6110558039777,\n",
       "  'Units_l9': 396.4668625994068,\n",
       "  'BatchSize': 8,\n",
       "  'Rescaling': False,\n",
       "  'Pruner': None,\n",
       "  'pca_components': 500},\n",
       " 'conventions': {'number': 3,\n",
       "  'MCRMSE': 0.37920041754841805,\n",
       "  'exec_time': Timedelta('0 days 00:11:08'),\n",
       "  'Activation_l1': 'relu',\n",
       "  'Activation_l2': 'softplus',\n",
       "  'Activation_l3': 'softplus',\n",
       "  'Activation_l4': 'lrelu',\n",
       "  'Activation_l5': 'relu',\n",
       "  'Activation_l6': 'lrelu',\n",
       "  'Activation_l7': 'relu',\n",
       "  'Activation_l8': 'softplus',\n",
       "  'BatchNorm_l1': True,\n",
       "  'BatchNorm_l2': False,\n",
       "  'BatchNorm_l3': False,\n",
       "  'BatchNorm_l4': True,\n",
       "  'BatchNorm_l5': True,\n",
       "  'BatchNorm_l6': False,\n",
       "  'BatchNorm_l7': False,\n",
       "  'BatchNorm_l8': True,\n",
       "  'Dropout_l1': False,\n",
       "  'Dropout_l2': False,\n",
       "  'Dropout_l3': True,\n",
       "  'Dropout_l4': True,\n",
       "  'Dropout_l5': True,\n",
       "  'Dropout_l6': True,\n",
       "  'Dropout_l7': True,\n",
       "  'Dropout_l8': True,\n",
       "  'LearningRate': 0.003312505337189559,\n",
       "  'NLayers': 8,\n",
       "  'Units_l1': 584.3899369909334,\n",
       "  'Units_l2': 374.1433553425512,\n",
       "  'Units_l3': 529.8741259861636,\n",
       "  'Units_l4': 552.0549176482658,\n",
       "  'Units_l5': 1158.9134861198852,\n",
       "  'Units_l6': 1422.4783542856767,\n",
       "  'Units_l7': 1415.979709300494,\n",
       "  'Units_l8': 1587.2732335889405,\n",
       "  'BatchSize': 8,\n",
       "  'Rescaling': False,\n",
       "  'Pruner': None,\n",
       "  'pca_components': 500}}"
      ]
     },
     "execution_count": 172,
     "metadata": {},
     "output_type": "execute_result"
    }
   ],
   "source": [
    "for target in y_train.columns:\n",
    "    res[target] = {k:v for k, v in zip(res[target].columns, res[target].values[0])} | {\"BatchSize\": 2**3,\n",
    " \"Rescaling\": False, \n",
    " \"Pruner\": None,\n",
    " \"pca_components\": 500}\n",
    "res"
   ]
  },
  {
   "cell_type": "code",
   "execution_count": 162,
   "id": "70b7b0aa-59de-474a-9baf-a12f25acf610",
   "metadata": {},
   "outputs": [
    {
     "name": "stderr",
     "output_type": "stream",
     "text": [
      "\u001b[32m[I 2022-11-29 21:28:25,143]\u001b[0m A new study created in RDB with name: keras-vocabulary\u001b[0m\n"
     ]
    },
    {
     "name": "stdout",
     "output_type": "stream",
     "text": [
      "31/31 [==============================] - 0s 4ms/step\n",
      "31/31 [==============================] - 0s 4ms/step\n",
      "31/31 [==============================] - 0s 5ms/step\n",
      "31/31 [==============================] - 0s 4ms/step\n"
     ]
    },
    {
     "name": "stderr",
     "output_type": "stream",
     "text": [
      "\u001b[32m[I 2022-11-29 21:48:13,420]\u001b[0m Trial 0 finished with value: 0.3477351441979408 and parameters: {'NLayers': 15, 'LearningRate': 0.008954103743606051, 'BatchNorm_l1': True, 'Units_l1': 1242.331497662707, 'Activation_l1': 'softsign', 'Dropout_l1': True, 'BatchNorm_l2': True, 'Units_l2': 501.4872868875628, 'Activation_l2': 'softplus', 'Dropout_l2': False, 'BatchNorm_l3': True, 'Units_l3': 583.064248802794, 'Activation_l3': 'relu', 'Dropout_l3': True, 'BatchNorm_l4': False, 'Units_l4': 1833.197026638121, 'Activation_l4': 'relu', 'Dropout_l4': False, 'BatchNorm_l5': True, 'Units_l5': 1106.9435512186924, 'Activation_l5': 'softsign', 'Dropout_l5': True, 'BatchNorm_l6': True, 'Units_l6': 1684.1856203232335, 'Activation_l6': 'softplus', 'Dropout_l6': False, 'BatchNorm_l7': True, 'Units_l7': 868.0569196974589, 'Activation_l7': 'softplus', 'Dropout_l7': True, 'BatchNorm_l8': True, 'Units_l8': 1403.038610286906, 'Activation_l8': 'relu', 'Dropout_l8': True, 'BatchNorm_l9': False, 'Units_l9': 717.1804562976471, 'Activation_l9': 'lrelu', 'Dropout_l9': False, 'BatchNorm_l10': False, 'Units_l10': 869.171455590882, 'Activation_l10': 'softsign', 'Dropout_l10': False, 'BatchNorm_l11': True, 'Units_l11': 1859.6115960103075, 'Activation_l11': 'softplus', 'Dropout_l11': False, 'BatchNorm_l12': True, 'Units_l12': 1928.6762400797168, 'Activation_l12': 'lrelu', 'Dropout_l12': True, 'BatchNorm_l13': True, 'Units_l13': 1915.313524914407, 'Activation_l13': 'relu', 'Dropout_l13': True, 'BatchNorm_l14': True, 'Units_l14': 624.596495091851, 'Activation_l14': 'softsign', 'Dropout_l14': True, 'BatchNorm_l15': True, 'Units_l15': 870.631975342867, 'Activation_l15': 'softsign', 'Dropout_l15': False}. Best is trial 0 with value: 0.3477351441979408.\u001b[0m\n"
     ]
    },
    {
     "name": "stdout",
     "output_type": "stream",
     "text": [
      "31/31 [==============================] - 0s 4ms/step\n",
      "31/31 [==============================] - 0s 3ms/step\n",
      "31/31 [==============================] - 0s 4ms/step\n",
      "31/31 [==============================] - 0s 4ms/step\n"
     ]
    },
    {
     "name": "stderr",
     "output_type": "stream",
     "text": [
      "\u001b[32m[I 2022-11-29 22:05:19,580]\u001b[0m Trial 1 finished with value: 0.29738424718379974 and parameters: {'NLayers': 14, 'LearningRate': 0.004242518015855772, 'BatchNorm_l1': False, 'Units_l1': 1931.4400251177185, 'Activation_l1': 'softsign', 'Dropout_l1': False, 'BatchNorm_l2': True, 'Units_l2': 1880.1293410011174, 'Activation_l2': 'lrelu', 'Dropout_l2': False, 'BatchNorm_l3': False, 'Units_l3': 1300.1362821422913, 'Activation_l3': 'softplus', 'Dropout_l3': True, 'BatchNorm_l4': False, 'Units_l4': 1561.3568243853538, 'Activation_l4': 'relu', 'Dropout_l4': False, 'BatchNorm_l5': False, 'Units_l5': 371.20742351102734, 'Activation_l5': 'softplus', 'Dropout_l5': False, 'BatchNorm_l6': False, 'Units_l6': 1987.178186237047, 'Activation_l6': 'relu', 'Dropout_l6': False, 'BatchNorm_l7': False, 'Units_l7': 650.5550549394015, 'Activation_l7': 'lrelu', 'Dropout_l7': False, 'BatchNorm_l8': True, 'Units_l8': 333.379375517454, 'Activation_l8': 'softsign', 'Dropout_l8': False, 'BatchNorm_l9': False, 'Units_l9': 1831.4938477439898, 'Activation_l9': 'softsign', 'Dropout_l9': True, 'BatchNorm_l10': False, 'Units_l10': 611.8968633729947, 'Activation_l10': 'softplus', 'Dropout_l10': False, 'BatchNorm_l11': True, 'Units_l11': 866.1884391008299, 'Activation_l11': 'softplus', 'Dropout_l11': True, 'BatchNorm_l12': True, 'Units_l12': 1639.502243113715, 'Activation_l12': 'softsign', 'Dropout_l12': False, 'BatchNorm_l13': True, 'Units_l13': 629.2851340148911, 'Activation_l13': 'lrelu', 'Dropout_l13': True, 'BatchNorm_l14': True, 'Units_l14': 1025.5466428813793, 'Activation_l14': 'softplus', 'Dropout_l14': False}. Best is trial 1 with value: 0.29738424718379974.\u001b[0m\n"
     ]
    },
    {
     "name": "stdout",
     "output_type": "stream",
     "text": [
      "31/31 [==============================] - 0s 3ms/step\n",
      "31/31 [==============================] - 0s 3ms/step\n",
      "31/31 [==============================] - 0s 3ms/step\n",
      "31/31 [==============================] - 0s 3ms/step\n"
     ]
    },
    {
     "name": "stderr",
     "output_type": "stream",
     "text": [
      "\u001b[32m[I 2022-11-29 22:16:21,192]\u001b[0m Trial 2 finished with value: 0.34517234191298485 and parameters: {'NLayers': 9, 'LearningRate': 0.008161220106105345, 'BatchNorm_l1': True, 'Units_l1': 878.3987036974112, 'Activation_l1': 'relu', 'Dropout_l1': True, 'BatchNorm_l2': True, 'Units_l2': 1984.3743893135847, 'Activation_l2': 'lrelu', 'Dropout_l2': True, 'BatchNorm_l3': False, 'Units_l3': 846.2494251537321, 'Activation_l3': 'softsign', 'Dropout_l3': False, 'BatchNorm_l4': True, 'Units_l4': 736.3187581705638, 'Activation_l4': 'softsign', 'Dropout_l4': True, 'BatchNorm_l5': False, 'Units_l5': 1004.8855661687496, 'Activation_l5': 'lrelu', 'Dropout_l5': True, 'BatchNorm_l6': False, 'Units_l6': 1422.0073597399885, 'Activation_l6': 'softplus', 'Dropout_l6': False, 'BatchNorm_l7': True, 'Units_l7': 1329.3041156446109, 'Activation_l7': 'lrelu', 'Dropout_l7': True, 'BatchNorm_l8': False, 'Units_l8': 1176.8017961202, 'Activation_l8': 'relu', 'Dropout_l8': False, 'BatchNorm_l9': False, 'Units_l9': 1081.075549115375, 'Activation_l9': 'lrelu', 'Dropout_l9': True}. Best is trial 1 with value: 0.29738424718379974.\u001b[0m\n"
     ]
    },
    {
     "name": "stdout",
     "output_type": "stream",
     "text": [
      "31/31 [==============================] - 0s 4ms/step\n",
      "31/31 [==============================] - 0s 4ms/step\n",
      "31/31 [==============================] - 0s 4ms/step\n",
      "31/31 [==============================] - 0s 4ms/step\n"
     ]
    },
    {
     "name": "stderr",
     "output_type": "stream",
     "text": [
      "\u001b[32m[I 2022-11-29 22:34:34,954]\u001b[0m Trial 3 finished with value: 0.29410217702388763 and parameters: {'NLayers': 13, 'LearningRate': 0.005908481905908217, 'BatchNorm_l1': True, 'Units_l1': 1293.0472205312049, 'Activation_l1': 'lrelu', 'Dropout_l1': False, 'BatchNorm_l2': True, 'Units_l2': 1865.2701463670874, 'Activation_l2': 'relu', 'Dropout_l2': False, 'BatchNorm_l3': True, 'Units_l3': 741.1510559276963, 'Activation_l3': 'softsign', 'Dropout_l3': False, 'BatchNorm_l4': True, 'Units_l4': 1669.6759552778078, 'Activation_l4': 'lrelu', 'Dropout_l4': True, 'BatchNorm_l5': True, 'Units_l5': 1043.6176265172608, 'Activation_l5': 'relu', 'Dropout_l5': True, 'BatchNorm_l6': False, 'Units_l6': 1734.6656572841716, 'Activation_l6': 'softsign', 'Dropout_l6': False, 'BatchNorm_l7': False, 'Units_l7': 1401.4493275864527, 'Activation_l7': 'softsign', 'Dropout_l7': False, 'BatchNorm_l8': False, 'Units_l8': 797.0205901805289, 'Activation_l8': 'relu', 'Dropout_l8': True, 'BatchNorm_l9': True, 'Units_l9': 1560.4983252876752, 'Activation_l9': 'softplus', 'Dropout_l9': False, 'BatchNorm_l10': False, 'Units_l10': 367.3031670020722, 'Activation_l10': 'relu', 'Dropout_l10': True, 'BatchNorm_l11': True, 'Units_l11': 1169.1574718071038, 'Activation_l11': 'softplus', 'Dropout_l11': True, 'BatchNorm_l12': False, 'Units_l12': 1375.4173509797824, 'Activation_l12': 'lrelu', 'Dropout_l12': True, 'BatchNorm_l13': True, 'Units_l13': 1156.4657655347917, 'Activation_l13': 'relu', 'Dropout_l13': True}. Best is trial 3 with value: 0.29410217702388763.\u001b[0m\n"
     ]
    },
    {
     "name": "stdout",
     "output_type": "stream",
     "text": [
      "31/31 [==============================] - 0s 4ms/step\n",
      "31/31 [==============================] - 1s 5ms/step\n",
      "31/31 [==============================] - 0s 5ms/step\n",
      "31/31 [==============================] - 0s 4ms/step\n"
     ]
    },
    {
     "name": "stderr",
     "output_type": "stream",
     "text": [
      "\u001b[32m[I 2022-11-29 22:50:31,858]\u001b[0m Trial 4 finished with value: 0.3863912634551525 and parameters: {'NLayers': 17, 'LearningRate': 0.009887315975581842, 'BatchNorm_l1': True, 'Units_l1': 684.7494680602956, 'Activation_l1': 'relu', 'Dropout_l1': True, 'BatchNorm_l2': True, 'Units_l2': 751.5782721484156, 'Activation_l2': 'softsign', 'Dropout_l2': False, 'BatchNorm_l3': True, 'Units_l3': 968.6601587615446, 'Activation_l3': 'lrelu', 'Dropout_l3': True, 'BatchNorm_l4': True, 'Units_l4': 648.0831784191937, 'Activation_l4': 'relu', 'Dropout_l4': False, 'BatchNorm_l5': True, 'Units_l5': 1190.6438427227833, 'Activation_l5': 'lrelu', 'Dropout_l5': False, 'BatchNorm_l6': True, 'Units_l6': 1486.631393384352, 'Activation_l6': 'lrelu', 'Dropout_l6': True, 'BatchNorm_l7': True, 'Units_l7': 1126.9497359822894, 'Activation_l7': 'lrelu', 'Dropout_l7': False, 'BatchNorm_l8': True, 'Units_l8': 1697.0725849679814, 'Activation_l8': 'relu', 'Dropout_l8': True, 'BatchNorm_l9': True, 'Units_l9': 516.7409339546045, 'Activation_l9': 'softplus', 'Dropout_l9': True, 'BatchNorm_l10': False, 'Units_l10': 636.3293196049015, 'Activation_l10': 'lrelu', 'Dropout_l10': True, 'BatchNorm_l11': False, 'Units_l11': 1001.8907473148395, 'Activation_l11': 'lrelu', 'Dropout_l11': True, 'BatchNorm_l12': True, 'Units_l12': 1474.5059615387777, 'Activation_l12': 'softsign', 'Dropout_l12': True, 'BatchNorm_l13': True, 'Units_l13': 1271.6244090231098, 'Activation_l13': 'softsign', 'Dropout_l13': False, 'BatchNorm_l14': True, 'Units_l14': 1724.3347054086742, 'Activation_l14': 'softsign', 'Dropout_l14': True, 'BatchNorm_l15': False, 'Units_l15': 363.7099141559754, 'Activation_l15': 'softsign', 'Dropout_l15': False, 'BatchNorm_l16': False, 'Units_l16': 445.75396480902407, 'Activation_l16': 'lrelu', 'Dropout_l16': False, 'BatchNorm_l17': False, 'Units_l17': 1552.5454761187164, 'Activation_l17': 'softplus', 'Dropout_l17': False}. Best is trial 3 with value: 0.29410217702388763.\u001b[0m\n"
     ]
    },
    {
     "data": {
      "text/html": [
       "<div>\n",
       "<style scoped>\n",
       "    .dataframe tbody tr th:only-of-type {\n",
       "        vertical-align: middle;\n",
       "    }\n",
       "\n",
       "    .dataframe tbody tr th {\n",
       "        vertical-align: top;\n",
       "    }\n",
       "\n",
       "    .dataframe thead th {\n",
       "        text-align: right;\n",
       "    }\n",
       "</style>\n",
       "<table border=\"1\" class=\"dataframe\">\n",
       "  <thead>\n",
       "    <tr style=\"text-align: right;\">\n",
       "      <th></th>\n",
       "      <th>number</th>\n",
       "      <th>MCRMSE</th>\n",
       "      <th>exec_time</th>\n",
       "      <th>Activation_l1</th>\n",
       "      <th>Activation_l10</th>\n",
       "      <th>Activation_l11</th>\n",
       "      <th>Activation_l12</th>\n",
       "      <th>Activation_l13</th>\n",
       "      <th>Activation_l2</th>\n",
       "      <th>Activation_l3</th>\n",
       "      <th>Activation_l4</th>\n",
       "      <th>Activation_l5</th>\n",
       "      <th>Activation_l6</th>\n",
       "      <th>Activation_l7</th>\n",
       "      <th>Activation_l8</th>\n",
       "      <th>Activation_l9</th>\n",
       "      <th>BatchNorm_l1</th>\n",
       "      <th>BatchNorm_l10</th>\n",
       "      <th>BatchNorm_l11</th>\n",
       "      <th>BatchNorm_l12</th>\n",
       "      <th>BatchNorm_l13</th>\n",
       "      <th>BatchNorm_l2</th>\n",
       "      <th>BatchNorm_l3</th>\n",
       "      <th>BatchNorm_l4</th>\n",
       "      <th>BatchNorm_l5</th>\n",
       "      <th>BatchNorm_l6</th>\n",
       "      <th>BatchNorm_l7</th>\n",
       "      <th>BatchNorm_l8</th>\n",
       "      <th>BatchNorm_l9</th>\n",
       "      <th>Dropout_l1</th>\n",
       "      <th>Dropout_l10</th>\n",
       "      <th>Dropout_l11</th>\n",
       "      <th>Dropout_l12</th>\n",
       "      <th>Dropout_l13</th>\n",
       "      <th>Dropout_l2</th>\n",
       "      <th>Dropout_l3</th>\n",
       "      <th>Dropout_l4</th>\n",
       "      <th>Dropout_l5</th>\n",
       "      <th>Dropout_l6</th>\n",
       "      <th>Dropout_l7</th>\n",
       "      <th>Dropout_l8</th>\n",
       "      <th>Dropout_l9</th>\n",
       "      <th>LearningRate</th>\n",
       "      <th>NLayers</th>\n",
       "      <th>Units_l1</th>\n",
       "      <th>Units_l10</th>\n",
       "      <th>Units_l11</th>\n",
       "      <th>Units_l12</th>\n",
       "      <th>Units_l13</th>\n",
       "      <th>Units_l2</th>\n",
       "      <th>Units_l3</th>\n",
       "      <th>Units_l4</th>\n",
       "      <th>Units_l5</th>\n",
       "      <th>Units_l6</th>\n",
       "      <th>Units_l7</th>\n",
       "      <th>Units_l8</th>\n",
       "      <th>Units_l9</th>\n",
       "    </tr>\n",
       "  </thead>\n",
       "  <tbody>\n",
       "    <tr>\n",
       "      <th>0</th>\n",
       "      <td>3</td>\n",
       "      <td>0.294102</td>\n",
       "      <td>0 days 00:18:13</td>\n",
       "      <td>lrelu</td>\n",
       "      <td>relu</td>\n",
       "      <td>softplus</td>\n",
       "      <td>lrelu</td>\n",
       "      <td>relu</td>\n",
       "      <td>relu</td>\n",
       "      <td>softsign</td>\n",
       "      <td>lrelu</td>\n",
       "      <td>relu</td>\n",
       "      <td>softsign</td>\n",
       "      <td>softsign</td>\n",
       "      <td>relu</td>\n",
       "      <td>softplus</td>\n",
       "      <td>True</td>\n",
       "      <td>False</td>\n",
       "      <td>True</td>\n",
       "      <td>False</td>\n",
       "      <td>True</td>\n",
       "      <td>True</td>\n",
       "      <td>True</td>\n",
       "      <td>True</td>\n",
       "      <td>True</td>\n",
       "      <td>False</td>\n",
       "      <td>False</td>\n",
       "      <td>False</td>\n",
       "      <td>True</td>\n",
       "      <td>False</td>\n",
       "      <td>True</td>\n",
       "      <td>True</td>\n",
       "      <td>True</td>\n",
       "      <td>True</td>\n",
       "      <td>False</td>\n",
       "      <td>False</td>\n",
       "      <td>True</td>\n",
       "      <td>True</td>\n",
       "      <td>False</td>\n",
       "      <td>False</td>\n",
       "      <td>True</td>\n",
       "      <td>False</td>\n",
       "      <td>0.005908</td>\n",
       "      <td>13</td>\n",
       "      <td>1293.047221</td>\n",
       "      <td>367.303167</td>\n",
       "      <td>1169.157472</td>\n",
       "      <td>1375.417351</td>\n",
       "      <td>1156.465766</td>\n",
       "      <td>1865.270146</td>\n",
       "      <td>741.151056</td>\n",
       "      <td>1669.675955</td>\n",
       "      <td>1043.617627</td>\n",
       "      <td>1734.665657</td>\n",
       "      <td>1401.449328</td>\n",
       "      <td>797.02059</td>\n",
       "      <td>1560.498325</td>\n",
       "    </tr>\n",
       "  </tbody>\n",
       "</table>\n",
       "</div>"
      ],
      "text/plain": [
       "   number    MCRMSE       exec_time Activation_l1 Activation_l10  \\\n",
       "0       3  0.294102 0 days 00:18:13         lrelu           relu   \n",
       "\n",
       "  Activation_l11 Activation_l12 Activation_l13 Activation_l2 Activation_l3  \\\n",
       "0       softplus          lrelu           relu          relu      softsign   \n",
       "\n",
       "  Activation_l4 Activation_l5 Activation_l6 Activation_l7 Activation_l8  \\\n",
       "0         lrelu          relu      softsign      softsign          relu   \n",
       "\n",
       "  Activation_l9  BatchNorm_l1  BatchNorm_l10  BatchNorm_l11  BatchNorm_l12  \\\n",
       "0      softplus          True          False           True          False   \n",
       "\n",
       "   BatchNorm_l13  BatchNorm_l2  BatchNorm_l3  BatchNorm_l4  BatchNorm_l5  \\\n",
       "0           True          True          True          True          True   \n",
       "\n",
       "   BatchNorm_l6  BatchNorm_l7  BatchNorm_l8  BatchNorm_l9  Dropout_l1  \\\n",
       "0         False         False         False          True       False   \n",
       "\n",
       "   Dropout_l10  Dropout_l11  Dropout_l12  Dropout_l13  Dropout_l2  Dropout_l3  \\\n",
       "0         True         True         True         True       False       False   \n",
       "\n",
       "   Dropout_l4  Dropout_l5  Dropout_l6  Dropout_l7  Dropout_l8  Dropout_l9  \\\n",
       "0        True        True       False       False        True       False   \n",
       "\n",
       "   LearningRate  NLayers     Units_l1   Units_l10    Units_l11    Units_l12  \\\n",
       "0      0.005908       13  1293.047221  367.303167  1169.157472  1375.417351   \n",
       "\n",
       "     Units_l13     Units_l2    Units_l3     Units_l4     Units_l5  \\\n",
       "0  1156.465766  1865.270146  741.151056  1669.675955  1043.617627   \n",
       "\n",
       "      Units_l6     Units_l7   Units_l8     Units_l9  \n",
       "0  1734.665657  1401.449328  797.02059  1560.498325  "
      ]
     },
     "metadata": {},
     "output_type": "display_data"
    },
    {
     "name": "stderr",
     "output_type": "stream",
     "text": [
      "\u001b[32m[I 2022-11-29 22:50:33,178]\u001b[0m A new study created in RDB with name: keras-phraseology\u001b[0m\n"
     ]
    },
    {
     "name": "stdout",
     "output_type": "stream",
     "text": [
      "31/31 [==============================] - 0s 3ms/step\n",
      "31/31 [==============================] - 0s 3ms/step\n",
      "31/31 [==============================] - 0s 3ms/step\n",
      "31/31 [==============================] - 0s 3ms/step\n"
     ]
    },
    {
     "name": "stderr",
     "output_type": "stream",
     "text": [
      "\u001b[32m[I 2022-11-29 22:57:27,375]\u001b[0m Trial 0 finished with value: 0.42658770829439163 and parameters: {'NLayers': 8, 'LearningRate': 0.007729040300211232, 'BatchNorm_l1': False, 'Units_l1': 800.279517587822, 'Activation_l1': 'softplus', 'Dropout_l1': True, 'BatchNorm_l2': False, 'Units_l2': 922.7071765354266, 'Activation_l2': 'lrelu', 'Dropout_l2': False, 'BatchNorm_l3': True, 'Units_l3': 1418.0016209504813, 'Activation_l3': 'lrelu', 'Dropout_l3': True, 'BatchNorm_l4': True, 'Units_l4': 789.6848790938232, 'Activation_l4': 'softplus', 'Dropout_l4': True, 'BatchNorm_l5': False, 'Units_l5': 923.1855876232582, 'Activation_l5': 'relu', 'Dropout_l5': True, 'BatchNorm_l6': True, 'Units_l6': 1793.964833925605, 'Activation_l6': 'relu', 'Dropout_l6': False, 'BatchNorm_l7': False, 'Units_l7': 441.36534864334897, 'Activation_l7': 'softplus', 'Dropout_l7': True, 'BatchNorm_l8': False, 'Units_l8': 334.57838338592006, 'Activation_l8': 'softsign', 'Dropout_l8': False}. Best is trial 0 with value: 0.42658770829439163.\u001b[0m\n"
     ]
    },
    {
     "name": "stdout",
     "output_type": "stream",
     "text": [
      "31/31 [==============================] - 0s 4ms/step\n",
      "31/31 [==============================] - 0s 4ms/step\n",
      "31/31 [==============================] - 0s 4ms/step\n",
      "31/31 [==============================] - 0s 4ms/step\n"
     ]
    },
    {
     "name": "stderr",
     "output_type": "stream",
     "text": [
      "\u001b[32m[I 2022-11-29 23:25:46,185]\u001b[0m Trial 1 finished with value: 0.3265671133995056 and parameters: {'NLayers': 13, 'LearningRate': 0.0044187321267900575, 'BatchNorm_l1': False, 'Units_l1': 1933.5065717158423, 'Activation_l1': 'softsign', 'Dropout_l1': True, 'BatchNorm_l2': False, 'Units_l2': 828.4095081751383, 'Activation_l2': 'relu', 'Dropout_l2': True, 'BatchNorm_l3': True, 'Units_l3': 1152.7771228296501, 'Activation_l3': 'softplus', 'Dropout_l3': False, 'BatchNorm_l4': True, 'Units_l4': 1040.3416647454387, 'Activation_l4': 'softsign', 'Dropout_l4': True, 'BatchNorm_l5': True, 'Units_l5': 1210.840427708233, 'Activation_l5': 'softsign', 'Dropout_l5': True, 'BatchNorm_l6': True, 'Units_l6': 1584.0503616483538, 'Activation_l6': 'softplus', 'Dropout_l6': True, 'BatchNorm_l7': True, 'Units_l7': 1097.5388813892241, 'Activation_l7': 'relu', 'Dropout_l7': True, 'BatchNorm_l8': True, 'Units_l8': 488.88978079647336, 'Activation_l8': 'lrelu', 'Dropout_l8': True, 'BatchNorm_l9': False, 'Units_l9': 1089.4503621570207, 'Activation_l9': 'softplus', 'Dropout_l9': False, 'BatchNorm_l10': True, 'Units_l10': 1761.8458575262957, 'Activation_l10': 'relu', 'Dropout_l10': False, 'BatchNorm_l11': True, 'Units_l11': 1504.1168588627465, 'Activation_l11': 'lrelu', 'Dropout_l11': False, 'BatchNorm_l12': False, 'Units_l12': 807.6551631515497, 'Activation_l12': 'lrelu', 'Dropout_l12': True, 'BatchNorm_l13': True, 'Units_l13': 1828.680862650528, 'Activation_l13': 'lrelu', 'Dropout_l13': True}. Best is trial 1 with value: 0.3265671133995056.\u001b[0m\n"
     ]
    },
    {
     "name": "stdout",
     "output_type": "stream",
     "text": [
      "31/31 [==============================] - 0s 4ms/step\n",
      "31/31 [==============================] - 0s 4ms/step\n",
      "31/31 [==============================] - 0s 4ms/step\n",
      "31/31 [==============================] - 0s 4ms/step\n"
     ]
    },
    {
     "name": "stderr",
     "output_type": "stream",
     "text": [
      "\u001b[32m[I 2022-11-29 23:37:47,904]\u001b[0m Trial 2 finished with value: 0.43720313534140587 and parameters: {'NLayers': 20, 'LearningRate': 0.009820679349849329, 'BatchNorm_l1': False, 'Units_l1': 316.5001288345249, 'Activation_l1': 'lrelu', 'Dropout_l1': True, 'BatchNorm_l2': False, 'Units_l2': 716.6668184925842, 'Activation_l2': 'softsign', 'Dropout_l2': False, 'BatchNorm_l3': True, 'Units_l3': 1889.7483769013882, 'Activation_l3': 'lrelu', 'Dropout_l3': True, 'BatchNorm_l4': False, 'Units_l4': 939.014660967373, 'Activation_l4': 'softsign', 'Dropout_l4': True, 'BatchNorm_l5': True, 'Units_l5': 1201.0349922361352, 'Activation_l5': 'softsign', 'Dropout_l5': False, 'BatchNorm_l6': True, 'Units_l6': 1661.2948234141875, 'Activation_l6': 'softplus', 'Dropout_l6': True, 'BatchNorm_l7': False, 'Units_l7': 1571.0183792657472, 'Activation_l7': 'relu', 'Dropout_l7': False, 'BatchNorm_l8': True, 'Units_l8': 807.5347368985138, 'Activation_l8': 'softsign', 'Dropout_l8': True, 'BatchNorm_l9': False, 'Units_l9': 1198.2996621866123, 'Activation_l9': 'softplus', 'Dropout_l9': False, 'BatchNorm_l10': False, 'Units_l10': 1899.597179662872, 'Activation_l10': 'relu', 'Dropout_l10': True, 'BatchNorm_l11': False, 'Units_l11': 1832.890296739848, 'Activation_l11': 'lrelu', 'Dropout_l11': False, 'BatchNorm_l12': False, 'Units_l12': 1023.1843893543534, 'Activation_l12': 'relu', 'Dropout_l12': False, 'BatchNorm_l13': False, 'Units_l13': 1583.364933703572, 'Activation_l13': 'lrelu', 'Dropout_l13': True, 'BatchNorm_l14': False, 'Units_l14': 1260.5433899494499, 'Activation_l14': 'lrelu', 'Dropout_l14': True, 'BatchNorm_l15': False, 'Units_l15': 558.4053218936676, 'Activation_l15': 'softplus', 'Dropout_l15': True, 'BatchNorm_l16': False, 'Units_l16': 1811.2109821856948, 'Activation_l16': 'lrelu', 'Dropout_l16': True, 'BatchNorm_l17': True, 'Units_l17': 1758.233366828175, 'Activation_l17': 'softsign', 'Dropout_l17': False, 'BatchNorm_l18': False, 'Units_l18': 1741.3868560748706, 'Activation_l18': 'relu', 'Dropout_l18': False, 'BatchNorm_l19': True, 'Units_l19': 1450.392944747039, 'Activation_l19': 'relu', 'Dropout_l19': True, 'BatchNorm_l20': True, 'Units_l20': 419.92931018408154, 'Activation_l20': 'relu', 'Dropout_l20': True}. Best is trial 1 with value: 0.3265671133995056.\u001b[0m\n"
     ]
    },
    {
     "name": "stdout",
     "output_type": "stream",
     "text": [
      "31/31 [==============================] - 0s 3ms/step\n",
      "31/31 [==============================] - 0s 3ms/step\n",
      "31/31 [==============================] - 0s 3ms/step\n",
      "31/31 [==============================] - 0s 3ms/step\n"
     ]
    },
    {
     "name": "stderr",
     "output_type": "stream",
     "text": [
      "\u001b[32m[I 2022-11-29 23:48:04,047]\u001b[0m Trial 3 finished with value: 0.4538755416870117 and parameters: {'NLayers': 11, 'LearningRate': 0.002084494729566728, 'BatchNorm_l1': False, 'Units_l1': 966.5614225601362, 'Activation_l1': 'softplus', 'Dropout_l1': True, 'BatchNorm_l2': False, 'Units_l2': 785.2892681687736, 'Activation_l2': 'softplus', 'Dropout_l2': True, 'BatchNorm_l3': False, 'Units_l3': 349.6608432807515, 'Activation_l3': 'lrelu', 'Dropout_l3': False, 'BatchNorm_l4': False, 'Units_l4': 410.5091685850964, 'Activation_l4': 'softplus', 'Dropout_l4': True, 'BatchNorm_l5': True, 'Units_l5': 1688.9620933087106, 'Activation_l5': 'softsign', 'Dropout_l5': True, 'BatchNorm_l6': False, 'Units_l6': 1366.948002264725, 'Activation_l6': 'lrelu', 'Dropout_l6': True, 'BatchNorm_l7': True, 'Units_l7': 1872.1439316043402, 'Activation_l7': 'relu', 'Dropout_l7': True, 'BatchNorm_l8': False, 'Units_l8': 1691.2976967591208, 'Activation_l8': 'lrelu', 'Dropout_l8': False, 'BatchNorm_l9': False, 'Units_l9': 1297.3557784664763, 'Activation_l9': 'softsign', 'Dropout_l9': True, 'BatchNorm_l10': True, 'Units_l10': 444.66005507984255, 'Activation_l10': 'relu', 'Dropout_l10': True, 'BatchNorm_l11': True, 'Units_l11': 1793.8980224157565, 'Activation_l11': 'softsign', 'Dropout_l11': True}. Best is trial 1 with value: 0.3265671133995056.\u001b[0m\n"
     ]
    },
    {
     "name": "stdout",
     "output_type": "stream",
     "text": [
      "31/31 [==============================] - 0s 5ms/step\n",
      "31/31 [==============================] - 0s 4ms/step\n",
      "31/31 [==============================] - 0s 4ms/step\n",
      "31/31 [==============================] - 0s 4ms/step\n"
     ]
    },
    {
     "name": "stderr",
     "output_type": "stream",
     "text": [
      "\u001b[32m[I 2022-11-30 00:19:31,122]\u001b[0m Trial 4 finished with value: 0.34627489373087883 and parameters: {'NLayers': 20, 'LearningRate': 0.008199517188349171, 'BatchNorm_l1': False, 'Units_l1': 1462.2835825400334, 'Activation_l1': 'softplus', 'Dropout_l1': True, 'BatchNorm_l2': False, 'Units_l2': 1381.765807140769, 'Activation_l2': 'relu', 'Dropout_l2': False, 'BatchNorm_l3': False, 'Units_l3': 637.7252813974108, 'Activation_l3': 'softplus', 'Dropout_l3': True, 'BatchNorm_l4': True, 'Units_l4': 1799.3882373225001, 'Activation_l4': 'softplus', 'Dropout_l4': False, 'BatchNorm_l5': False, 'Units_l5': 558.248521446453, 'Activation_l5': 'relu', 'Dropout_l5': True, 'BatchNorm_l6': True, 'Units_l6': 672.3204365509342, 'Activation_l6': 'lrelu', 'Dropout_l6': True, 'BatchNorm_l7': True, 'Units_l7': 1611.0764359740494, 'Activation_l7': 'lrelu', 'Dropout_l7': True, 'BatchNorm_l8': True, 'Units_l8': 1041.9341135542495, 'Activation_l8': 'softsign', 'Dropout_l8': False, 'BatchNorm_l9': True, 'Units_l9': 752.3612387771003, 'Activation_l9': 'softsign', 'Dropout_l9': False, 'BatchNorm_l10': False, 'Units_l10': 738.5106976419156, 'Activation_l10': 'lrelu', 'Dropout_l10': True, 'BatchNorm_l11': True, 'Units_l11': 1567.5928001107206, 'Activation_l11': 'softplus', 'Dropout_l11': True, 'BatchNorm_l12': True, 'Units_l12': 1495.2389084235585, 'Activation_l12': 'softsign', 'Dropout_l12': True, 'BatchNorm_l13': True, 'Units_l13': 1442.662337309767, 'Activation_l13': 'softplus', 'Dropout_l13': True, 'BatchNorm_l14': False, 'Units_l14': 1026.9195265776639, 'Activation_l14': 'lrelu', 'Dropout_l14': True, 'BatchNorm_l15': True, 'Units_l15': 1129.9175267048752, 'Activation_l15': 'softplus', 'Dropout_l15': False, 'BatchNorm_l16': True, 'Units_l16': 371.4523019808513, 'Activation_l16': 'softplus', 'Dropout_l16': True, 'BatchNorm_l17': True, 'Units_l17': 1267.6763516410635, 'Activation_l17': 'relu', 'Dropout_l17': False, 'BatchNorm_l18': False, 'Units_l18': 348.89797312951816, 'Activation_l18': 'softplus', 'Dropout_l18': False, 'BatchNorm_l19': True, 'Units_l19': 1413.5560895090912, 'Activation_l19': 'relu', 'Dropout_l19': True, 'BatchNorm_l20': False, 'Units_l20': 1814.323418159224, 'Activation_l20': 'relu', 'Dropout_l20': False}. Best is trial 1 with value: 0.3265671133995056.\u001b[0m\n"
     ]
    },
    {
     "data": {
      "text/html": [
       "<div>\n",
       "<style scoped>\n",
       "    .dataframe tbody tr th:only-of-type {\n",
       "        vertical-align: middle;\n",
       "    }\n",
       "\n",
       "    .dataframe tbody tr th {\n",
       "        vertical-align: top;\n",
       "    }\n",
       "\n",
       "    .dataframe thead th {\n",
       "        text-align: right;\n",
       "    }\n",
       "</style>\n",
       "<table border=\"1\" class=\"dataframe\">\n",
       "  <thead>\n",
       "    <tr style=\"text-align: right;\">\n",
       "      <th></th>\n",
       "      <th>number</th>\n",
       "      <th>MCRMSE</th>\n",
       "      <th>exec_time</th>\n",
       "      <th>Activation_l1</th>\n",
       "      <th>Activation_l10</th>\n",
       "      <th>Activation_l11</th>\n",
       "      <th>Activation_l12</th>\n",
       "      <th>Activation_l13</th>\n",
       "      <th>Activation_l2</th>\n",
       "      <th>Activation_l3</th>\n",
       "      <th>Activation_l4</th>\n",
       "      <th>Activation_l5</th>\n",
       "      <th>Activation_l6</th>\n",
       "      <th>Activation_l7</th>\n",
       "      <th>Activation_l8</th>\n",
       "      <th>Activation_l9</th>\n",
       "      <th>BatchNorm_l1</th>\n",
       "      <th>BatchNorm_l10</th>\n",
       "      <th>BatchNorm_l11</th>\n",
       "      <th>BatchNorm_l12</th>\n",
       "      <th>BatchNorm_l13</th>\n",
       "      <th>BatchNorm_l2</th>\n",
       "      <th>BatchNorm_l3</th>\n",
       "      <th>BatchNorm_l4</th>\n",
       "      <th>BatchNorm_l5</th>\n",
       "      <th>BatchNorm_l6</th>\n",
       "      <th>BatchNorm_l7</th>\n",
       "      <th>BatchNorm_l8</th>\n",
       "      <th>BatchNorm_l9</th>\n",
       "      <th>Dropout_l1</th>\n",
       "      <th>Dropout_l10</th>\n",
       "      <th>Dropout_l11</th>\n",
       "      <th>Dropout_l12</th>\n",
       "      <th>Dropout_l13</th>\n",
       "      <th>Dropout_l2</th>\n",
       "      <th>Dropout_l3</th>\n",
       "      <th>Dropout_l4</th>\n",
       "      <th>Dropout_l5</th>\n",
       "      <th>Dropout_l6</th>\n",
       "      <th>Dropout_l7</th>\n",
       "      <th>Dropout_l8</th>\n",
       "      <th>Dropout_l9</th>\n",
       "      <th>LearningRate</th>\n",
       "      <th>NLayers</th>\n",
       "      <th>Units_l1</th>\n",
       "      <th>Units_l10</th>\n",
       "      <th>Units_l11</th>\n",
       "      <th>Units_l12</th>\n",
       "      <th>Units_l13</th>\n",
       "      <th>Units_l2</th>\n",
       "      <th>Units_l3</th>\n",
       "      <th>Units_l4</th>\n",
       "      <th>Units_l5</th>\n",
       "      <th>Units_l6</th>\n",
       "      <th>Units_l7</th>\n",
       "      <th>Units_l8</th>\n",
       "      <th>Units_l9</th>\n",
       "    </tr>\n",
       "  </thead>\n",
       "  <tbody>\n",
       "    <tr>\n",
       "      <th>0</th>\n",
       "      <td>1</td>\n",
       "      <td>0.326567</td>\n",
       "      <td>0 days 00:28:18</td>\n",
       "      <td>softsign</td>\n",
       "      <td>relu</td>\n",
       "      <td>lrelu</td>\n",
       "      <td>lrelu</td>\n",
       "      <td>lrelu</td>\n",
       "      <td>relu</td>\n",
       "      <td>softplus</td>\n",
       "      <td>softsign</td>\n",
       "      <td>softsign</td>\n",
       "      <td>softplus</td>\n",
       "      <td>relu</td>\n",
       "      <td>lrelu</td>\n",
       "      <td>softplus</td>\n",
       "      <td>False</td>\n",
       "      <td>True</td>\n",
       "      <td>True</td>\n",
       "      <td>False</td>\n",
       "      <td>True</td>\n",
       "      <td>False</td>\n",
       "      <td>True</td>\n",
       "      <td>True</td>\n",
       "      <td>True</td>\n",
       "      <td>True</td>\n",
       "      <td>True</td>\n",
       "      <td>True</td>\n",
       "      <td>False</td>\n",
       "      <td>True</td>\n",
       "      <td>False</td>\n",
       "      <td>False</td>\n",
       "      <td>True</td>\n",
       "      <td>True</td>\n",
       "      <td>True</td>\n",
       "      <td>False</td>\n",
       "      <td>True</td>\n",
       "      <td>True</td>\n",
       "      <td>True</td>\n",
       "      <td>True</td>\n",
       "      <td>True</td>\n",
       "      <td>False</td>\n",
       "      <td>0.004419</td>\n",
       "      <td>13</td>\n",
       "      <td>1933.506572</td>\n",
       "      <td>1761.845858</td>\n",
       "      <td>1504.116859</td>\n",
       "      <td>807.655163</td>\n",
       "      <td>1828.680863</td>\n",
       "      <td>828.409508</td>\n",
       "      <td>1152.777123</td>\n",
       "      <td>1040.341665</td>\n",
       "      <td>1210.840428</td>\n",
       "      <td>1584.050362</td>\n",
       "      <td>1097.538881</td>\n",
       "      <td>488.889781</td>\n",
       "      <td>1089.450362</td>\n",
       "    </tr>\n",
       "  </tbody>\n",
       "</table>\n",
       "</div>"
      ],
      "text/plain": [
       "   number    MCRMSE       exec_time Activation_l1 Activation_l10  \\\n",
       "0       1  0.326567 0 days 00:28:18      softsign           relu   \n",
       "\n",
       "  Activation_l11 Activation_l12 Activation_l13 Activation_l2 Activation_l3  \\\n",
       "0          lrelu          lrelu          lrelu          relu      softplus   \n",
       "\n",
       "  Activation_l4 Activation_l5 Activation_l6 Activation_l7 Activation_l8  \\\n",
       "0      softsign      softsign      softplus          relu         lrelu   \n",
       "\n",
       "  Activation_l9  BatchNorm_l1  BatchNorm_l10  BatchNorm_l11  BatchNorm_l12  \\\n",
       "0      softplus         False           True           True          False   \n",
       "\n",
       "   BatchNorm_l13  BatchNorm_l2  BatchNorm_l3  BatchNorm_l4  BatchNorm_l5  \\\n",
       "0           True         False          True          True          True   \n",
       "\n",
       "   BatchNorm_l6  BatchNorm_l7  BatchNorm_l8  BatchNorm_l9  Dropout_l1  \\\n",
       "0          True          True          True         False        True   \n",
       "\n",
       "   Dropout_l10  Dropout_l11  Dropout_l12  Dropout_l13  Dropout_l2  Dropout_l3  \\\n",
       "0        False        False         True         True        True       False   \n",
       "\n",
       "   Dropout_l4  Dropout_l5  Dropout_l6  Dropout_l7  Dropout_l8  Dropout_l9  \\\n",
       "0        True        True        True        True        True       False   \n",
       "\n",
       "   LearningRate  NLayers     Units_l1    Units_l10    Units_l11   Units_l12  \\\n",
       "0      0.004419       13  1933.506572  1761.845858  1504.116859  807.655163   \n",
       "\n",
       "     Units_l13    Units_l2     Units_l3     Units_l4     Units_l5  \\\n",
       "0  1828.680863  828.409508  1152.777123  1040.341665  1210.840428   \n",
       "\n",
       "      Units_l6     Units_l7    Units_l8     Units_l9  \n",
       "0  1584.050362  1097.538881  488.889781  1089.450362  "
      ]
     },
     "metadata": {},
     "output_type": "display_data"
    },
    {
     "name": "stderr",
     "output_type": "stream",
     "text": [
      "\u001b[32m[I 2022-11-30 00:19:32,561]\u001b[0m A new study created in RDB with name: keras-grammar\u001b[0m\n"
     ]
    },
    {
     "name": "stdout",
     "output_type": "stream",
     "text": [
      "31/31 [==============================] - 0s 3ms/step\n",
      "31/31 [==============================] - 0s 3ms/step\n",
      "31/31 [==============================] - 0s 3ms/step\n",
      "31/31 [==============================] - 0s 3ms/step\n"
     ]
    },
    {
     "name": "stderr",
     "output_type": "stream",
     "text": [
      "\u001b[32m[I 2022-11-30 00:27:06,315]\u001b[0m Trial 0 finished with value: 0.4895458221435547 and parameters: {'NLayers': 9, 'LearningRate': 0.009383506449162532, 'BatchNorm_l1': True, 'Units_l1': 850.5041728412547, 'Activation_l1': 'softplus', 'Dropout_l1': True, 'BatchNorm_l2': False, 'Units_l2': 439.82624884891504, 'Activation_l2': 'softplus', 'Dropout_l2': False, 'BatchNorm_l3': False, 'Units_l3': 1767.264292357295, 'Activation_l3': 'relu', 'Dropout_l3': False, 'BatchNorm_l4': False, 'Units_l4': 1247.8186567393905, 'Activation_l4': 'softsign', 'Dropout_l4': True, 'BatchNorm_l5': False, 'Units_l5': 1237.0045392370193, 'Activation_l5': 'softsign', 'Dropout_l5': True, 'BatchNorm_l6': False, 'Units_l6': 1616.2113333723244, 'Activation_l6': 'relu', 'Dropout_l6': True, 'BatchNorm_l7': False, 'Units_l7': 1175.724474600584, 'Activation_l7': 'relu', 'Dropout_l7': True, 'BatchNorm_l8': True, 'Units_l8': 623.4600408034869, 'Activation_l8': 'softplus', 'Dropout_l8': True, 'BatchNorm_l9': True, 'Units_l9': 454.5456342712989, 'Activation_l9': 'lrelu', 'Dropout_l9': True}. Best is trial 0 with value: 0.4895458221435547.\u001b[0m\n"
     ]
    },
    {
     "name": "stdout",
     "output_type": "stream",
     "text": [
      "31/31 [==============================] - 0s 4ms/step\n",
      "31/31 [==============================] - 0s 4ms/step\n",
      "31/31 [==============================] - 0s 4ms/step\n"
     ]
    },
    {
     "name": "stderr",
     "output_type": "stream",
     "text": [
      "\u001b[32m[I 2022-11-30 00:38:16,900]\u001b[0m Trial 1 finished with value: 0.5068109221756458 and parameters: {'NLayers': 14, 'LearningRate': 0.0035822903241341216, 'BatchNorm_l1': True, 'Units_l1': 1412.2323797798786, 'Activation_l1': 'softplus', 'Dropout_l1': False, 'BatchNorm_l2': False, 'Units_l2': 517.9158525663469, 'Activation_l2': 'lrelu', 'Dropout_l2': True, 'BatchNorm_l3': True, 'Units_l3': 1456.4414653574404, 'Activation_l3': 'softsign', 'Dropout_l3': False, 'BatchNorm_l4': True, 'Units_l4': 800.4248759622799, 'Activation_l4': 'softplus', 'Dropout_l4': False, 'BatchNorm_l5': False, 'Units_l5': 1589.3978422615346, 'Activation_l5': 'softsign', 'Dropout_l5': False, 'BatchNorm_l6': True, 'Units_l6': 1540.8490653194795, 'Activation_l6': 'lrelu', 'Dropout_l6': True, 'BatchNorm_l7': False, 'Units_l7': 1909.1294545429398, 'Activation_l7': 'relu', 'Dropout_l7': False, 'BatchNorm_l8': True, 'Units_l8': 682.9710202752473, 'Activation_l8': 'softplus', 'Dropout_l8': False, 'BatchNorm_l9': True, 'Units_l9': 1013.4956868184998, 'Activation_l9': 'softsign', 'Dropout_l9': False, 'BatchNorm_l10': False, 'Units_l10': 1528.1238768307298, 'Activation_l10': 'softplus', 'Dropout_l10': False, 'BatchNorm_l11': False, 'Units_l11': 1462.9942510481071, 'Activation_l11': 'softsign', 'Dropout_l11': False, 'BatchNorm_l12': False, 'Units_l12': 1000.3468707766532, 'Activation_l12': 'relu', 'Dropout_l12': False, 'BatchNorm_l13': True, 'Units_l13': 1124.031950110636, 'Activation_l13': 'softplus', 'Dropout_l13': True, 'BatchNorm_l14': True, 'Units_l14': 885.6939119764777, 'Activation_l14': 'softsign', 'Dropout_l14': False}. Best is trial 0 with value: 0.4895458221435547.\u001b[0m\n"
     ]
    },
    {
     "name": "stdout",
     "output_type": "stream",
     "text": [
      "31/31 [==============================] - 0s 4ms/step\n",
      "31/31 [==============================] - 0s 4ms/step\n",
      "31/31 [==============================] - 0s 4ms/step\n",
      "31/31 [==============================] - 0s 4ms/step\n"
     ]
    },
    {
     "name": "stderr",
     "output_type": "stream",
     "text": [
      "\u001b[32m[I 2022-11-30 01:06:16,577]\u001b[0m Trial 2 finished with value: 0.40471139177680016 and parameters: {'NLayers': 11, 'LearningRate': 0.006833493518551342, 'BatchNorm_l1': True, 'Units_l1': 310.45689553747707, 'Activation_l1': 'softsign', 'Dropout_l1': False, 'BatchNorm_l2': True, 'Units_l2': 1556.84429538937, 'Activation_l2': 'relu', 'Dropout_l2': False, 'BatchNorm_l3': False, 'Units_l3': 1788.3284773072799, 'Activation_l3': 'lrelu', 'Dropout_l3': True, 'BatchNorm_l4': True, 'Units_l4': 1116.237418417931, 'Activation_l4': 'relu', 'Dropout_l4': False, 'BatchNorm_l5': True, 'Units_l5': 1108.969909106119, 'Activation_l5': 'softplus', 'Dropout_l5': True, 'BatchNorm_l6': True, 'Units_l6': 401.821244382222, 'Activation_l6': 'relu', 'Dropout_l6': False, 'BatchNorm_l7': False, 'Units_l7': 1460.9306005289445, 'Activation_l7': 'softsign', 'Dropout_l7': True, 'BatchNorm_l8': True, 'Units_l8': 1423.6110558039777, 'Activation_l8': 'relu', 'Dropout_l8': True, 'BatchNorm_l9': True, 'Units_l9': 396.4668625994068, 'Activation_l9': 'relu', 'Dropout_l9': False, 'BatchNorm_l10': True, 'Units_l10': 1266.1421818725569, 'Activation_l10': 'softsign', 'Dropout_l10': False, 'BatchNorm_l11': True, 'Units_l11': 754.361387641244, 'Activation_l11': 'softplus', 'Dropout_l11': True}. Best is trial 2 with value: 0.40471139177680016.\u001b[0m\n"
     ]
    },
    {
     "name": "stdout",
     "output_type": "stream",
     "text": [
      "31/31 [==============================] - 0s 4ms/step\n",
      "31/31 [==============================] - 0s 4ms/step\n",
      "31/31 [==============================] - 0s 4ms/step\n",
      "31/31 [==============================] - 0s 4ms/step\n"
     ]
    },
    {
     "name": "stderr",
     "output_type": "stream",
     "text": [
      "\u001b[32m[I 2022-11-30 01:20:22,818]\u001b[0m Trial 3 finished with value: 0.41032517701387405 and parameters: {'NLayers': 12, 'LearningRate': 0.004118674000928357, 'BatchNorm_l1': True, 'Units_l1': 1936.3513260709085, 'Activation_l1': 'softplus', 'Dropout_l1': False, 'BatchNorm_l2': False, 'Units_l2': 662.2761733938368, 'Activation_l2': 'softplus', 'Dropout_l2': True, 'BatchNorm_l3': True, 'Units_l3': 1909.2390862214954, 'Activation_l3': 'relu', 'Dropout_l3': True, 'BatchNorm_l4': False, 'Units_l4': 589.9625304231547, 'Activation_l4': 'relu', 'Dropout_l4': False, 'BatchNorm_l5': True, 'Units_l5': 1585.2705754579579, 'Activation_l5': 'softsign', 'Dropout_l5': True, 'BatchNorm_l6': True, 'Units_l6': 1253.2593427333495, 'Activation_l6': 'relu', 'Dropout_l6': True, 'BatchNorm_l7': True, 'Units_l7': 650.5315890704398, 'Activation_l7': 'relu', 'Dropout_l7': False, 'BatchNorm_l8': True, 'Units_l8': 1062.40058650588, 'Activation_l8': 'softplus', 'Dropout_l8': False, 'BatchNorm_l9': True, 'Units_l9': 726.6673078021083, 'Activation_l9': 'softsign', 'Dropout_l9': True, 'BatchNorm_l10': False, 'Units_l10': 1453.6536043500685, 'Activation_l10': 'softplus', 'Dropout_l10': False, 'BatchNorm_l11': True, 'Units_l11': 833.7642556146676, 'Activation_l11': 'relu', 'Dropout_l11': False, 'BatchNorm_l12': False, 'Units_l12': 1108.252387046172, 'Activation_l12': 'softplus', 'Dropout_l12': True}. Best is trial 2 with value: 0.40471139177680016.\u001b[0m\n"
     ]
    },
    {
     "name": "stdout",
     "output_type": "stream",
     "text": [
      "31/31 [==============================] - 0s 3ms/step\n",
      "31/31 [==============================] - 0s 4ms/step\n",
      "31/31 [==============================] - 0s 3ms/step\n",
      "31/31 [==============================] - 0s 3ms/step\n"
     ]
    },
    {
     "name": "stderr",
     "output_type": "stream",
     "text": [
      "\u001b[32m[I 2022-11-30 01:32:53,354]\u001b[0m Trial 4 finished with value: 0.5128716379404068 and parameters: {'NLayers': 13, 'LearningRate': 0.008283027314213518, 'BatchNorm_l1': False, 'Units_l1': 410.9580475940512, 'Activation_l1': 'softplus', 'Dropout_l1': False, 'BatchNorm_l2': False, 'Units_l2': 783.2312931970968, 'Activation_l2': 'softsign', 'Dropout_l2': True, 'BatchNorm_l3': False, 'Units_l3': 1234.1413177576749, 'Activation_l3': 'softsign', 'Dropout_l3': False, 'BatchNorm_l4': True, 'Units_l4': 443.64726721733155, 'Activation_l4': 'lrelu', 'Dropout_l4': False, 'BatchNorm_l5': True, 'Units_l5': 1157.3521350404212, 'Activation_l5': 'relu', 'Dropout_l5': False, 'BatchNorm_l6': False, 'Units_l6': 1289.833047898604, 'Activation_l6': 'relu', 'Dropout_l6': True, 'BatchNorm_l7': True, 'Units_l7': 377.8550574766068, 'Activation_l7': 'softsign', 'Dropout_l7': False, 'BatchNorm_l8': False, 'Units_l8': 1341.141349196246, 'Activation_l8': 'lrelu', 'Dropout_l8': False, 'BatchNorm_l9': False, 'Units_l9': 1383.4117993822842, 'Activation_l9': 'lrelu', 'Dropout_l9': True, 'BatchNorm_l10': True, 'Units_l10': 1264.9033156087976, 'Activation_l10': 'lrelu', 'Dropout_l10': False, 'BatchNorm_l11': False, 'Units_l11': 1886.512098864689, 'Activation_l11': 'softplus', 'Dropout_l11': False, 'BatchNorm_l12': True, 'Units_l12': 465.3073642551649, 'Activation_l12': 'lrelu', 'Dropout_l12': True, 'BatchNorm_l13': False, 'Units_l13': 1943.1902986982939, 'Activation_l13': 'softsign', 'Dropout_l13': False}. Best is trial 2 with value: 0.40471139177680016.\u001b[0m\n"
     ]
    },
    {
     "data": {
      "text/html": [
       "<div>\n",
       "<style scoped>\n",
       "    .dataframe tbody tr th:only-of-type {\n",
       "        vertical-align: middle;\n",
       "    }\n",
       "\n",
       "    .dataframe tbody tr th {\n",
       "        vertical-align: top;\n",
       "    }\n",
       "\n",
       "    .dataframe thead th {\n",
       "        text-align: right;\n",
       "    }\n",
       "</style>\n",
       "<table border=\"1\" class=\"dataframe\">\n",
       "  <thead>\n",
       "    <tr style=\"text-align: right;\">\n",
       "      <th></th>\n",
       "      <th>number</th>\n",
       "      <th>MCRMSE</th>\n",
       "      <th>exec_time</th>\n",
       "      <th>Activation_l1</th>\n",
       "      <th>Activation_l10</th>\n",
       "      <th>Activation_l11</th>\n",
       "      <th>Activation_l2</th>\n",
       "      <th>Activation_l3</th>\n",
       "      <th>Activation_l4</th>\n",
       "      <th>Activation_l5</th>\n",
       "      <th>Activation_l6</th>\n",
       "      <th>Activation_l7</th>\n",
       "      <th>Activation_l8</th>\n",
       "      <th>Activation_l9</th>\n",
       "      <th>BatchNorm_l1</th>\n",
       "      <th>BatchNorm_l10</th>\n",
       "      <th>BatchNorm_l11</th>\n",
       "      <th>BatchNorm_l2</th>\n",
       "      <th>BatchNorm_l3</th>\n",
       "      <th>BatchNorm_l4</th>\n",
       "      <th>BatchNorm_l5</th>\n",
       "      <th>BatchNorm_l6</th>\n",
       "      <th>BatchNorm_l7</th>\n",
       "      <th>BatchNorm_l8</th>\n",
       "      <th>BatchNorm_l9</th>\n",
       "      <th>Dropout_l1</th>\n",
       "      <th>Dropout_l10</th>\n",
       "      <th>Dropout_l11</th>\n",
       "      <th>Dropout_l2</th>\n",
       "      <th>Dropout_l3</th>\n",
       "      <th>Dropout_l4</th>\n",
       "      <th>Dropout_l5</th>\n",
       "      <th>Dropout_l6</th>\n",
       "      <th>Dropout_l7</th>\n",
       "      <th>Dropout_l8</th>\n",
       "      <th>Dropout_l9</th>\n",
       "      <th>LearningRate</th>\n",
       "      <th>NLayers</th>\n",
       "      <th>Units_l1</th>\n",
       "      <th>Units_l10</th>\n",
       "      <th>Units_l11</th>\n",
       "      <th>Units_l2</th>\n",
       "      <th>Units_l3</th>\n",
       "      <th>Units_l4</th>\n",
       "      <th>Units_l5</th>\n",
       "      <th>Units_l6</th>\n",
       "      <th>Units_l7</th>\n",
       "      <th>Units_l8</th>\n",
       "      <th>Units_l9</th>\n",
       "    </tr>\n",
       "  </thead>\n",
       "  <tbody>\n",
       "    <tr>\n",
       "      <th>0</th>\n",
       "      <td>2</td>\n",
       "      <td>0.404711</td>\n",
       "      <td>0 days 00:27:59</td>\n",
       "      <td>softsign</td>\n",
       "      <td>softsign</td>\n",
       "      <td>softplus</td>\n",
       "      <td>relu</td>\n",
       "      <td>lrelu</td>\n",
       "      <td>relu</td>\n",
       "      <td>softplus</td>\n",
       "      <td>relu</td>\n",
       "      <td>softsign</td>\n",
       "      <td>relu</td>\n",
       "      <td>relu</td>\n",
       "      <td>True</td>\n",
       "      <td>True</td>\n",
       "      <td>True</td>\n",
       "      <td>True</td>\n",
       "      <td>False</td>\n",
       "      <td>True</td>\n",
       "      <td>True</td>\n",
       "      <td>True</td>\n",
       "      <td>False</td>\n",
       "      <td>True</td>\n",
       "      <td>True</td>\n",
       "      <td>False</td>\n",
       "      <td>False</td>\n",
       "      <td>True</td>\n",
       "      <td>False</td>\n",
       "      <td>True</td>\n",
       "      <td>False</td>\n",
       "      <td>True</td>\n",
       "      <td>False</td>\n",
       "      <td>True</td>\n",
       "      <td>True</td>\n",
       "      <td>False</td>\n",
       "      <td>0.006833</td>\n",
       "      <td>11</td>\n",
       "      <td>310.456896</td>\n",
       "      <td>1266.142182</td>\n",
       "      <td>754.361388</td>\n",
       "      <td>1556.844295</td>\n",
       "      <td>1788.328477</td>\n",
       "      <td>1116.237418</td>\n",
       "      <td>1108.969909</td>\n",
       "      <td>401.821244</td>\n",
       "      <td>1460.930601</td>\n",
       "      <td>1423.611056</td>\n",
       "      <td>396.466863</td>\n",
       "    </tr>\n",
       "  </tbody>\n",
       "</table>\n",
       "</div>"
      ],
      "text/plain": [
       "   number    MCRMSE       exec_time Activation_l1 Activation_l10  \\\n",
       "0       2  0.404711 0 days 00:27:59      softsign       softsign   \n",
       "\n",
       "  Activation_l11 Activation_l2 Activation_l3 Activation_l4 Activation_l5  \\\n",
       "0       softplus          relu         lrelu          relu      softplus   \n",
       "\n",
       "  Activation_l6 Activation_l7 Activation_l8 Activation_l9  BatchNorm_l1  \\\n",
       "0          relu      softsign          relu          relu          True   \n",
       "\n",
       "   BatchNorm_l10  BatchNorm_l11  BatchNorm_l2  BatchNorm_l3  BatchNorm_l4  \\\n",
       "0           True           True          True         False          True   \n",
       "\n",
       "   BatchNorm_l5  BatchNorm_l6  BatchNorm_l7  BatchNorm_l8  BatchNorm_l9  \\\n",
       "0          True          True         False          True          True   \n",
       "\n",
       "   Dropout_l1  Dropout_l10  Dropout_l11  Dropout_l2  Dropout_l3  Dropout_l4  \\\n",
       "0       False        False         True       False        True       False   \n",
       "\n",
       "   Dropout_l5  Dropout_l6  Dropout_l7  Dropout_l8  Dropout_l9  LearningRate  \\\n",
       "0        True       False        True        True       False      0.006833   \n",
       "\n",
       "   NLayers    Units_l1    Units_l10   Units_l11     Units_l2     Units_l3  \\\n",
       "0       11  310.456896  1266.142182  754.361388  1556.844295  1788.328477   \n",
       "\n",
       "      Units_l4     Units_l5    Units_l6     Units_l7     Units_l8    Units_l9  \n",
       "0  1116.237418  1108.969909  401.821244  1460.930601  1423.611056  396.466863  "
      ]
     },
     "metadata": {},
     "output_type": "display_data"
    },
    {
     "name": "stderr",
     "output_type": "stream",
     "text": [
      "\u001b[32m[I 2022-11-30 01:32:54,472]\u001b[0m A new study created in RDB with name: keras-conventions\u001b[0m\n"
     ]
    },
    {
     "name": "stdout",
     "output_type": "stream",
     "text": [
      "31/31 [==============================] - 0s 4ms/step\n",
      "31/31 [==============================] - 0s 4ms/step\n",
      "31/31 [==============================] - 0s 4ms/step\n",
      "31/31 [==============================] - 0s 3ms/step\n"
     ]
    },
    {
     "name": "stderr",
     "output_type": "stream",
     "text": [
      "\u001b[32m[I 2022-11-30 01:50:23,661]\u001b[0m Trial 0 finished with value: 0.4455985240638256 and parameters: {'NLayers': 10, 'LearningRate': 0.0009237385406949798, 'BatchNorm_l1': True, 'Units_l1': 1336.230634151574, 'Activation_l1': 'relu', 'Dropout_l1': False, 'BatchNorm_l2': True, 'Units_l2': 1152.4817382763927, 'Activation_l2': 'softplus', 'Dropout_l2': True, 'BatchNorm_l3': False, 'Units_l3': 1883.0933768810696, 'Activation_l3': 'softplus', 'Dropout_l3': True, 'BatchNorm_l4': True, 'Units_l4': 1665.7715304634405, 'Activation_l4': 'softsign', 'Dropout_l4': False, 'BatchNorm_l5': True, 'Units_l5': 1898.8483924258235, 'Activation_l5': 'relu', 'Dropout_l5': True, 'BatchNorm_l6': False, 'Units_l6': 353.98151671777697, 'Activation_l6': 'lrelu', 'Dropout_l6': False, 'BatchNorm_l7': True, 'Units_l7': 1504.543622676455, 'Activation_l7': 'softplus', 'Dropout_l7': False, 'BatchNorm_l8': True, 'Units_l8': 1826.1912552043868, 'Activation_l8': 'lrelu', 'Dropout_l8': True, 'BatchNorm_l9': True, 'Units_l9': 1211.8396725299663, 'Activation_l9': 'relu', 'Dropout_l9': True, 'BatchNorm_l10': True, 'Units_l10': 1779.9818434084511, 'Activation_l10': 'relu', 'Dropout_l10': False}. Best is trial 0 with value: 0.4455985240638256.\u001b[0m\n"
     ]
    },
    {
     "name": "stdout",
     "output_type": "stream",
     "text": [
      "31/31 [==============================] - 0s 4ms/step\n",
      "31/31 [==============================] - 0s 4ms/step\n",
      "31/31 [==============================] - 0s 4ms/step\n",
      "31/31 [==============================] - 0s 4ms/step\n"
     ]
    },
    {
     "name": "stderr",
     "output_type": "stream",
     "text": [
      "\u001b[32m[I 2022-11-30 02:08:56,802]\u001b[0m Trial 1 finished with value: 0.48416048288345337 and parameters: {'NLayers': 16, 'LearningRate': 0.0024223931049884647, 'BatchNorm_l1': False, 'Units_l1': 487.20559947207596, 'Activation_l1': 'softsign', 'Dropout_l1': True, 'BatchNorm_l2': False, 'Units_l2': 1644.3180613284012, 'Activation_l2': 'softplus', 'Dropout_l2': False, 'BatchNorm_l3': False, 'Units_l3': 1607.507534003047, 'Activation_l3': 'lrelu', 'Dropout_l3': False, 'BatchNorm_l4': True, 'Units_l4': 1146.1390465754998, 'Activation_l4': 'relu', 'Dropout_l4': False, 'BatchNorm_l5': False, 'Units_l5': 1238.2143122106522, 'Activation_l5': 'softsign', 'Dropout_l5': False, 'BatchNorm_l6': True, 'Units_l6': 945.4291901921088, 'Activation_l6': 'relu', 'Dropout_l6': False, 'BatchNorm_l7': True, 'Units_l7': 541.3801388373186, 'Activation_l7': 'softsign', 'Dropout_l7': False, 'BatchNorm_l8': False, 'Units_l8': 323.42594746514646, 'Activation_l8': 'relu', 'Dropout_l8': False, 'BatchNorm_l9': False, 'Units_l9': 1483.944154302004, 'Activation_l9': 'softsign', 'Dropout_l9': False, 'BatchNorm_l10': True, 'Units_l10': 1824.2636704542074, 'Activation_l10': 'softsign', 'Dropout_l10': True, 'BatchNorm_l11': False, 'Units_l11': 1599.029061891894, 'Activation_l11': 'softplus', 'Dropout_l11': False, 'BatchNorm_l12': False, 'Units_l12': 868.2324648675632, 'Activation_l12': 'softplus', 'Dropout_l12': False, 'BatchNorm_l13': True, 'Units_l13': 1366.4659897620925, 'Activation_l13': 'lrelu', 'Dropout_l13': False, 'BatchNorm_l14': False, 'Units_l14': 1756.0025114794853, 'Activation_l14': 'softsign', 'Dropout_l14': True, 'BatchNorm_l15': True, 'Units_l15': 671.2194276557789, 'Activation_l15': 'lrelu', 'Dropout_l15': False, 'BatchNorm_l16': True, 'Units_l16': 1736.3851651014727, 'Activation_l16': 'relu', 'Dropout_l16': True}. Best is trial 0 with value: 0.4455985240638256.\u001b[0m\n"
     ]
    },
    {
     "name": "stdout",
     "output_type": "stream",
     "text": [
      "31/31 [==============================] - 0s 4ms/step\n",
      "31/31 [==============================] - 0s 4ms/step\n",
      "31/31 [==============================] - 0s 4ms/step\n",
      "31/31 [==============================] - 0s 4ms/step\n"
     ]
    },
    {
     "name": "stderr",
     "output_type": "stream",
     "text": [
      "\u001b[32m[I 2022-11-30 02:27:56,564]\u001b[0m Trial 2 finished with value: 0.4020899683237076 and parameters: {'NLayers': 17, 'LearningRate': 0.008329854717742311, 'BatchNorm_l1': False, 'Units_l1': 705.6658868645937, 'Activation_l1': 'softsign', 'Dropout_l1': False, 'BatchNorm_l2': True, 'Units_l2': 564.0276348616438, 'Activation_l2': 'softsign', 'Dropout_l2': False, 'BatchNorm_l3': True, 'Units_l3': 317.9181448718449, 'Activation_l3': 'softsign', 'Dropout_l3': False, 'BatchNorm_l4': True, 'Units_l4': 1625.809604632551, 'Activation_l4': 'softplus', 'Dropout_l4': False, 'BatchNorm_l5': False, 'Units_l5': 586.4279816517097, 'Activation_l5': 'softplus', 'Dropout_l5': True, 'BatchNorm_l6': False, 'Units_l6': 960.8868353159118, 'Activation_l6': 'relu', 'Dropout_l6': False, 'BatchNorm_l7': True, 'Units_l7': 1692.7041651689624, 'Activation_l7': 'softplus', 'Dropout_l7': True, 'BatchNorm_l8': True, 'Units_l8': 1898.029372742568, 'Activation_l8': 'softsign', 'Dropout_l8': False, 'BatchNorm_l9': True, 'Units_l9': 1389.147111162108, 'Activation_l9': 'softplus', 'Dropout_l9': True, 'BatchNorm_l10': False, 'Units_l10': 1644.9257559685575, 'Activation_l10': 'relu', 'Dropout_l10': True, 'BatchNorm_l11': False, 'Units_l11': 703.5097044704208, 'Activation_l11': 'lrelu', 'Dropout_l11': False, 'BatchNorm_l12': True, 'Units_l12': 1699.6560713090555, 'Activation_l12': 'softplus', 'Dropout_l12': False, 'BatchNorm_l13': False, 'Units_l13': 909.4589306405339, 'Activation_l13': 'softplus', 'Dropout_l13': True, 'BatchNorm_l14': False, 'Units_l14': 1152.8241171559591, 'Activation_l14': 'relu', 'Dropout_l14': False, 'BatchNorm_l15': True, 'Units_l15': 694.5429510198719, 'Activation_l15': 'softplus', 'Dropout_l15': False, 'BatchNorm_l16': False, 'Units_l16': 471.34613787410365, 'Activation_l16': 'relu', 'Dropout_l16': False, 'BatchNorm_l17': False, 'Units_l17': 676.6135562424399, 'Activation_l17': 'softplus', 'Dropout_l17': False}. Best is trial 2 with value: 0.4020899683237076.\u001b[0m\n"
     ]
    },
    {
     "name": "stdout",
     "output_type": "stream",
     "text": [
      "31/31 [==============================] - 0s 3ms/step\n",
      "31/31 [==============================] - 0s 3ms/step\n",
      "31/31 [==============================] - 0s 3ms/step\n",
      "31/31 [==============================] - 0s 3ms/step\n"
     ]
    },
    {
     "name": "stderr",
     "output_type": "stream",
     "text": [
      "\u001b[32m[I 2022-11-30 02:39:06,525]\u001b[0m Trial 3 finished with value: 0.37920041754841805 and parameters: {'NLayers': 8, 'LearningRate': 0.003312505337189559, 'BatchNorm_l1': True, 'Units_l1': 584.3899369909334, 'Activation_l1': 'relu', 'Dropout_l1': False, 'BatchNorm_l2': False, 'Units_l2': 374.1433553425512, 'Activation_l2': 'softplus', 'Dropout_l2': False, 'BatchNorm_l3': False, 'Units_l3': 529.8741259861636, 'Activation_l3': 'softplus', 'Dropout_l3': True, 'BatchNorm_l4': True, 'Units_l4': 552.0549176482658, 'Activation_l4': 'lrelu', 'Dropout_l4': True, 'BatchNorm_l5': True, 'Units_l5': 1158.9134861198852, 'Activation_l5': 'relu', 'Dropout_l5': True, 'BatchNorm_l6': False, 'Units_l6': 1422.4783542856767, 'Activation_l6': 'lrelu', 'Dropout_l6': True, 'BatchNorm_l7': False, 'Units_l7': 1415.979709300494, 'Activation_l7': 'relu', 'Dropout_l7': True, 'BatchNorm_l8': True, 'Units_l8': 1587.2732335889405, 'Activation_l8': 'softplus', 'Dropout_l8': True}. Best is trial 3 with value: 0.37920041754841805.\u001b[0m\n"
     ]
    },
    {
     "name": "stdout",
     "output_type": "stream",
     "text": [
      "31/31 [==============================] - 0s 4ms/step\n",
      "31/31 [==============================] - 0s 4ms/step\n",
      "31/31 [==============================] - 0s 4ms/step\n",
      "31/31 [==============================] - 0s 4ms/step\n"
     ]
    },
    {
     "name": "stderr",
     "output_type": "stream",
     "text": [
      "\u001b[32m[I 2022-11-30 02:52:32,547]\u001b[0m Trial 4 finished with value: 0.4695713445544243 and parameters: {'NLayers': 14, 'LearningRate': 0.009910529273583372, 'BatchNorm_l1': True, 'Units_l1': 1857.3251864270514, 'Activation_l1': 'softsign', 'Dropout_l1': True, 'BatchNorm_l2': True, 'Units_l2': 1715.670639012378, 'Activation_l2': 'lrelu', 'Dropout_l2': False, 'BatchNorm_l3': True, 'Units_l3': 619.5750658636841, 'Activation_l3': 'softplus', 'Dropout_l3': True, 'BatchNorm_l4': True, 'Units_l4': 705.2641022145187, 'Activation_l4': 'lrelu', 'Dropout_l4': False, 'BatchNorm_l5': False, 'Units_l5': 409.3622563092655, 'Activation_l5': 'relu', 'Dropout_l5': False, 'BatchNorm_l6': False, 'Units_l6': 1216.5984925819992, 'Activation_l6': 'relu', 'Dropout_l6': False, 'BatchNorm_l7': False, 'Units_l7': 1720.9772471729352, 'Activation_l7': 'softplus', 'Dropout_l7': False, 'BatchNorm_l8': False, 'Units_l8': 1072.4720115737236, 'Activation_l8': 'softplus', 'Dropout_l8': True, 'BatchNorm_l9': False, 'Units_l9': 1062.026830489092, 'Activation_l9': 'lrelu', 'Dropout_l9': False, 'BatchNorm_l10': False, 'Units_l10': 1755.2738645394393, 'Activation_l10': 'lrelu', 'Dropout_l10': True, 'BatchNorm_l11': False, 'Units_l11': 897.4586726840596, 'Activation_l11': 'softplus', 'Dropout_l11': True, 'BatchNorm_l12': True, 'Units_l12': 482.50318907146055, 'Activation_l12': 'softsign', 'Dropout_l12': True, 'BatchNorm_l13': True, 'Units_l13': 1930.3139663882184, 'Activation_l13': 'lrelu', 'Dropout_l13': False, 'BatchNorm_l14': True, 'Units_l14': 1438.61056884275, 'Activation_l14': 'softplus', 'Dropout_l14': False}. Best is trial 3 with value: 0.37920041754841805.\u001b[0m\n"
     ]
    },
    {
     "data": {
      "text/html": [
       "<div>\n",
       "<style scoped>\n",
       "    .dataframe tbody tr th:only-of-type {\n",
       "        vertical-align: middle;\n",
       "    }\n",
       "\n",
       "    .dataframe tbody tr th {\n",
       "        vertical-align: top;\n",
       "    }\n",
       "\n",
       "    .dataframe thead th {\n",
       "        text-align: right;\n",
       "    }\n",
       "</style>\n",
       "<table border=\"1\" class=\"dataframe\">\n",
       "  <thead>\n",
       "    <tr style=\"text-align: right;\">\n",
       "      <th></th>\n",
       "      <th>number</th>\n",
       "      <th>MCRMSE</th>\n",
       "      <th>exec_time</th>\n",
       "      <th>Activation_l1</th>\n",
       "      <th>Activation_l2</th>\n",
       "      <th>Activation_l3</th>\n",
       "      <th>Activation_l4</th>\n",
       "      <th>Activation_l5</th>\n",
       "      <th>Activation_l6</th>\n",
       "      <th>Activation_l7</th>\n",
       "      <th>Activation_l8</th>\n",
       "      <th>BatchNorm_l1</th>\n",
       "      <th>BatchNorm_l2</th>\n",
       "      <th>BatchNorm_l3</th>\n",
       "      <th>BatchNorm_l4</th>\n",
       "      <th>BatchNorm_l5</th>\n",
       "      <th>BatchNorm_l6</th>\n",
       "      <th>BatchNorm_l7</th>\n",
       "      <th>BatchNorm_l8</th>\n",
       "      <th>Dropout_l1</th>\n",
       "      <th>Dropout_l2</th>\n",
       "      <th>Dropout_l3</th>\n",
       "      <th>Dropout_l4</th>\n",
       "      <th>Dropout_l5</th>\n",
       "      <th>Dropout_l6</th>\n",
       "      <th>Dropout_l7</th>\n",
       "      <th>Dropout_l8</th>\n",
       "      <th>LearningRate</th>\n",
       "      <th>NLayers</th>\n",
       "      <th>Units_l1</th>\n",
       "      <th>Units_l2</th>\n",
       "      <th>Units_l3</th>\n",
       "      <th>Units_l4</th>\n",
       "      <th>Units_l5</th>\n",
       "      <th>Units_l6</th>\n",
       "      <th>Units_l7</th>\n",
       "      <th>Units_l8</th>\n",
       "    </tr>\n",
       "  </thead>\n",
       "  <tbody>\n",
       "    <tr>\n",
       "      <th>0</th>\n",
       "      <td>3</td>\n",
       "      <td>0.3792</td>\n",
       "      <td>0 days 00:11:08</td>\n",
       "      <td>relu</td>\n",
       "      <td>softplus</td>\n",
       "      <td>softplus</td>\n",
       "      <td>lrelu</td>\n",
       "      <td>relu</td>\n",
       "      <td>lrelu</td>\n",
       "      <td>relu</td>\n",
       "      <td>softplus</td>\n",
       "      <td>True</td>\n",
       "      <td>False</td>\n",
       "      <td>False</td>\n",
       "      <td>True</td>\n",
       "      <td>True</td>\n",
       "      <td>False</td>\n",
       "      <td>False</td>\n",
       "      <td>True</td>\n",
       "      <td>False</td>\n",
       "      <td>False</td>\n",
       "      <td>True</td>\n",
       "      <td>True</td>\n",
       "      <td>True</td>\n",
       "      <td>True</td>\n",
       "      <td>True</td>\n",
       "      <td>True</td>\n",
       "      <td>0.003313</td>\n",
       "      <td>8</td>\n",
       "      <td>584.389937</td>\n",
       "      <td>374.143355</td>\n",
       "      <td>529.874126</td>\n",
       "      <td>552.054918</td>\n",
       "      <td>1158.913486</td>\n",
       "      <td>1422.478354</td>\n",
       "      <td>1415.979709</td>\n",
       "      <td>1587.273234</td>\n",
       "    </tr>\n",
       "  </tbody>\n",
       "</table>\n",
       "</div>"
      ],
      "text/plain": [
       "   number  MCRMSE       exec_time Activation_l1 Activation_l2 Activation_l3  \\\n",
       "0       3  0.3792 0 days 00:11:08          relu      softplus      softplus   \n",
       "\n",
       "  Activation_l4 Activation_l5 Activation_l6 Activation_l7 Activation_l8  \\\n",
       "0         lrelu          relu         lrelu          relu      softplus   \n",
       "\n",
       "   BatchNorm_l1  BatchNorm_l2  BatchNorm_l3  BatchNorm_l4  BatchNorm_l5  \\\n",
       "0          True         False         False          True          True   \n",
       "\n",
       "   BatchNorm_l6  BatchNorm_l7  BatchNorm_l8  Dropout_l1  Dropout_l2  \\\n",
       "0         False         False          True       False       False   \n",
       "\n",
       "   Dropout_l3  Dropout_l4  Dropout_l5  Dropout_l6  Dropout_l7  Dropout_l8  \\\n",
       "0        True        True        True        True        True        True   \n",
       "\n",
       "   LearningRate  NLayers    Units_l1    Units_l2    Units_l3    Units_l4  \\\n",
       "0      0.003313        8  584.389937  374.143355  529.874126  552.054918   \n",
       "\n",
       "      Units_l5     Units_l6     Units_l7     Units_l8  \n",
       "0  1158.913486  1422.478354  1415.979709  1587.273234  "
      ]
     },
     "metadata": {},
     "output_type": "display_data"
    }
   ],
   "source": [
    "for target in y_train.columns[2:]:\n",
    "    param_tuning = ParamTuning(y_train = y_train[target])\n",
    "    param_tuning.studying(n_trials=5)\n",
    "    res = param_tuning.show_result()\n",
    "    display(res)"
   ]
  },
  {
   "cell_type": "code",
   "execution_count": null,
   "id": "6a5166c0-b820-48ff-b5c6-1461aba1ac10",
   "metadata": {
    "tags": []
   },
   "outputs": [],
   "source": [
    "def prediction(X_test, model):\n",
    "    return pd.DataFrame(model.predict(X_test), columns=cols, index=X_test_idx)\n",
    "\n",
    "def concat_models(X_train, y_train, models, X_val=None, y_val=None):\n",
    "    model = concatenate([model.output for model in models])\n",
    "    model = Dense(500, activation=\"relu\")(model)\n",
    "    model = Dense(1000, activation=\"relu\")(model)\n",
    "    model = Dense(500, activation=\"relu\")(model)\n",
    "    model = Dense(y_train.iloc[:,:2].shape[1], activation=\"linear\")(model)\n",
    "    model = Model([model.input for model in models], model)\n",
    "    \n",
    "    optimizer = optimizers.Adam(amsgrad=True)\n",
    "    model.compile(loss=MCRMSE_keras, optimizer=optimizer, metrics=[MCRMSE_keras])\n",
    "    callbacks = [EarlyStopping(monitor=\"val_loss\", patience=10, restore_best_weights=True)]\n",
    "    model.fit([X_train, X_train], y_train.iloc[:,:2],# validation_data = (X_val, y_val),\n",
    "              batch_size=2**3, epochs=10,\n",
    "              workers=8, use_multiprocessing=True, verbose=1, callbacks=callbacks)\n",
    "    \n",
    "    if not X_val is None:\n",
    "        evaluation = model.evaluate(X_val, y_val, verbose=0)\n",
    "        return model, evaluation\n",
    "    else:\n",
    "        return model"
   ]
  },
  {
   "cell_type": "markdown",
   "id": "7d72a307-9991-4a03-923e-4dd3e9d8030d",
   "metadata": {
    "tags": []
   },
   "source": [
    "# 2. Building Models"
   ]
  },
  {
   "cell_type": "markdown",
   "id": "013e193b-b41f-4e1d-b0a0-4aa366aec8d2",
   "metadata": {
    "tags": []
   },
   "source": [
    "## 2.0. set the variables"
   ]
  },
  {
   "cell_type": "code",
   "execution_count": 7,
   "id": "f28bcefb-1a26-469e-9540-21ba83c0856d",
   "metadata": {},
   "outputs": [],
   "source": [
    "storage = 'mysql+pymysql://iori:'+os.environ[\"MySQL_PASSWORD\"]+'@'+os.environ[\"MySQL_IP\"]+\":3306/kaggleELL?charset=utf8mb4\"\n",
    "directions = [\"minimize\"]"
   ]
  },
  {
   "cell_type": "markdown",
   "id": "cc28e03b-8af9-4cf6-a8c0-f879a9b1f6ef",
   "metadata": {
    "tags": []
   },
   "source": [
    "## 2.1. keras1"
   ]
  },
  {
   "cell_type": "code",
   "execution_count": null,
   "id": "cde9505e-1fd3-4bac-b50e-5199fe3f8b7f",
   "metadata": {},
   "outputs": [],
   "source": [
    "study_name = \"keras1\"\n",
    "\n",
    "keras_study = optuna.create_study(study_name=study_name, directions=directions,# pruner=optuna.pruners.MedianPruner(), \n",
    "                                  storage=storage, load_if_exists=True)\n",
    "keras_study.optimize(objective, n_trials=50, gc_after_trial=True)\n",
    "res = study_result(study_name)\n",
    "res"
   ]
  },
  {
   "cell_type": "code",
   "execution_count": 101,
   "id": "01e7dd3a-5a34-4d13-b212-2195beed0670",
   "metadata": {},
   "outputs": [
    {
     "name": "stdout",
     "output_type": "stream",
     "text": [
      "Epoch 1/10\n",
      "732/734 [============================>.] - ETA: 0s - loss: 2.0690 - MCRMSE_keras: 2.0690WARNING:tensorflow:Early stopping conditioned on metric `val_loss` which is not available. Available metrics are: loss,MCRMSE_keras\n"
     ]
    },
    {
     "name": "stderr",
     "output_type": "stream",
     "text": [
      "WARNING:tensorflow:Early stopping conditioned on metric `val_loss` which is not available. Available metrics are: loss,MCRMSE_keras\n"
     ]
    },
    {
     "name": "stdout",
     "output_type": "stream",
     "text": [
      "734/734 [==============================] - 21s 19ms/step - loss: 2.0671 - MCRMSE_keras: 2.0650\n",
      "Epoch 2/10\n",
      "733/734 [============================>.] - ETA: 0s - loss: 1.0371 - MCRMSE_keras: 1.0371WARNING:tensorflow:Early stopping conditioned on metric `val_loss` which is not available. Available metrics are: loss,MCRMSE_keras\n"
     ]
    },
    {
     "name": "stderr",
     "output_type": "stream",
     "text": [
      "WARNING:tensorflow:Early stopping conditioned on metric `val_loss` which is not available. Available metrics are: loss,MCRMSE_keras\n"
     ]
    },
    {
     "name": "stdout",
     "output_type": "stream",
     "text": [
      "734/734 [==============================] - 14s 19ms/step - loss: 1.0370 - MCRMSE_keras: 1.0366\n",
      "Epoch 3/10\n",
      "734/734 [==============================] - ETA: 0s - loss: 0.9101 - MCRMSE_keras: 0.9092WARNING:tensorflow:Early stopping conditioned on metric `val_loss` which is not available. Available metrics are: loss,MCRMSE_keras\n"
     ]
    },
    {
     "name": "stderr",
     "output_type": "stream",
     "text": [
      "WARNING:tensorflow:Early stopping conditioned on metric `val_loss` which is not available. Available metrics are: loss,MCRMSE_keras\n"
     ]
    },
    {
     "name": "stdout",
     "output_type": "stream",
     "text": [
      "734/734 [==============================] - 14s 19ms/step - loss: 0.9101 - MCRMSE_keras: 0.9092\n",
      "Epoch 4/10\n",
      "734/734 [==============================] - ETA: 0s - loss: 0.7559 - MCRMSE_keras: 0.7553WARNING:tensorflow:Early stopping conditioned on metric `val_loss` which is not available. Available metrics are: loss,MCRMSE_keras\n"
     ]
    },
    {
     "name": "stderr",
     "output_type": "stream",
     "text": [
      "WARNING:tensorflow:Early stopping conditioned on metric `val_loss` which is not available. Available metrics are: loss,MCRMSE_keras\n"
     ]
    },
    {
     "name": "stdout",
     "output_type": "stream",
     "text": [
      "734/734 [==============================] - 14s 19ms/step - loss: 0.7559 - MCRMSE_keras: 0.7553\n",
      "Epoch 5/10\n",
      "734/734 [==============================] - ETA: 0s - loss: 0.6790 - MCRMSE_keras: 0.6785WARNING:tensorflow:Early stopping conditioned on metric `val_loss` which is not available. Available metrics are: loss,MCRMSE_keras\n"
     ]
    },
    {
     "name": "stderr",
     "output_type": "stream",
     "text": [
      "WARNING:tensorflow:Early stopping conditioned on metric `val_loss` which is not available. Available metrics are: loss,MCRMSE_keras\n"
     ]
    },
    {
     "name": "stdout",
     "output_type": "stream",
     "text": [
      "734/734 [==============================] - 14s 19ms/step - loss: 0.6790 - MCRMSE_keras: 0.6785\n",
      "Epoch 6/10\n",
      "733/734 [============================>.] - ETA: 0s - loss: 0.6644 - MCRMSE_keras: 0.6644WARNING:tensorflow:Early stopping conditioned on metric `val_loss` which is not available. Available metrics are: loss,MCRMSE_keras\n"
     ]
    },
    {
     "name": "stderr",
     "output_type": "stream",
     "text": [
      "WARNING:tensorflow:Early stopping conditioned on metric `val_loss` which is not available. Available metrics are: loss,MCRMSE_keras\n"
     ]
    },
    {
     "name": "stdout",
     "output_type": "stream",
     "text": [
      "734/734 [==============================] - 14s 20ms/step - loss: 0.6645 - MCRMSE_keras: 0.6647\n",
      "Epoch 7/10\n",
      "734/734 [==============================] - ETA: 0s - loss: 0.6254 - MCRMSE_keras: 0.6275WARNING:tensorflow:Early stopping conditioned on metric `val_loss` which is not available. Available metrics are: loss,MCRMSE_keras\n"
     ]
    },
    {
     "name": "stderr",
     "output_type": "stream",
     "text": [
      "WARNING:tensorflow:Early stopping conditioned on metric `val_loss` which is not available. Available metrics are: loss,MCRMSE_keras\n"
     ]
    },
    {
     "name": "stdout",
     "output_type": "stream",
     "text": [
      "734/734 [==============================] - 14s 19ms/step - loss: 0.6254 - MCRMSE_keras: 0.6275\n",
      "Epoch 8/10\n",
      "732/734 [============================>.] - ETA: 0s - loss: 0.5812 - MCRMSE_keras: 0.5812WARNING:tensorflow:Early stopping conditioned on metric `val_loss` which is not available. Available metrics are: loss,MCRMSE_keras\n"
     ]
    },
    {
     "name": "stderr",
     "output_type": "stream",
     "text": [
      "WARNING:tensorflow:Early stopping conditioned on metric `val_loss` which is not available. Available metrics are: loss,MCRMSE_keras\n"
     ]
    },
    {
     "name": "stdout",
     "output_type": "stream",
     "text": [
      "734/734 [==============================] - 14s 19ms/step - loss: 0.5805 - MCRMSE_keras: 0.5800\n",
      "Epoch 9/10\n",
      "734/734 [==============================] - ETA: 0s - loss: 0.5979 - MCRMSE_keras: 0.5993WARNING:tensorflow:Early stopping conditioned on metric `val_loss` which is not available. Available metrics are: loss,MCRMSE_keras\n"
     ]
    },
    {
     "name": "stderr",
     "output_type": "stream",
     "text": [
      "WARNING:tensorflow:Early stopping conditioned on metric `val_loss` which is not available. Available metrics are: loss,MCRMSE_keras\n"
     ]
    },
    {
     "name": "stdout",
     "output_type": "stream",
     "text": [
      "734/734 [==============================] - 14s 19ms/step - loss: 0.5979 - MCRMSE_keras: 0.5993\n",
      "Epoch 10/10\n",
      "732/734 [============================>.] - ETA: 0s - loss: 0.8573 - MCRMSE_keras: 0.8573WARNING:tensorflow:Early stopping conditioned on metric `val_loss` which is not available. Available metrics are: loss,MCRMSE_keras\n"
     ]
    },
    {
     "name": "stderr",
     "output_type": "stream",
     "text": [
      "WARNING:tensorflow:Early stopping conditioned on metric `val_loss` which is not available. Available metrics are: loss,MCRMSE_keras\n"
     ]
    },
    {
     "name": "stdout",
     "output_type": "stream",
     "text": [
      "734/734 [==============================] - 14s 19ms/step - loss: 0.8565 - MCRMSE_keras: 0.8561\n",
      "Epoch 1/10\n",
      "734/734 [==============================] - ETA: 0s - loss: 2.1981 - MCRMSE_keras: 2.1964WARNING:tensorflow:Early stopping conditioned on metric `val_loss` which is not available. Available metrics are: loss,MCRMSE_keras\n"
     ]
    },
    {
     "name": "stderr",
     "output_type": "stream",
     "text": [
      "WARNING:tensorflow:Early stopping conditioned on metric `val_loss` which is not available. Available metrics are: loss,MCRMSE_keras\n"
     ]
    },
    {
     "name": "stdout",
     "output_type": "stream",
     "text": [
      "734/734 [==============================] - 22s 19ms/step - loss: 2.1981 - MCRMSE_keras: 2.1964\n",
      "Epoch 2/10\n",
      "734/734 [==============================] - ETA: 0s - loss: 1.2070 - MCRMSE_keras: 1.2069WARNING:tensorflow:Early stopping conditioned on metric `val_loss` which is not available. Available metrics are: loss,MCRMSE_keras\n"
     ]
    },
    {
     "name": "stderr",
     "output_type": "stream",
     "text": [
      "WARNING:tensorflow:Early stopping conditioned on metric `val_loss` which is not available. Available metrics are: loss,MCRMSE_keras\n"
     ]
    },
    {
     "name": "stdout",
     "output_type": "stream",
     "text": [
      "734/734 [==============================] - 14s 19ms/step - loss: 1.2070 - MCRMSE_keras: 1.2069\n",
      "Epoch 3/10\n",
      "734/734 [==============================] - ETA: 0s - loss: 0.9675 - MCRMSE_keras: 0.9679WARNING:tensorflow:Early stopping conditioned on metric `val_loss` which is not available. Available metrics are: loss,MCRMSE_keras\n"
     ]
    },
    {
     "name": "stderr",
     "output_type": "stream",
     "text": [
      "WARNING:tensorflow:Early stopping conditioned on metric `val_loss` which is not available. Available metrics are: loss,MCRMSE_keras\n"
     ]
    },
    {
     "name": "stdout",
     "output_type": "stream",
     "text": [
      "734/734 [==============================] - 14s 19ms/step - loss: 0.9675 - MCRMSE_keras: 0.9679\n",
      "Epoch 4/10\n",
      "733/734 [============================>.] - ETA: 0s - loss: 0.8783 - MCRMSE_keras: 0.8783WARNING:tensorflow:Early stopping conditioned on metric `val_loss` which is not available. Available metrics are: loss,MCRMSE_keras\n"
     ]
    },
    {
     "name": "stderr",
     "output_type": "stream",
     "text": [
      "WARNING:tensorflow:Early stopping conditioned on metric `val_loss` which is not available. Available metrics are: loss,MCRMSE_keras\n"
     ]
    },
    {
     "name": "stdout",
     "output_type": "stream",
     "text": [
      "734/734 [==============================] - 14s 19ms/step - loss: 0.8780 - MCRMSE_keras: 0.8773\n",
      "Epoch 5/10\n",
      "733/734 [============================>.] - ETA: 0s - loss: 0.7701 - MCRMSE_keras: 0.7701WARNING:tensorflow:Early stopping conditioned on metric `val_loss` which is not available. Available metrics are: loss,MCRMSE_keras\n"
     ]
    },
    {
     "name": "stderr",
     "output_type": "stream",
     "text": [
      "WARNING:tensorflow:Early stopping conditioned on metric `val_loss` which is not available. Available metrics are: loss,MCRMSE_keras\n"
     ]
    },
    {
     "name": "stdout",
     "output_type": "stream",
     "text": [
      "734/734 [==============================] - 14s 19ms/step - loss: 0.7700 - MCRMSE_keras: 0.7699\n",
      "Epoch 6/10\n",
      "733/734 [============================>.] - ETA: 0s - loss: 0.6762 - MCRMSE_keras: 0.6762WARNING:tensorflow:Early stopping conditioned on metric `val_loss` which is not available. Available metrics are: loss,MCRMSE_keras\n"
     ]
    },
    {
     "name": "stderr",
     "output_type": "stream",
     "text": [
      "WARNING:tensorflow:Early stopping conditioned on metric `val_loss` which is not available. Available metrics are: loss,MCRMSE_keras\n"
     ]
    },
    {
     "name": "stdout",
     "output_type": "stream",
     "text": [
      "734/734 [==============================] - 14s 19ms/step - loss: 0.6763 - MCRMSE_keras: 0.6768\n",
      "Epoch 7/10\n",
      "734/734 [==============================] - ETA: 0s - loss: 0.6652 - MCRMSE_keras: 0.6671WARNING:tensorflow:Early stopping conditioned on metric `val_loss` which is not available. Available metrics are: loss,MCRMSE_keras\n"
     ]
    },
    {
     "name": "stderr",
     "output_type": "stream",
     "text": [
      "WARNING:tensorflow:Early stopping conditioned on metric `val_loss` which is not available. Available metrics are: loss,MCRMSE_keras\n"
     ]
    },
    {
     "name": "stdout",
     "output_type": "stream",
     "text": [
      "734/734 [==============================] - 14s 19ms/step - loss: 0.6652 - MCRMSE_keras: 0.6671\n",
      "Epoch 8/10\n",
      "732/734 [============================>.] - ETA: 0s - loss: 0.6010 - MCRMSE_keras: 0.6010WARNING:tensorflow:Early stopping conditioned on metric `val_loss` which is not available. Available metrics are: loss,MCRMSE_keras\n"
     ]
    },
    {
     "name": "stderr",
     "output_type": "stream",
     "text": [
      "WARNING:tensorflow:Early stopping conditioned on metric `val_loss` which is not available. Available metrics are: loss,MCRMSE_keras\n"
     ]
    },
    {
     "name": "stdout",
     "output_type": "stream",
     "text": [
      "734/734 [==============================] - 14s 20ms/step - loss: 0.6001 - MCRMSE_keras: 0.5997\n",
      "Epoch 9/10\n",
      "732/734 [============================>.] - ETA: 0s - loss: 0.5927 - MCRMSE_keras: 0.5927WARNING:tensorflow:Early stopping conditioned on metric `val_loss` which is not available. Available metrics are: loss,MCRMSE_keras\n"
     ]
    },
    {
     "name": "stderr",
     "output_type": "stream",
     "text": [
      "WARNING:tensorflow:Early stopping conditioned on metric `val_loss` which is not available. Available metrics are: loss,MCRMSE_keras\n"
     ]
    },
    {
     "name": "stdout",
     "output_type": "stream",
     "text": [
      "734/734 [==============================] - 15s 20ms/step - loss: 0.5934 - MCRMSE_keras: 0.5939\n",
      "Epoch 10/10\n",
      "734/734 [==============================] - ETA: 0s - loss: 0.5836 - MCRMSE_keras: 0.5842WARNING:tensorflow:Early stopping conditioned on metric `val_loss` which is not available. Available metrics are: loss,MCRMSE_keras\n"
     ]
    },
    {
     "name": "stderr",
     "output_type": "stream",
     "text": [
      "WARNING:tensorflow:Early stopping conditioned on metric `val_loss` which is not available. Available metrics are: loss,MCRMSE_keras\n"
     ]
    },
    {
     "name": "stdout",
     "output_type": "stream",
     "text": [
      "734/734 [==============================] - 14s 19ms/step - loss: 0.5836 - MCRMSE_keras: 0.5842\n",
      "Epoch 1/10\n",
      "489/489 [==============================] - ETA: 0s - loss: 0.5669 - MCRMSE_keras: 0.5669WARNING:tensorflow:Early stopping conditioned on metric `val_loss` which is not available. Available metrics are: loss,MCRMSE_keras\n"
     ]
    },
    {
     "name": "stderr",
     "output_type": "stream",
     "text": [
      "WARNING:tensorflow:Early stopping conditioned on metric `val_loss` which is not available. Available metrics are: loss,MCRMSE_keras\n"
     ]
    },
    {
     "name": "stdout",
     "output_type": "stream",
     "text": [
      "489/489 [==============================] - 30s 30ms/step - loss: 0.5669 - MCRMSE_keras: 0.5669\n",
      "Epoch 2/10\n",
      "488/489 [============================>.] - ETA: 0s - loss: 0.4833 - MCRMSE_keras: 0.4833WARNING:tensorflow:Early stopping conditioned on metric `val_loss` which is not available. Available metrics are: loss,MCRMSE_keras\n"
     ]
    },
    {
     "name": "stderr",
     "output_type": "stream",
     "text": [
      "WARNING:tensorflow:Early stopping conditioned on metric `val_loss` which is not available. Available metrics are: loss,MCRMSE_keras\n"
     ]
    },
    {
     "name": "stdout",
     "output_type": "stream",
     "text": [
      "489/489 [==============================] - 15s 30ms/step - loss: 0.4831 - MCRMSE_keras: 0.4831\n",
      "Epoch 3/10\n",
      "489/489 [==============================] - ETA: 0s - loss: 0.4757 - MCRMSE_keras: 0.4757WARNING:tensorflow:Early stopping conditioned on metric `val_loss` which is not available. Available metrics are: loss,MCRMSE_keras\n"
     ]
    },
    {
     "name": "stderr",
     "output_type": "stream",
     "text": [
      "WARNING:tensorflow:Early stopping conditioned on metric `val_loss` which is not available. Available metrics are: loss,MCRMSE_keras\n"
     ]
    },
    {
     "name": "stdout",
     "output_type": "stream",
     "text": [
      "489/489 [==============================] - 15s 30ms/step - loss: 0.4757 - MCRMSE_keras: 0.4757\n",
      "Epoch 4/10\n",
      "488/489 [============================>.] - ETA: 0s - loss: 0.4405 - MCRMSE_keras: 0.4405WARNING:tensorflow:Early stopping conditioned on metric `val_loss` which is not available. Available metrics are: loss,MCRMSE_keras\n"
     ]
    },
    {
     "name": "stderr",
     "output_type": "stream",
     "text": [
      "WARNING:tensorflow:Early stopping conditioned on metric `val_loss` which is not available. Available metrics are: loss,MCRMSE_keras\n"
     ]
    },
    {
     "name": "stdout",
     "output_type": "stream",
     "text": [
      "489/489 [==============================] - 15s 30ms/step - loss: 0.4408 - MCRMSE_keras: 0.4408\n",
      "Epoch 5/10\n",
      "488/489 [============================>.] - ETA: 0s - loss: 0.4200 - MCRMSE_keras: 0.4200WARNING:tensorflow:Early stopping conditioned on metric `val_loss` which is not available. Available metrics are: loss,MCRMSE_keras\n"
     ]
    },
    {
     "name": "stderr",
     "output_type": "stream",
     "text": [
      "WARNING:tensorflow:Early stopping conditioned on metric `val_loss` which is not available. Available metrics are: loss,MCRMSE_keras\n"
     ]
    },
    {
     "name": "stdout",
     "output_type": "stream",
     "text": [
      "489/489 [==============================] - 15s 30ms/step - loss: 0.4196 - MCRMSE_keras: 0.4195\n",
      "Epoch 6/10\n",
      "488/489 [============================>.] - ETA: 0s - loss: 0.4142 - MCRMSE_keras: 0.4142WARNING:tensorflow:Early stopping conditioned on metric `val_loss` which is not available. Available metrics are: loss,MCRMSE_keras\n"
     ]
    },
    {
     "name": "stderr",
     "output_type": "stream",
     "text": [
      "WARNING:tensorflow:Early stopping conditioned on metric `val_loss` which is not available. Available metrics are: loss,MCRMSE_keras\n"
     ]
    },
    {
     "name": "stdout",
     "output_type": "stream",
     "text": [
      "489/489 [==============================] - 15s 30ms/step - loss: 0.4142 - MCRMSE_keras: 0.4141\n",
      "Epoch 7/10\n",
      "489/489 [==============================] - ETA: 0s - loss: 0.4139 - MCRMSE_keras: 0.4139WARNING:tensorflow:Early stopping conditioned on metric `val_loss` which is not available. Available metrics are: loss,MCRMSE_keras\n"
     ]
    },
    {
     "name": "stderr",
     "output_type": "stream",
     "text": [
      "WARNING:tensorflow:Early stopping conditioned on metric `val_loss` which is not available. Available metrics are: loss,MCRMSE_keras\n"
     ]
    },
    {
     "name": "stdout",
     "output_type": "stream",
     "text": [
      "489/489 [==============================] - 15s 30ms/step - loss: 0.4139 - MCRMSE_keras: 0.4139\n",
      "Epoch 8/10\n",
      "489/489 [==============================] - ETA: 0s - loss: 0.4126 - MCRMSE_keras: 0.4126WARNING:tensorflow:Early stopping conditioned on metric `val_loss` which is not available. Available metrics are: loss,MCRMSE_keras\n"
     ]
    },
    {
     "name": "stderr",
     "output_type": "stream",
     "text": [
      "WARNING:tensorflow:Early stopping conditioned on metric `val_loss` which is not available. Available metrics are: loss,MCRMSE_keras\n"
     ]
    },
    {
     "name": "stdout",
     "output_type": "stream",
     "text": [
      "489/489 [==============================] - 15s 30ms/step - loss: 0.4126 - MCRMSE_keras: 0.4126\n",
      "Epoch 9/10\n",
      "489/489 [==============================] - ETA: 0s - loss: 0.4151 - MCRMSE_keras: 0.4151WARNING:tensorflow:Early stopping conditioned on metric `val_loss` which is not available. Available metrics are: loss,MCRMSE_keras\n"
     ]
    },
    {
     "name": "stderr",
     "output_type": "stream",
     "text": [
      "WARNING:tensorflow:Early stopping conditioned on metric `val_loss` which is not available. Available metrics are: loss,MCRMSE_keras\n"
     ]
    },
    {
     "name": "stdout",
     "output_type": "stream",
     "text": [
      "489/489 [==============================] - 15s 31ms/step - loss: 0.4151 - MCRMSE_keras: 0.4151\n",
      "Epoch 10/10\n",
      "489/489 [==============================] - ETA: 0s - loss: 0.3978 - MCRMSE_keras: 0.3977WARNING:tensorflow:Early stopping conditioned on metric `val_loss` which is not available. Available metrics are: loss,MCRMSE_keras\n"
     ]
    },
    {
     "name": "stderr",
     "output_type": "stream",
     "text": [
      "WARNING:tensorflow:Early stopping conditioned on metric `val_loss` which is not available. Available metrics are: loss,MCRMSE_keras\n"
     ]
    },
    {
     "name": "stdout",
     "output_type": "stream",
     "text": [
      "489/489 [==============================] - 15s 30ms/step - loss: 0.3978 - MCRMSE_keras: 0.3977\n",
      "1/1 [==============================] - 0s 483ms/step\n"
     ]
    },
    {
     "data": {
      "text/plain": [
       "array([[3.2621105, 3.18507  ],\n",
       "       [2.7542586, 2.7154098],\n",
       "       [3.2621033, 3.1850975]], dtype=float32)"
      ]
     },
     "execution_count": 101,
     "metadata": {},
     "output_type": "execute_result"
    }
   ],
   "source": [
    "models = []\n",
    "\n",
    "res = study_result(\"keras1\")\n",
    "params = {k:v for k,v in zip(res.columns, res.values[0])} | {\"BatchSize\": 2**3, \"Rescaling\": False, \"Pruner\": None}\n",
    "X_train_enc, X_test_enc = encodingX()\n",
    "for col in cols[:2]:\n",
    "    models.append(building_keras_model(X_train_enc, y_train[col], params))\n",
    "model = concat_models(X_train_enc, y_train, models, X_val=None, y_val=None)\n",
    "model.predict([X_test_enc] * 2)"
   ]
  },
  {
   "cell_type": "code",
   "execution_count": 25,
   "id": "e7bd7519-19f2-4ccf-8cee-4428cb32a95f",
   "metadata": {},
   "outputs": [
    {
     "name": "stdout",
     "output_type": "stream",
     "text": [
      "Epoch 1/10\n",
      "489/489 [==============================] - ETA: 0s - loss: 0.4201 - MCRMSE_keras: 0.4201WARNING:tensorflow:Early stopping conditioned on metric `val_loss` which is not available. Available metrics are: loss,MCRMSE_keras\n"
     ]
    },
    {
     "name": "stderr",
     "output_type": "stream",
     "text": [
      "WARNING:tensorflow:Early stopping conditioned on metric `val_loss` which is not available. Available metrics are: loss,MCRMSE_keras\n"
     ]
    },
    {
     "name": "stdout",
     "output_type": "stream",
     "text": [
      "489/489 [==============================] - 30s 30ms/step - loss: 0.4201 - MCRMSE_keras: 0.4201\n",
      "Epoch 2/10\n",
      "489/489 [==============================] - ETA: 0s - loss: 0.3656 - MCRMSE_keras: 0.3656WARNING:tensorflow:Early stopping conditioned on metric `val_loss` which is not available. Available metrics are: loss,MCRMSE_keras\n"
     ]
    },
    {
     "name": "stderr",
     "output_type": "stream",
     "text": [
      "WARNING:tensorflow:Early stopping conditioned on metric `val_loss` which is not available. Available metrics are: loss,MCRMSE_keras\n"
     ]
    },
    {
     "name": "stdout",
     "output_type": "stream",
     "text": [
      "489/489 [==============================] - 15s 30ms/step - loss: 0.3656 - MCRMSE_keras: 0.3656\n",
      "Epoch 3/10\n",
      "489/489 [==============================] - ETA: 0s - loss: 0.4238 - MCRMSE_keras: 0.4238WARNING:tensorflow:Early stopping conditioned on metric `val_loss` which is not available. Available metrics are: loss,MCRMSE_keras\n"
     ]
    },
    {
     "name": "stderr",
     "output_type": "stream",
     "text": [
      "WARNING:tensorflow:Early stopping conditioned on metric `val_loss` which is not available. Available metrics are: loss,MCRMSE_keras\n"
     ]
    },
    {
     "name": "stdout",
     "output_type": "stream",
     "text": [
      "489/489 [==============================] - 15s 30ms/step - loss: 0.4238 - MCRMSE_keras: 0.4238\n",
      "Epoch 4/10\n",
      "488/489 [============================>.] - ETA: 0s - loss: 0.4102 - MCRMSE_keras: 0.4102WARNING:tensorflow:Early stopping conditioned on metric `val_loss` which is not available. Available metrics are: loss,MCRMSE_keras\n"
     ]
    },
    {
     "name": "stderr",
     "output_type": "stream",
     "text": [
      "WARNING:tensorflow:Early stopping conditioned on metric `val_loss` which is not available. Available metrics are: loss,MCRMSE_keras\n"
     ]
    },
    {
     "name": "stdout",
     "output_type": "stream",
     "text": [
      "489/489 [==============================] - 15s 30ms/step - loss: 0.4107 - MCRMSE_keras: 0.4108\n",
      "Epoch 5/10\n",
      "489/489 [==============================] - ETA: 0s - loss: 0.4056 - MCRMSE_keras: 0.4055WARNING:tensorflow:Early stopping conditioned on metric `val_loss` which is not available. Available metrics are: loss,MCRMSE_keras\n"
     ]
    },
    {
     "name": "stderr",
     "output_type": "stream",
     "text": [
      "WARNING:tensorflow:Early stopping conditioned on metric `val_loss` which is not available. Available metrics are: loss,MCRMSE_keras\n"
     ]
    },
    {
     "name": "stdout",
     "output_type": "stream",
     "text": [
      "489/489 [==============================] - 15s 30ms/step - loss: 0.4056 - MCRMSE_keras: 0.4055\n",
      "Epoch 6/10\n",
      "489/489 [==============================] - ETA: 0s - loss: 0.4292 - MCRMSE_keras: 0.4292WARNING:tensorflow:Early stopping conditioned on metric `val_loss` which is not available. Available metrics are: loss,MCRMSE_keras\n"
     ]
    },
    {
     "name": "stderr",
     "output_type": "stream",
     "text": [
      "WARNING:tensorflow:Early stopping conditioned on metric `val_loss` which is not available. Available metrics are: loss,MCRMSE_keras\n"
     ]
    },
    {
     "name": "stdout",
     "output_type": "stream",
     "text": [
      "489/489 [==============================] - 15s 30ms/step - loss: 0.4292 - MCRMSE_keras: 0.4292\n",
      "Epoch 7/10\n",
      "489/489 [==============================] - ETA: 0s - loss: 0.4210 - MCRMSE_keras: 0.4210WARNING:tensorflow:Early stopping conditioned on metric `val_loss` which is not available. Available metrics are: loss,MCRMSE_keras\n"
     ]
    },
    {
     "name": "stderr",
     "output_type": "stream",
     "text": [
      "WARNING:tensorflow:Early stopping conditioned on metric `val_loss` which is not available. Available metrics are: loss,MCRMSE_keras\n"
     ]
    },
    {
     "name": "stdout",
     "output_type": "stream",
     "text": [
      "489/489 [==============================] - 15s 31ms/step - loss: 0.4210 - MCRMSE_keras: 0.4210\n",
      "Epoch 8/10\n",
      "489/489 [==============================] - ETA: 0s - loss: 0.4084 - MCRMSE_keras: 0.4085WARNING:tensorflow:Early stopping conditioned on metric `val_loss` which is not available. Available metrics are: loss,MCRMSE_keras\n"
     ]
    },
    {
     "name": "stderr",
     "output_type": "stream",
     "text": [
      "WARNING:tensorflow:Early stopping conditioned on metric `val_loss` which is not available. Available metrics are: loss,MCRMSE_keras\n"
     ]
    },
    {
     "name": "stdout",
     "output_type": "stream",
     "text": [
      "489/489 [==============================] - 15s 30ms/step - loss: 0.4084 - MCRMSE_keras: 0.4085\n",
      "Epoch 9/10\n",
      "489/489 [==============================] - ETA: 0s - loss: 0.4048 - MCRMSE_keras: 0.4047WARNING:tensorflow:Early stopping conditioned on metric `val_loss` which is not available. Available metrics are: loss,MCRMSE_keras\n"
     ]
    },
    {
     "name": "stderr",
     "output_type": "stream",
     "text": [
      "WARNING:tensorflow:Early stopping conditioned on metric `val_loss` which is not available. Available metrics are: loss,MCRMSE_keras\n"
     ]
    },
    {
     "name": "stdout",
     "output_type": "stream",
     "text": [
      "489/489 [==============================] - 15s 30ms/step - loss: 0.4048 - MCRMSE_keras: 0.4047\n",
      "Epoch 10/10\n",
      "489/489 [==============================] - ETA: 0s - loss: 0.3995 - MCRMSE_keras: 0.3995WARNING:tensorflow:Early stopping conditioned on metric `val_loss` which is not available. Available metrics are: loss,MCRMSE_keras\n"
     ]
    },
    {
     "name": "stderr",
     "output_type": "stream",
     "text": [
      "WARNING:tensorflow:Early stopping conditioned on metric `val_loss` which is not available. Available metrics are: loss,MCRMSE_keras\n"
     ]
    },
    {
     "name": "stdout",
     "output_type": "stream",
     "text": [
      "489/489 [==============================] - 15s 30ms/step - loss: 0.3995 - MCRMSE_keras: 0.3995\n"
     ]
    },
    {
     "ename": "ValueError",
     "evalue": "in user code:\n\n    File \"/opt/conda/lib/python3.10/site-packages/keras/engine/training.py\", line 2137, in predict_function  *\n        return step_function(self, iterator)\n    File \"/opt/conda/lib/python3.10/site-packages/keras/engine/training.py\", line 2123, in step_function  **\n        outputs = model.distribute_strategy.run(run_step, args=(data,))\n    File \"/opt/conda/lib/python3.10/site-packages/keras/engine/training.py\", line 2111, in run_step  **\n        outputs = model.predict_step(data)\n    File \"/opt/conda/lib/python3.10/site-packages/keras/engine/training.py\", line 2079, in predict_step\n        return self(x, training=False)\n    File \"/opt/conda/lib/python3.10/site-packages/keras/utils/traceback_utils.py\", line 70, in error_handler\n        raise e.with_traceback(filtered_tb) from None\n    File \"/opt/conda/lib/python3.10/site-packages/keras/engine/input_spec.py\", line 216, in assert_input_compatibility\n        raise ValueError(\n\n    ValueError: Layer \"model_3\" expects 2 input(s), but it received 1 input tensors. Inputs received: [<tf.Tensor 'IteratorGetNext:0' shape=(None, 500) dtype=float64>]\n",
     "output_type": "error",
     "traceback": [
      "\u001b[0;31m---------------------------------------------------------------------------\u001b[0m",
      "\u001b[0;31mValueError\u001b[0m                                Traceback (most recent call last)",
      "\u001b[0;32m<ipython-input-25-8ba92ed97df7>\u001b[0m in \u001b[0;36m<module>\u001b[0;34m\u001b[0m\n\u001b[1;32m      1\u001b[0m \u001b[0mmodel\u001b[0m \u001b[0;34m=\u001b[0m \u001b[0mconcat_models\u001b[0m\u001b[0;34m(\u001b[0m\u001b[0mX_train_enc\u001b[0m\u001b[0;34m,\u001b[0m \u001b[0my_train\u001b[0m\u001b[0;34m,\u001b[0m \u001b[0mmodels\u001b[0m\u001b[0;34m,\u001b[0m \u001b[0mX_val\u001b[0m\u001b[0;34m=\u001b[0m\u001b[0;32mNone\u001b[0m\u001b[0;34m,\u001b[0m \u001b[0my_val\u001b[0m\u001b[0;34m=\u001b[0m\u001b[0;32mNone\u001b[0m\u001b[0;34m)\u001b[0m\u001b[0;34m\u001b[0m\u001b[0;34m\u001b[0m\u001b[0m\n\u001b[0;32m----> 2\u001b[0;31m \u001b[0mmodel\u001b[0m\u001b[0;34m.\u001b[0m\u001b[0mpredict\u001b[0m\u001b[0;34m(\u001b[0m\u001b[0mX_test_enc\u001b[0m\u001b[0;34m)\u001b[0m\u001b[0;34m\u001b[0m\u001b[0;34m\u001b[0m\u001b[0m\n\u001b[0m",
      "\u001b[0;32m/opt/conda/lib/python3.10/site-packages/keras/utils/traceback_utils.py\u001b[0m in \u001b[0;36merror_handler\u001b[0;34m(*args, **kwargs)\u001b[0m\n\u001b[1;32m     68\u001b[0m             \u001b[0;31m# To get the full stack trace, call:\u001b[0m\u001b[0;34m\u001b[0m\u001b[0;34m\u001b[0m\u001b[0m\n\u001b[1;32m     69\u001b[0m             \u001b[0;31m# `tf.debugging.disable_traceback_filtering()`\u001b[0m\u001b[0;34m\u001b[0m\u001b[0;34m\u001b[0m\u001b[0m\n\u001b[0;32m---> 70\u001b[0;31m             \u001b[0;32mraise\u001b[0m \u001b[0me\u001b[0m\u001b[0;34m.\u001b[0m\u001b[0mwith_traceback\u001b[0m\u001b[0;34m(\u001b[0m\u001b[0mfiltered_tb\u001b[0m\u001b[0;34m)\u001b[0m \u001b[0;32mfrom\u001b[0m \u001b[0;32mNone\u001b[0m\u001b[0;34m\u001b[0m\u001b[0;34m\u001b[0m\u001b[0m\n\u001b[0m\u001b[1;32m     71\u001b[0m         \u001b[0;32mfinally\u001b[0m\u001b[0;34m:\u001b[0m\u001b[0;34m\u001b[0m\u001b[0;34m\u001b[0m\u001b[0m\n\u001b[1;32m     72\u001b[0m             \u001b[0;32mdel\u001b[0m \u001b[0mfiltered_tb\u001b[0m\u001b[0;34m\u001b[0m\u001b[0;34m\u001b[0m\u001b[0m\n",
      "\u001b[0;32m/opt/conda/lib/python3.10/site-packages/keras/engine/training.py\u001b[0m in \u001b[0;36mtf__predict_function\u001b[0;34m(iterator)\u001b[0m\n\u001b[1;32m     13\u001b[0m                 \u001b[0;32mtry\u001b[0m\u001b[0;34m:\u001b[0m\u001b[0;34m\u001b[0m\u001b[0;34m\u001b[0m\u001b[0m\n\u001b[1;32m     14\u001b[0m                     \u001b[0mdo_return\u001b[0m \u001b[0;34m=\u001b[0m \u001b[0;32mTrue\u001b[0m\u001b[0;34m\u001b[0m\u001b[0;34m\u001b[0m\u001b[0m\n\u001b[0;32m---> 15\u001b[0;31m                     \u001b[0mretval_\u001b[0m \u001b[0;34m=\u001b[0m \u001b[0mag__\u001b[0m\u001b[0;34m.\u001b[0m\u001b[0mconverted_call\u001b[0m\u001b[0;34m(\u001b[0m\u001b[0mag__\u001b[0m\u001b[0;34m.\u001b[0m\u001b[0mld\u001b[0m\u001b[0;34m(\u001b[0m\u001b[0mstep_function\u001b[0m\u001b[0;34m)\u001b[0m\u001b[0;34m,\u001b[0m \u001b[0;34m(\u001b[0m\u001b[0mag__\u001b[0m\u001b[0;34m.\u001b[0m\u001b[0mld\u001b[0m\u001b[0;34m(\u001b[0m\u001b[0mself\u001b[0m\u001b[0;34m)\u001b[0m\u001b[0;34m,\u001b[0m \u001b[0mag__\u001b[0m\u001b[0;34m.\u001b[0m\u001b[0mld\u001b[0m\u001b[0;34m(\u001b[0m\u001b[0miterator\u001b[0m\u001b[0;34m)\u001b[0m\u001b[0;34m)\u001b[0m\u001b[0;34m,\u001b[0m \u001b[0;32mNone\u001b[0m\u001b[0;34m,\u001b[0m \u001b[0mfscope\u001b[0m\u001b[0;34m)\u001b[0m\u001b[0;34m\u001b[0m\u001b[0;34m\u001b[0m\u001b[0m\n\u001b[0m\u001b[1;32m     16\u001b[0m                 \u001b[0;32mexcept\u001b[0m\u001b[0;34m:\u001b[0m\u001b[0;34m\u001b[0m\u001b[0;34m\u001b[0m\u001b[0m\n\u001b[1;32m     17\u001b[0m                     \u001b[0mdo_return\u001b[0m \u001b[0;34m=\u001b[0m \u001b[0;32mFalse\u001b[0m\u001b[0;34m\u001b[0m\u001b[0;34m\u001b[0m\u001b[0m\n",
      "\u001b[0;31mValueError\u001b[0m: in user code:\n\n    File \"/opt/conda/lib/python3.10/site-packages/keras/engine/training.py\", line 2137, in predict_function  *\n        return step_function(self, iterator)\n    File \"/opt/conda/lib/python3.10/site-packages/keras/engine/training.py\", line 2123, in step_function  **\n        outputs = model.distribute_strategy.run(run_step, args=(data,))\n    File \"/opt/conda/lib/python3.10/site-packages/keras/engine/training.py\", line 2111, in run_step  **\n        outputs = model.predict_step(data)\n    File \"/opt/conda/lib/python3.10/site-packages/keras/engine/training.py\", line 2079, in predict_step\n        return self(x, training=False)\n    File \"/opt/conda/lib/python3.10/site-packages/keras/utils/traceback_utils.py\", line 70, in error_handler\n        raise e.with_traceback(filtered_tb) from None\n    File \"/opt/conda/lib/python3.10/site-packages/keras/engine/input_spec.py\", line 216, in assert_input_compatibility\n        raise ValueError(\n\n    ValueError: Layer \"model_3\" expects 2 input(s), but it received 1 input tensors. Inputs received: [<tf.Tensor 'IteratorGetNext:0' shape=(None, 500) dtype=float64>]\n"
     ]
    }
   ],
   "source": [
    "model = concat_models(X_train_enc, y_train, models, X_val=None, y_val=None)\n",
    "model.predict(X_test_enc)"
   ]
  },
  {
   "cell_type": "code",
   "execution_count": 27,
   "id": "59ffab7b-2964-4504-a98a-21fcd5b0a57f",
   "metadata": {},
   "outputs": [
    {
     "name": "stdout",
     "output_type": "stream",
     "text": [
      "1/1 [==============================] - 1s 501ms/step\n"
     ]
    },
    {
     "data": {
      "text/plain": [
       "array([[2.945384 , 2.882789 ],\n",
       "       [2.945384 , 2.882789 ],\n",
       "       [2.9453735, 2.8827846]], dtype=float32)"
      ]
     },
     "execution_count": 27,
     "metadata": {},
     "output_type": "execute_result"
    }
   ],
   "source": [
    "model.predict([X_test_enc, X_test_enc])"
   ]
  },
  {
   "cell_type": "code",
   "execution_count": 7,
   "id": "1e80fa64-d41d-49f8-835e-0946ede0aace",
   "metadata": {},
   "outputs": [
    {
     "name": "stdout",
     "output_type": "stream",
     "text": [
      "cohesion 1.0\n"
     ]
    },
    {
     "ename": "NameError",
     "evalue": "name 'pred' is not defined",
     "output_type": "error",
     "traceback": [
      "\u001b[0;31m---------------------------------------------------------------------------\u001b[0m",
      "\u001b[0;31mNameError\u001b[0m                                 Traceback (most recent call last)",
      "\u001b[0;32m<ipython-input-7-59d3d02cf921>\u001b[0m in \u001b[0;36m<module>\u001b[0;34m\u001b[0m\n\u001b[1;32m      7\u001b[0m         \u001b[0max\u001b[0m \u001b[0;34m=\u001b[0m \u001b[0mfig\u001b[0m\u001b[0;34m.\u001b[0m\u001b[0madd_subplot\u001b[0m\u001b[0;34m(\u001b[0m\u001b[0;36m6\u001b[0m\u001b[0;34m,\u001b[0m \u001b[0;36m9\u001b[0m\u001b[0;34m,\u001b[0m \u001b[0mcount\u001b[0m\u001b[0;34m)\u001b[0m\u001b[0;34m\u001b[0m\u001b[0;34m\u001b[0m\u001b[0m\n\u001b[1;32m      8\u001b[0m         \u001b[0mprint\u001b[0m\u001b[0;34m(\u001b[0m\u001b[0mcol\u001b[0m\u001b[0;34m,\u001b[0m \u001b[0mscore\u001b[0m\u001b[0;34m)\u001b[0m\u001b[0;34m\u001b[0m\u001b[0;34m\u001b[0m\u001b[0m\n\u001b[0;32m----> 9\u001b[0;31m         \u001b[0mdata\u001b[0m \u001b[0;34m=\u001b[0m \u001b[0mpd\u001b[0m\u001b[0;34m.\u001b[0m\u001b[0mconcat\u001b[0m\u001b[0;34m(\u001b[0m\u001b[0;34m[\u001b[0m\u001b[0my_train\u001b[0m\u001b[0;34m[\u001b[0m\u001b[0mcol\u001b[0m\u001b[0;34m]\u001b[0m\u001b[0;34m,\u001b[0m \u001b[0mpred\u001b[0m\u001b[0;34m[\u001b[0m\u001b[0mcol\u001b[0m\u001b[0;34m]\u001b[0m\u001b[0;34m]\u001b[0m\u001b[0;34m,\u001b[0m \u001b[0maxis\u001b[0m\u001b[0;34m=\u001b[0m\u001b[0;36m1\u001b[0m\u001b[0;34m)\u001b[0m\u001b[0;34m\u001b[0m\u001b[0;34m\u001b[0m\u001b[0m\n\u001b[0m\u001b[1;32m     10\u001b[0m         \u001b[0mdata\u001b[0m\u001b[0;34m.\u001b[0m\u001b[0mcolumns\u001b[0m \u001b[0;34m=\u001b[0m \u001b[0;34m[\u001b[0m\u001b[0;34m\"true\"\u001b[0m\u001b[0;34m,\u001b[0m \u001b[0;34m\"pred\"\u001b[0m\u001b[0;34m]\u001b[0m\u001b[0;34m\u001b[0m\u001b[0;34m\u001b[0m\u001b[0m\n\u001b[1;32m     11\u001b[0m         \u001b[0msns\u001b[0m\u001b[0;34m.\u001b[0m\u001b[0mdistplot\u001b[0m\u001b[0;34m(\u001b[0m\u001b[0mdata\u001b[0m\u001b[0;34m[\u001b[0m\u001b[0mdata\u001b[0m\u001b[0;34m[\u001b[0m\u001b[0;34m\"true\"\u001b[0m\u001b[0;34m]\u001b[0m\u001b[0;34m==\u001b[0m\u001b[0mscore\u001b[0m\u001b[0;34m]\u001b[0m\u001b[0;34m.\u001b[0m\u001b[0mpred\u001b[0m\u001b[0;34m,\u001b[0m \u001b[0max\u001b[0m \u001b[0;34m=\u001b[0m \u001b[0max\u001b[0m\u001b[0;34m,\u001b[0m \u001b[0mkde\u001b[0m\u001b[0;34m=\u001b[0m\u001b[0;32mFalse\u001b[0m\u001b[0;34m)\u001b[0m\u001b[0;34m;\u001b[0m\u001b[0;34m\u001b[0m\u001b[0;34m\u001b[0m\u001b[0m\n",
      "\u001b[0;31mNameError\u001b[0m: name 'pred' is not defined"
     ]
    },
    {
     "data": {
      "image/png": "[encoded data removed]",
      "text/plain": [
       "<Figure size 2500x1000 with 1 Axes>"
      ]
     },
     "metadata": {
      "needs_background": "light"
     },
     "output_type": "display_data"
    }
   ],
   "source": [
    "import seaborn as sns\n",
    "import matplotlib.pyplot as plt\n",
    "count = 1\n",
    "fig = plt.figure(figsize=(25,10))\n",
    "for col in cols:\n",
    "    for score in sorted(y_train[col].unique()):\n",
    "        ax = fig.add_subplot(6, 9, count)\n",
    "        print(col, score)\n",
    "        data = pd.concat([y_train[col], pred[col]], axis=1)\n",
    "        data.columns = [\"true\", \"pred\"]\n",
    "        sns.distplot(data[data[\"true\"]==score].pred, ax = ax, kde=False);\n",
    "        ax.set_xlabel(score);\n",
    "        ax.set_xlim([1,5]);\n",
    "        ax.set_title(col+str(score));\n",
    "        plt.tight_layout()\n",
    "        fig.show();\n",
    "        count += 1"
   ]
  },
  {
   "cell_type": "code",
   "execution_count": 15,
   "id": "b37f55ba-dbbb-4a3d-8f68-6c4c06a64ca9",
   "metadata": {},
   "outputs": [
    {
     "data": {
      "text/html": [
       "<div>\n",
       "<style scoped>\n",
       "    .dataframe tbody tr th:only-of-type {\n",
       "        vertical-align: middle;\n",
       "    }\n",
       "\n",
       "    .dataframe tbody tr th {\n",
       "        vertical-align: top;\n",
       "    }\n",
       "\n",
       "    .dataframe thead th {\n",
       "        text-align: right;\n",
       "    }\n",
       "</style>\n",
       "<table border=\"1\" class=\"dataframe\">\n",
       "  <thead>\n",
       "    <tr style=\"text-align: right;\">\n",
       "      <th></th>\n",
       "      <th>cohesion</th>\n",
       "      <th>syntax</th>\n",
       "      <th>vocabulary</th>\n",
       "      <th>phraseology</th>\n",
       "      <th>grammar</th>\n",
       "      <th>conventions</th>\n",
       "    </tr>\n",
       "    <tr>\n",
       "      <th>text_id</th>\n",
       "      <th></th>\n",
       "      <th></th>\n",
       "      <th></th>\n",
       "      <th></th>\n",
       "      <th></th>\n",
       "      <th></th>\n",
       "    </tr>\n",
       "  </thead>\n",
       "  <tbody>\n",
       "    <tr>\n",
       "      <th>0000C359D63E</th>\n",
       "      <td>2.767483</td>\n",
       "      <td>2.733454</td>\n",
       "      <td>2.969960</td>\n",
       "      <td>2.808294</td>\n",
       "      <td>2.716757</td>\n",
       "      <td>2.652545</td>\n",
       "    </tr>\n",
       "    <tr>\n",
       "      <th>000BAD50D026</th>\n",
       "      <td>3.038738</td>\n",
       "      <td>2.872625</td>\n",
       "      <td>3.037558</td>\n",
       "      <td>2.952971</td>\n",
       "      <td>2.719184</td>\n",
       "      <td>2.952540</td>\n",
       "    </tr>\n",
       "    <tr>\n",
       "      <th>00367BB2546B</th>\n",
       "      <td>3.365481</td>\n",
       "      <td>3.267979</td>\n",
       "      <td>3.486429</td>\n",
       "      <td>3.339178</td>\n",
       "      <td>3.286980</td>\n",
       "      <td>3.294214</td>\n",
       "    </tr>\n",
       "  </tbody>\n",
       "</table>\n",
       "</div>"
      ],
      "text/plain": [
       "              cohesion    syntax  vocabulary  phraseology   grammar  \\\n",
       "text_id                                                               \n",
       "0000C359D63E  2.767483  2.733454    2.969960     2.808294  2.716757   \n",
       "000BAD50D026  3.038738  2.872625    3.037558     2.952971  2.719184   \n",
       "00367BB2546B  3.365481  3.267979    3.486429     3.339178  3.286980   \n",
       "\n",
       "              conventions  \n",
       "text_id                    \n",
       "0000C359D63E     2.652545  \n",
       "000BAD50D026     2.952540  \n",
       "00367BB2546B     3.294214  "
      ]
     },
     "execution_count": 15,
     "metadata": {},
     "output_type": "execute_result"
    }
   ],
   "source": [
    "preds = [keras1_pred, keras2_pred, keras3_pred, keras4_pred, lgb1_pred, lgb2_pred]\n",
    "pred = pd.DataFrame(np.mean(np.array(preds), axis=0), columns=cols, index=X_test_idx)\n",
    "pred"
   ]
  },
  {
   "cell_type": "code",
   "execution_count": 86,
   "id": "d51394ed-8972-475b-b685-c474c197667c",
   "metadata": {},
   "outputs": [],
   "source": [
    "pred.to_csv(\"submission.csv\", index=True)"
   ]
  }
 ],
 "metadata": {
  "kernelspec": {
   "display_name": "Python 3",
   "language": "python",
   "name": "python3"
  },
  "language_info": {
   "codemirror_mode": {
    "name": "ipython",
    "version": 3
   },
   "file_extension": ".py",
   "mimetype": "text/x-python",
   "name": "python",
   "nbconvert_exporter": "python",
   "pygments_lexer": "ipython3",
   "version": "3.10.6"
  }
 },
 "nbformat": 4,
 "nbformat_minor": 5
}
