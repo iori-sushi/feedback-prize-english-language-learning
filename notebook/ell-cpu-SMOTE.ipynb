{
 "cells": [
  {
   "cell_type": "markdown",
   "id": "27c6caf1-14e6-4880-8440-97ebc3014f98",
   "metadata": {},
   "source": [
    "# 1. Preparation"
   ]
  },
  {
   "cell_type": "markdown",
   "id": "47cc8b91-6705-43ec-8bfb-2a884b6c8d68",
   "metadata": {},
   "source": [
    "## 1.1. Import Libraries"
   ]
  },
  {
   "cell_type": "code",
   "execution_count": 1,
   "id": "ad2dd40d-91fa-4aea-b7ac-9e38510d56de",
   "metadata": {},
   "outputs": [
    {
     "name": "stderr",
     "output_type": "stream",
     "text": [
      "Duplicate key in file PosixPath('/opt/conda/lib/python3.10/site-packages/matplotlib/mpl-data/matplotlibrc'), line 786 ('font.family:  IPAexGothic')\n",
      "Duplicate key in file PosixPath('/opt/conda/lib/python3.10/site-packages/matplotlib/mpl-data/matplotlibrc'), line 787 ('figure.figsize: 16.4, 12.3')\n",
      "Duplicate key in file PosixPath('/opt/conda/lib/python3.10/site-packages/matplotlib/mpl-data/matplotlibrc'), line 788 ('figure.dpi: 150')\n",
      "[nltk_data] Downloading package stopwords to /home/jovyan/nltk_data...\n",
      "[nltk_data]   Unzipping corpora/stopwords.zip.\n"
     ]
    },
    {
     "data": {
      "text/plain": [
       "True"
      ]
     },
     "execution_count": 1,
     "metadata": {},
     "output_type": "execute_result"
    }
   ],
   "source": [
    "import os\n",
    "import re\n",
    "import string\n",
    "import warnings\n",
    "warnings.simplefilter(\"ignore\")\n",
    "\n",
    "import lightgbm as lgb\n",
    "import nltk\n",
    "import numpy as np\n",
    "import optuna\n",
    "import pandas as pd\n",
    "import tensorflow as tf\n",
    "from imblearn.over_sampling import SMOTE, RandomOverSampler\n",
    "from iterstrat.ml_stratifiers import MultilabelStratifiedKFold\n",
    "from keras.layers import add, concatenate\n",
    "from keras.preprocessing.text import Tokenizer\n",
    "from nltk.corpus import stopwords\n",
    "from optuna.integration import KerasPruningCallback\n",
    "from sklearn.decomposition import PCA\n",
    "from sklearn.model_selection import StratifiedKFold\n",
    "from sklearn.model_selection import train_test_split as tts\n",
    "from sklearn.utils.class_weight import compute_class_weight as ccw\n",
    "from tensorflow.keras import Model, optimizers\n",
    "from tensorflow.keras.callbacks import EarlyStopping\n",
    "from tensorflow.keras.layers import (\n",
    "    BatchNormalization,\n",
    "    Dense,\n",
    "    Dropout,\n",
    "    Flatten,\n",
    "    Input,\n",
    "    LeakyReLU,\n",
    "    Rescaling,\n",
    ")\n",
    "from tensorflow.keras.models import Sequential\n",
    "from tensorflow.keras.utils import set_random_seed, to_categorical\n",
    "\n",
    "pd.options.display.max_columns=100\n",
    "nltk.download('stopwords')"
   ]
  },
  {
   "cell_type": "markdown",
   "id": "6b09792e-5c8f-48e9-9c83-ea5f398a3141",
   "metadata": {},
   "source": [
    "## 1.2. Fetching Data"
   ]
  },
  {
   "cell_type": "code",
   "execution_count": 2,
   "id": "c472a671-fa4c-4f41-b457-a9c76ca34620",
   "metadata": {},
   "outputs": [],
   "source": [
    "seed = 0\n",
    "np.random.seed(seed)\n",
    "set_random_seed(seed)\n",
    "\n",
    "train_df = pd.read_csv(\"../input/train.csv\", index_col=\"text_id\")\n",
    "X_train = train_df.full_text\n",
    "cols = [col for col in train_df.columns if col != \"full_text\"]\n",
    "y_train = train_df[cols]\n",
    "X_test = pd.read_csv(\"../input/test.csv\", index_col=\"text_id\").full_text\n",
    "X_test_idx = X_test.index"
   ]
  },
  {
   "cell_type": "markdown",
   "id": "9d595301-948c-4ac2-b7c1-6e2982601851",
   "metadata": {},
   "source": [
    "## 1.3. Custom Fanctions"
   ]
  },
  {
   "cell_type": "markdown",
   "id": "6b963d7b-9719-42f9-9087-268c619bedc5",
   "metadata": {},
   "source": [
    "memo\n",
    "encoding, onebyone_wrapper, kfold, oversampling, building_model, check_results\n",
    "optuna, optunaresult, predict"
   ]
  },
  {
   "cell_type": "code",
   "execution_count": 3,
   "id": "cefda4b6-9974-482e-84ca-b4d78e362160",
   "metadata": {},
   "outputs": [],
   "source": [
    "@tf.autograph.experimental.do_not_convert\n",
    "def MCRMSE_keras(y_true, y_pred):\n",
    "    return tf.reduce_mean(tf.reduce_mean(tf.square(y_true - y_pred), axis=1))"
   ]
  },
  {
   "cell_type": "code",
   "execution_count": null,
   "id": "64a9eb01-f20e-4026-b7a2-8de3d5a8f77e",
   "metadata": {},
   "outputs": [],
   "source": [
    "class BuildModel:\n",
    "    \n",
    "    def __init__(self, X_train = X_train, y_train = y_train, X_test = X_test):\n",
    "        self.X_train = X_train\n",
    "        self.X_test = X_test\n",
    "        self.y_train = y_train\n",
    "        \n",
    "    def execution(n_components = 500, n_splits = 4):\n",
    "        \n",
    "        \n",
    "    def encodingX(n_components = 500):\n",
    "        train_idx = self.X_train.index\n",
    "        test_idx = self.X_test.index\n",
    "\n",
    "        X_train = self.X_train.str.lower().replace(re.compile(r'[\\n\\r\\t]'), ' ', regex=True)\n",
    "        X_test = self.X_test.str.lower().replace(re.compile(r'[\\n\\r\\t]'), ' ', regex=True)\n",
    "\n",
    "        stop_words = stopwords.words('english')\n",
    "        remove_stopwords = lambda ls: [\" \".join([word for word in l.split() if not word in stop_words]) for l in ls] \n",
    "        X_train = remove_stopwords(X_train)\n",
    "        X_test = remove_stopwords(X_test)\n",
    "\n",
    "        X_train = [re.sub(\"[%s]\" % re.escape(string.punctuation), \"\", t) for t in X_train]\n",
    "        X_test = [re.sub(\"[%s]\" % re.escape(string.punctuation), \"\", t) for t in X_test]\n",
    "\n",
    "        tokenizer = Tokenizer()\n",
    "        tokenizer.fit_on_texts(X_train)\n",
    "        X_train = tokenizer.texts_to_matrix(X_train, \"tfidf\")\n",
    "        X_test = tokenizer.texts_to_matrix(X_test, \"tfidf\")\n",
    "\n",
    "        pca = PCA(n_components=n_components, whiten=True, random_state=seed)\n",
    "        X_train = pd.DataFrame(pca.fit_transform(X_train), index=train_idx)\n",
    "        X_test = pd.DataFrame(pca.transform(X_test), index=test_idx)\n",
    "        return X_train, X_test"
   ]
  },
  {
   "cell_type": "code",
   "execution_count": 4,
   "id": "188cdd31-ce19-4957-9957-9bd57a9fee66",
   "metadata": {},
   "outputs": [],
   "source": [
    "def encodingX(X_train = X_train, X_test = X_test, n_components = 500):\n",
    "    train_idx = X_train.index\n",
    "    test_idx = X_test.index\n",
    "\n",
    "    X_train = X_train.str.lower().replace(re.compile(r'[\\n\\r\\t]'), ' ', regex=True)\n",
    "    X_test = X_test.str.lower().replace(re.compile(r'[\\n\\r\\t]'), ' ', regex=True)\n",
    "    \n",
    "    stop_words = stopwords.words('english')\n",
    "    remove_stopwords = lambda ls: [\" \".join([word for word in l.split() if not word in stop_words]) for l in ls] \n",
    "    X_train = remove_stopwords(X_train)\n",
    "    X_test = remove_stopwords(X_test)\n",
    "\n",
    "    X_train = [re.sub(\"[%s]\" % re.escape(string.punctuation), \"\", t) for t in X_train]\n",
    "    X_test = [re.sub(\"[%s]\" % re.escape(string.punctuation), \"\", t) for t in X_test]\n",
    "    \n",
    "    tokenizer = Tokenizer()\n",
    "    tokenizer.fit_on_texts(X_train)\n",
    "    X_train = tokenizer.texts_to_matrix(X_train, \"tfidf\")\n",
    "    X_test = tokenizer.texts_to_matrix(X_test, \"tfidf\")\n",
    "\n",
    "    pca = PCA(n_components=n_components, whiten=True, random_state=seed)\n",
    "    X_train = pd.DataFrame(pca.fit_transform(X_train), index=train_idx)\n",
    "    X_test = pd.DataFrame(pca.transform(X_test), index=test_idx)\n",
    "    return X_train, X_test\n",
    "\n",
    "def exec_one_by_one():\n",
    "    "
   ]
  },
  {
   "cell_type": "code",
   "execution_count": 99,
   "id": "2baef06b-1230-48c9-877d-9d83b26b1d3c",
   "metadata": {},
   "outputs": [],
   "source": [
    "def building_keras_model(X_train, y_train, params, X_val = None, y_val = None):\n",
    "    X_train, y_train = OverSampling(X_train, y_train)\n",
    "    model = Sequential()\n",
    "    for i in range(1, params[\"NLayers\"]+1):\n",
    "        if params[f\"BatchNorm_l{i}\"]:\n",
    "            model.add(BatchNormalization())\n",
    "        if params[f\"Activation_l{i}\"] == \"lrelu\":\n",
    "            params[f\"Activation_l{i}\"] = LeakyReLU(alpha=.1)\n",
    "        \n",
    "        if i == 1:\n",
    "            model.add(Dense(params[f\"Units_l{i}\"], input_dim=X_train.shape[1], activation=params[f\"Activation_l{i}\"]))\n",
    "        else:\n",
    "            model.add(Dense(params[f\"Units_l{i}\"], activation=params[f\"Activation_l{i}\"]))\n",
    "            \n",
    "        if params[f\"Dropout_l{i}\"]:\n",
    "            model.add(Dropout(.3))\n",
    "\n",
    "    if params[\"Rescaling\"]:\n",
    "        model.add(Dense(1, activation=\"sigmoid\"))\n",
    "        model.add(Rescaling(4, offset=1))\n",
    "    else:\n",
    "        model.add(Dense(1, activation=\"linear\"))\n",
    "        \n",
    "    optimizer = optimizers.Adam(learning_rate=params[\"LearningRate\"], amsgrad=True)\n",
    "    model.compile(loss=MCRMSE_keras, optimizer=optimizer, metrics=[MCRMSE_keras])\n",
    "    \n",
    "    callbacks = [EarlyStopping(monitor=\"val_loss\", patience=10, restore_best_weights=True)]\n",
    "    if not params[\"Pruner\"] is None:\n",
    "        callbacks += [params[\"Pruner\"]]\n",
    "    \n",
    "    model.fit(X_train, y_train,# validation_data = (X_val, y_val),\n",
    "              batch_size=params[\"BatchSize\"], epochs=10,\n",
    "              workers=8, use_multiprocessing=True, verbose=1, callbacks=callbacks)\n",
    "    \n",
    "    if not X_val is None:\n",
    "        evaluation = model.evaluate(X_val, y_val, verbose=0)\n",
    "        return model, evaluation\n",
    "    else:\n",
    "        return model\n",
    "    \n",
    "def optuna_params(trial):\n",
    "    params = {\n",
    "        \"n_splits\": 4,\n",
    "        \"NLayers\": trial.suggest_int(\"NLayers\", 7, 20),\n",
    "        \"LearningRate\": trial.suggest_uniform(\"LearningRate\", .0005, .01),\n",
    "        \"BatchSize\": 2**3,\n",
    "        'Rescaling': False,#trial.suggest_categorical('Rescaling', [True, False]) \n",
    "        \"Pruner\": None #KerasPruningCallback(trial, \"val_acc\"),\n",
    "        }\n",
    "\n",
    "    for i in range(1, params[\"NLayers\"]+1):\n",
    "        params[f\"BatchNorm_l{i}\"] = trial.suggest_categorical(f'BatchNorm_l{i}', [True, False])\n",
    "        params[f\"Units_l{i}\"] = int(trial.suggest_uniform(f\"Units_l{i}\", 300, 2000))\n",
    "        activation = trial.suggest_categorical(f'Activation_l{i}', ['relu', \"lrelu\", \"softplus\", \"softsign\"])\n",
    "        if activation == \"lrelu\":\n",
    "            activation = LeakyReLU(alpha=.1)\n",
    "        params[f'Activation_l{i}'] = activation\n",
    "        params[f'Dropout_l{i}'] = trial.suggest_categorical(f'Dropout_l{i}', [True, False]) \n",
    "    return params\n",
    "\n",
    "def prediction(X_test, model):\n",
    "    return pd.DataFrame(model.predict(X_test), columns=cols, index=X_test_idx)\n",
    "\n",
    "def KFolds(X_train, y_train, n_splits = 4):\n",
    "    mskf = MultilabelStratifiedKFold(n_splits=n_splits, shuffle=True, random_state=seed)\n",
    "    X_trains = []\n",
    "    X_vals = []\n",
    "    y_trains = []\n",
    "    y_vals = []\n",
    "    \n",
    "    for train_idx, val_idx in mskf.split(X_train, y_train):\n",
    "        X_trains.append(X_train.iloc[train_idx,:])\n",
    "        X_vals.append(X_train.iloc[val_idx,:])\n",
    "        y_trains.append(y_train.iloc[train_idx,:])\n",
    "        y_vals.append(y_train.iloc[val_idx,:])\n",
    "        \n",
    "    return X_trains, X_vals, y_trains, y_vals\n",
    "\n",
    "def validating_and_pred4nextLevel(X_train, y_train, params, n_splits = 4):\n",
    "    preds = {col: [] for col in cols}\n",
    "    evals = {col: [] for col in cols}\n",
    "    for col in cols:\n",
    "        skf = StratifiedKFold(n_splits=n_splits, shuffle=True, random_state=seed)\n",
    "        for train_idx, val_idx in skf.split(X_train, y_train):\n",
    "            X_val = X_train.iloc[val_idx,:]\n",
    "            y_val = y_train.iloc[val_idx,:]\n",
    "            X_train = X_train.iloc[train_idx,:]\n",
    "            y_train = y_train.iloc[train_idx,:]\n",
    "            model, evaluation = building_keras_model(X_train, y_train, params, X_val, y_val)\n",
    "            evals[col] += [evaluation]\n",
    "            preds[col] += [model.predict(X_val)]\n",
    "        evals[col] = np.mean(evals[col])\n",
    "        preds[col] = pd.DataFrame(np.concatenate(preds[col], axis=1), index=X_val.index, columns=[col])\n",
    "    evals = pd.DataFrame(evals)\n",
    "    preds = pd.concat(list(preds.values()), axis=1)\n",
    "    return evals, preds\n",
    "\n",
    "def objective(trial):\n",
    "    tf.keras.backend.clear_session()\n",
    "    X_train_enc, X_test_enc = encodingX()\n",
    "    params = optuna_params(trial)\n",
    "    evals, preds = validating_and_pred4nextLevel(X_train_enc, y_train, params, params[\"n_splits\"])\n",
    "    return evals\n",
    "\n",
    "def study_result(study_name):\n",
    "    study = optuna.load_study(study_name=study_name, storage=storage)\n",
    "    bts = []\n",
    "    for bt in study.best_trials:\n",
    "        values = bt.values or [0]\n",
    "        values = [bt.number] + values + [bt.datetime_complete - bt.datetime_start] + list(bt.params.values())\n",
    "        bts.append(pd.DataFrame([values], columns = [\"number\", \"MCRMSE\", \"exec_time\"] + list(bt.params.keys())))\n",
    "        res = pd.concat(bts, axis=0, ignore_index=True).sort_values(\"MCRMSE\")\n",
    "    return res\n",
    "\n",
    "def OverSampling(X_train, y_train):\n",
    "    X_idx = list(X_train.index)\n",
    "    \n",
    "    maximum = int(len(y_train) * 1.5)\n",
    "    agg = y_train.value_counts()\n",
    "    mean = int(agg.mean())\n",
    "    agg_ltm = agg < mean\n",
    "    strategy_value = (maximum - (agg[agg>=mean]).sum()) // (agg_ltm).sum()\n",
    "    add_value = (maximum - (agg[agg>=mean]).sum()) % (agg_ltm).sum()\n",
    "    sampling_strategy = {str(k): strategy_value + add_value if k == agg[agg_ltm].index[0] else strategy_value for k in agg_ltm[agg_ltm].index}\n",
    "    X_train, y_train = RandomOverSampler(sampling_strategy=sampling_strategy, random_state=seed).fit_resample(X_train, y_train.astype(str))\n",
    "    idx = X_idx + list(X_train.index[len(X_idx):])\n",
    "    X_train.index = idx\n",
    "    y_train.index = idx\n",
    "    y_train = y_train.astype(np.float64)\n",
    "    return X_train, y_train\n",
    "\n",
    "def concat_models(X_train, y_train, models, X_val=None, y_val=None):\n",
    "    model = concatenate([model.output for model in models])\n",
    "    model = Dense(500, activation=\"relu\")(model)\n",
    "    model = Dense(1000, activation=\"relu\")(model)\n",
    "    model = Dense(500, activation=\"relu\")(model)\n",
    "    model = Dense(y_train.iloc[:,:2].shape[1], activation=\"linear\")(model)\n",
    "    model = Model([model.input for model in models], model)\n",
    "    \n",
    "    optimizer = optimizers.Adam(amsgrad=True)\n",
    "    model.compile(loss=MCRMSE_keras, optimizer=optimizer, metrics=[MCRMSE_keras])\n",
    "    callbacks = [EarlyStopping(monitor=\"val_loss\", patience=10, restore_best_weights=True)]\n",
    "    model.fit([X_train, X_train], y_train.iloc[:,:2],# validation_data = (X_val, y_val),\n",
    "              batch_size=2**3, epochs=10,\n",
    "              workers=8, use_multiprocessing=True, verbose=1, callbacks=callbacks)\n",
    "    \n",
    "    if not X_val is None:\n",
    "        evaluation = model.evaluate(X_val, y_val, verbose=0)\n",
    "        return model, evaluation\n",
    "    else:\n",
    "        return model"
   ]
  },
  {
   "cell_type": "markdown",
   "id": "7d72a307-9991-4a03-923e-4dd3e9d8030d",
   "metadata": {
    "tags": []
   },
   "source": [
    "# 2. Building Models"
   ]
  },
  {
   "cell_type": "markdown",
   "id": "013e193b-b41f-4e1d-b0a0-4aa366aec8d2",
   "metadata": {
    "tags": []
   },
   "source": [
    "## 2.0. set the variables"
   ]
  },
  {
   "cell_type": "code",
   "execution_count": 6,
   "id": "f28bcefb-1a26-469e-9540-21ba83c0856d",
   "metadata": {},
   "outputs": [],
   "source": [
    "storage = 'mysql+pymysql://iori:'+os.environ[\"MySQL_PASSWORD\"]+'@'+os.environ[\"MySQL_IP\"]+\":3306/kaggleELL?charset=utf8mb4\"\n",
    "directions = [\"minimize\"]"
   ]
  },
  {
   "cell_type": "markdown",
   "id": "cc28e03b-8af9-4cf6-a8c0-f879a9b1f6ef",
   "metadata": {
    "tags": []
   },
   "source": [
    "## 2.1. keras1"
   ]
  },
  {
   "cell_type": "code",
   "execution_count": null,
   "id": "cde9505e-1fd3-4bac-b50e-5199fe3f8b7f",
   "metadata": {},
   "outputs": [],
   "source": [
    "study_name = \"keras1\"\n",
    "\n",
    "keras_study = optuna.create_study(study_name=study_name, directions=directions,# pruner=optuna.pruners.MedianPruner(), \n",
    "                                  storage=storage, load_if_exists=True)\n",
    "keras_study.optimize(objective, n_trials=50, gc_after_trial=True)\n",
    "res = study_result(study_name)\n",
    "res"
   ]
  },
  {
   "cell_type": "code",
   "execution_count": 101,
   "id": "01e7dd3a-5a34-4d13-b212-2195beed0670",
   "metadata": {},
   "outputs": [
    {
     "name": "stdout",
     "output_type": "stream",
     "text": [
      "Epoch 1/10\n",
      "732/734 [============================>.] - ETA: 0s - loss: 2.0690 - MCRMSE_keras: 2.0690WARNING:tensorflow:Early stopping conditioned on metric `val_loss` which is not available. Available metrics are: loss,MCRMSE_keras\n"
     ]
    },
    {
     "name": "stderr",
     "output_type": "stream",
     "text": [
      "WARNING:tensorflow:Early stopping conditioned on metric `val_loss` which is not available. Available metrics are: loss,MCRMSE_keras\n"
     ]
    },
    {
     "name": "stdout",
     "output_type": "stream",
     "text": [
      "734/734 [==============================] - 21s 19ms/step - loss: 2.0671 - MCRMSE_keras: 2.0650\n",
      "Epoch 2/10\n",
      "733/734 [============================>.] - ETA: 0s - loss: 1.0371 - MCRMSE_keras: 1.0371WARNING:tensorflow:Early stopping conditioned on metric `val_loss` which is not available. Available metrics are: loss,MCRMSE_keras\n"
     ]
    },
    {
     "name": "stderr",
     "output_type": "stream",
     "text": [
      "WARNING:tensorflow:Early stopping conditioned on metric `val_loss` which is not available. Available metrics are: loss,MCRMSE_keras\n"
     ]
    },
    {
     "name": "stdout",
     "output_type": "stream",
     "text": [
      "734/734 [==============================] - 14s 19ms/step - loss: 1.0370 - MCRMSE_keras: 1.0366\n",
      "Epoch 3/10\n",
      "734/734 [==============================] - ETA: 0s - loss: 0.9101 - MCRMSE_keras: 0.9092WARNING:tensorflow:Early stopping conditioned on metric `val_loss` which is not available. Available metrics are: loss,MCRMSE_keras\n"
     ]
    },
    {
     "name": "stderr",
     "output_type": "stream",
     "text": [
      "WARNING:tensorflow:Early stopping conditioned on metric `val_loss` which is not available. Available metrics are: loss,MCRMSE_keras\n"
     ]
    },
    {
     "name": "stdout",
     "output_type": "stream",
     "text": [
      "734/734 [==============================] - 14s 19ms/step - loss: 0.9101 - MCRMSE_keras: 0.9092\n",
      "Epoch 4/10\n",
      "734/734 [==============================] - ETA: 0s - loss: 0.7559 - MCRMSE_keras: 0.7553WARNING:tensorflow:Early stopping conditioned on metric `val_loss` which is not available. Available metrics are: loss,MCRMSE_keras\n"
     ]
    },
    {
     "name": "stderr",
     "output_type": "stream",
     "text": [
      "WARNING:tensorflow:Early stopping conditioned on metric `val_loss` which is not available. Available metrics are: loss,MCRMSE_keras\n"
     ]
    },
    {
     "name": "stdout",
     "output_type": "stream",
     "text": [
      "734/734 [==============================] - 14s 19ms/step - loss: 0.7559 - MCRMSE_keras: 0.7553\n",
      "Epoch 5/10\n",
      "734/734 [==============================] - ETA: 0s - loss: 0.6790 - MCRMSE_keras: 0.6785WARNING:tensorflow:Early stopping conditioned on metric `val_loss` which is not available. Available metrics are: loss,MCRMSE_keras\n"
     ]
    },
    {
     "name": "stderr",
     "output_type": "stream",
     "text": [
      "WARNING:tensorflow:Early stopping conditioned on metric `val_loss` which is not available. Available metrics are: loss,MCRMSE_keras\n"
     ]
    },
    {
     "name": "stdout",
     "output_type": "stream",
     "text": [
      "734/734 [==============================] - 14s 19ms/step - loss: 0.6790 - MCRMSE_keras: 0.6785\n",
      "Epoch 6/10\n",
      "733/734 [============================>.] - ETA: 0s - loss: 0.6644 - MCRMSE_keras: 0.6644WARNING:tensorflow:Early stopping conditioned on metric `val_loss` which is not available. Available metrics are: loss,MCRMSE_keras\n"
     ]
    },
    {
     "name": "stderr",
     "output_type": "stream",
     "text": [
      "WARNING:tensorflow:Early stopping conditioned on metric `val_loss` which is not available. Available metrics are: loss,MCRMSE_keras\n"
     ]
    },
    {
     "name": "stdout",
     "output_type": "stream",
     "text": [
      "734/734 [==============================] - 14s 20ms/step - loss: 0.6645 - MCRMSE_keras: 0.6647\n",
      "Epoch 7/10\n",
      "734/734 [==============================] - ETA: 0s - loss: 0.6254 - MCRMSE_keras: 0.6275WARNING:tensorflow:Early stopping conditioned on metric `val_loss` which is not available. Available metrics are: loss,MCRMSE_keras\n"
     ]
    },
    {
     "name": "stderr",
     "output_type": "stream",
     "text": [
      "WARNING:tensorflow:Early stopping conditioned on metric `val_loss` which is not available. Available metrics are: loss,MCRMSE_keras\n"
     ]
    },
    {
     "name": "stdout",
     "output_type": "stream",
     "text": [
      "734/734 [==============================] - 14s 19ms/step - loss: 0.6254 - MCRMSE_keras: 0.6275\n",
      "Epoch 8/10\n",
      "732/734 [============================>.] - ETA: 0s - loss: 0.5812 - MCRMSE_keras: 0.5812WARNING:tensorflow:Early stopping conditioned on metric `val_loss` which is not available. Available metrics are: loss,MCRMSE_keras\n"
     ]
    },
    {
     "name": "stderr",
     "output_type": "stream",
     "text": [
      "WARNING:tensorflow:Early stopping conditioned on metric `val_loss` which is not available. Available metrics are: loss,MCRMSE_keras\n"
     ]
    },
    {
     "name": "stdout",
     "output_type": "stream",
     "text": [
      "734/734 [==============================] - 14s 19ms/step - loss: 0.5805 - MCRMSE_keras: 0.5800\n",
      "Epoch 9/10\n",
      "734/734 [==============================] - ETA: 0s - loss: 0.5979 - MCRMSE_keras: 0.5993WARNING:tensorflow:Early stopping conditioned on metric `val_loss` which is not available. Available metrics are: loss,MCRMSE_keras\n"
     ]
    },
    {
     "name": "stderr",
     "output_type": "stream",
     "text": [
      "WARNING:tensorflow:Early stopping conditioned on metric `val_loss` which is not available. Available metrics are: loss,MCRMSE_keras\n"
     ]
    },
    {
     "name": "stdout",
     "output_type": "stream",
     "text": [
      "734/734 [==============================] - 14s 19ms/step - loss: 0.5979 - MCRMSE_keras: 0.5993\n",
      "Epoch 10/10\n",
      "732/734 [============================>.] - ETA: 0s - loss: 0.8573 - MCRMSE_keras: 0.8573WARNING:tensorflow:Early stopping conditioned on metric `val_loss` which is not available. Available metrics are: loss,MCRMSE_keras\n"
     ]
    },
    {
     "name": "stderr",
     "output_type": "stream",
     "text": [
      "WARNING:tensorflow:Early stopping conditioned on metric `val_loss` which is not available. Available metrics are: loss,MCRMSE_keras\n"
     ]
    },
    {
     "name": "stdout",
     "output_type": "stream",
     "text": [
      "734/734 [==============================] - 14s 19ms/step - loss: 0.8565 - MCRMSE_keras: 0.8561\n",
      "Epoch 1/10\n",
      "734/734 [==============================] - ETA: 0s - loss: 2.1981 - MCRMSE_keras: 2.1964WARNING:tensorflow:Early stopping conditioned on metric `val_loss` which is not available. Available metrics are: loss,MCRMSE_keras\n"
     ]
    },
    {
     "name": "stderr",
     "output_type": "stream",
     "text": [
      "WARNING:tensorflow:Early stopping conditioned on metric `val_loss` which is not available. Available metrics are: loss,MCRMSE_keras\n"
     ]
    },
    {
     "name": "stdout",
     "output_type": "stream",
     "text": [
      "734/734 [==============================] - 22s 19ms/step - loss: 2.1981 - MCRMSE_keras: 2.1964\n",
      "Epoch 2/10\n",
      "734/734 [==============================] - ETA: 0s - loss: 1.2070 - MCRMSE_keras: 1.2069WARNING:tensorflow:Early stopping conditioned on metric `val_loss` which is not available. Available metrics are: loss,MCRMSE_keras\n"
     ]
    },
    {
     "name": "stderr",
     "output_type": "stream",
     "text": [
      "WARNING:tensorflow:Early stopping conditioned on metric `val_loss` which is not available. Available metrics are: loss,MCRMSE_keras\n"
     ]
    },
    {
     "name": "stdout",
     "output_type": "stream",
     "text": [
      "734/734 [==============================] - 14s 19ms/step - loss: 1.2070 - MCRMSE_keras: 1.2069\n",
      "Epoch 3/10\n",
      "734/734 [==============================] - ETA: 0s - loss: 0.9675 - MCRMSE_keras: 0.9679WARNING:tensorflow:Early stopping conditioned on metric `val_loss` which is not available. Available metrics are: loss,MCRMSE_keras\n"
     ]
    },
    {
     "name": "stderr",
     "output_type": "stream",
     "text": [
      "WARNING:tensorflow:Early stopping conditioned on metric `val_loss` which is not available. Available metrics are: loss,MCRMSE_keras\n"
     ]
    },
    {
     "name": "stdout",
     "output_type": "stream",
     "text": [
      "734/734 [==============================] - 14s 19ms/step - loss: 0.9675 - MCRMSE_keras: 0.9679\n",
      "Epoch 4/10\n",
      "733/734 [============================>.] - ETA: 0s - loss: 0.8783 - MCRMSE_keras: 0.8783WARNING:tensorflow:Early stopping conditioned on metric `val_loss` which is not available. Available metrics are: loss,MCRMSE_keras\n"
     ]
    },
    {
     "name": "stderr",
     "output_type": "stream",
     "text": [
      "WARNING:tensorflow:Early stopping conditioned on metric `val_loss` which is not available. Available metrics are: loss,MCRMSE_keras\n"
     ]
    },
    {
     "name": "stdout",
     "output_type": "stream",
     "text": [
      "734/734 [==============================] - 14s 19ms/step - loss: 0.8780 - MCRMSE_keras: 0.8773\n",
      "Epoch 5/10\n",
      "733/734 [============================>.] - ETA: 0s - loss: 0.7701 - MCRMSE_keras: 0.7701WARNING:tensorflow:Early stopping conditioned on metric `val_loss` which is not available. Available metrics are: loss,MCRMSE_keras\n"
     ]
    },
    {
     "name": "stderr",
     "output_type": "stream",
     "text": [
      "WARNING:tensorflow:Early stopping conditioned on metric `val_loss` which is not available. Available metrics are: loss,MCRMSE_keras\n"
     ]
    },
    {
     "name": "stdout",
     "output_type": "stream",
     "text": [
      "734/734 [==============================] - 14s 19ms/step - loss: 0.7700 - MCRMSE_keras: 0.7699\n",
      "Epoch 6/10\n",
      "733/734 [============================>.] - ETA: 0s - loss: 0.6762 - MCRMSE_keras: 0.6762WARNING:tensorflow:Early stopping conditioned on metric `val_loss` which is not available. Available metrics are: loss,MCRMSE_keras\n"
     ]
    },
    {
     "name": "stderr",
     "output_type": "stream",
     "text": [
      "WARNING:tensorflow:Early stopping conditioned on metric `val_loss` which is not available. Available metrics are: loss,MCRMSE_keras\n"
     ]
    },
    {
     "name": "stdout",
     "output_type": "stream",
     "text": [
      "734/734 [==============================] - 14s 19ms/step - loss: 0.6763 - MCRMSE_keras: 0.6768\n",
      "Epoch 7/10\n",
      "734/734 [==============================] - ETA: 0s - loss: 0.6652 - MCRMSE_keras: 0.6671WARNING:tensorflow:Early stopping conditioned on metric `val_loss` which is not available. Available metrics are: loss,MCRMSE_keras\n"
     ]
    },
    {
     "name": "stderr",
     "output_type": "stream",
     "text": [
      "WARNING:tensorflow:Early stopping conditioned on metric `val_loss` which is not available. Available metrics are: loss,MCRMSE_keras\n"
     ]
    },
    {
     "name": "stdout",
     "output_type": "stream",
     "text": [
      "734/734 [==============================] - 14s 19ms/step - loss: 0.6652 - MCRMSE_keras: 0.6671\n",
      "Epoch 8/10\n",
      "732/734 [============================>.] - ETA: 0s - loss: 0.6010 - MCRMSE_keras: 0.6010WARNING:tensorflow:Early stopping conditioned on metric `val_loss` which is not available. Available metrics are: loss,MCRMSE_keras\n"
     ]
    },
    {
     "name": "stderr",
     "output_type": "stream",
     "text": [
      "WARNING:tensorflow:Early stopping conditioned on metric `val_loss` which is not available. Available metrics are: loss,MCRMSE_keras\n"
     ]
    },
    {
     "name": "stdout",
     "output_type": "stream",
     "text": [
      "734/734 [==============================] - 14s 20ms/step - loss: 0.6001 - MCRMSE_keras: 0.5997\n",
      "Epoch 9/10\n",
      "732/734 [============================>.] - ETA: 0s - loss: 0.5927 - MCRMSE_keras: 0.5927WARNING:tensorflow:Early stopping conditioned on metric `val_loss` which is not available. Available metrics are: loss,MCRMSE_keras\n"
     ]
    },
    {
     "name": "stderr",
     "output_type": "stream",
     "text": [
      "WARNING:tensorflow:Early stopping conditioned on metric `val_loss` which is not available. Available metrics are: loss,MCRMSE_keras\n"
     ]
    },
    {
     "name": "stdout",
     "output_type": "stream",
     "text": [
      "734/734 [==============================] - 15s 20ms/step - loss: 0.5934 - MCRMSE_keras: 0.5939\n",
      "Epoch 10/10\n",
      "734/734 [==============================] - ETA: 0s - loss: 0.5836 - MCRMSE_keras: 0.5842WARNING:tensorflow:Early stopping conditioned on metric `val_loss` which is not available. Available metrics are: loss,MCRMSE_keras\n"
     ]
    },
    {
     "name": "stderr",
     "output_type": "stream",
     "text": [
      "WARNING:tensorflow:Early stopping conditioned on metric `val_loss` which is not available. Available metrics are: loss,MCRMSE_keras\n"
     ]
    },
    {
     "name": "stdout",
     "output_type": "stream",
     "text": [
      "734/734 [==============================] - 14s 19ms/step - loss: 0.5836 - MCRMSE_keras: 0.5842\n",
      "Epoch 1/10\n",
      "489/489 [==============================] - ETA: 0s - loss: 0.5669 - MCRMSE_keras: 0.5669WARNING:tensorflow:Early stopping conditioned on metric `val_loss` which is not available. Available metrics are: loss,MCRMSE_keras\n"
     ]
    },
    {
     "name": "stderr",
     "output_type": "stream",
     "text": [
      "WARNING:tensorflow:Early stopping conditioned on metric `val_loss` which is not available. Available metrics are: loss,MCRMSE_keras\n"
     ]
    },
    {
     "name": "stdout",
     "output_type": "stream",
     "text": [
      "489/489 [==============================] - 30s 30ms/step - loss: 0.5669 - MCRMSE_keras: 0.5669\n",
      "Epoch 2/10\n",
      "488/489 [============================>.] - ETA: 0s - loss: 0.4833 - MCRMSE_keras: 0.4833WARNING:tensorflow:Early stopping conditioned on metric `val_loss` which is not available. Available metrics are: loss,MCRMSE_keras\n"
     ]
    },
    {
     "name": "stderr",
     "output_type": "stream",
     "text": [
      "WARNING:tensorflow:Early stopping conditioned on metric `val_loss` which is not available. Available metrics are: loss,MCRMSE_keras\n"
     ]
    },
    {
     "name": "stdout",
     "output_type": "stream",
     "text": [
      "489/489 [==============================] - 15s 30ms/step - loss: 0.4831 - MCRMSE_keras: 0.4831\n",
      "Epoch 3/10\n",
      "489/489 [==============================] - ETA: 0s - loss: 0.4757 - MCRMSE_keras: 0.4757WARNING:tensorflow:Early stopping conditioned on metric `val_loss` which is not available. Available metrics are: loss,MCRMSE_keras\n"
     ]
    },
    {
     "name": "stderr",
     "output_type": "stream",
     "text": [
      "WARNING:tensorflow:Early stopping conditioned on metric `val_loss` which is not available. Available metrics are: loss,MCRMSE_keras\n"
     ]
    },
    {
     "name": "stdout",
     "output_type": "stream",
     "text": [
      "489/489 [==============================] - 15s 30ms/step - loss: 0.4757 - MCRMSE_keras: 0.4757\n",
      "Epoch 4/10\n",
      "488/489 [============================>.] - ETA: 0s - loss: 0.4405 - MCRMSE_keras: 0.4405WARNING:tensorflow:Early stopping conditioned on metric `val_loss` which is not available. Available metrics are: loss,MCRMSE_keras\n"
     ]
    },
    {
     "name": "stderr",
     "output_type": "stream",
     "text": [
      "WARNING:tensorflow:Early stopping conditioned on metric `val_loss` which is not available. Available metrics are: loss,MCRMSE_keras\n"
     ]
    },
    {
     "name": "stdout",
     "output_type": "stream",
     "text": [
      "489/489 [==============================] - 15s 30ms/step - loss: 0.4408 - MCRMSE_keras: 0.4408\n",
      "Epoch 5/10\n",
      "488/489 [============================>.] - ETA: 0s - loss: 0.4200 - MCRMSE_keras: 0.4200WARNING:tensorflow:Early stopping conditioned on metric `val_loss` which is not available. Available metrics are: loss,MCRMSE_keras\n"
     ]
    },
    {
     "name": "stderr",
     "output_type": "stream",
     "text": [
      "WARNING:tensorflow:Early stopping conditioned on metric `val_loss` which is not available. Available metrics are: loss,MCRMSE_keras\n"
     ]
    },
    {
     "name": "stdout",
     "output_type": "stream",
     "text": [
      "489/489 [==============================] - 15s 30ms/step - loss: 0.4196 - MCRMSE_keras: 0.4195\n",
      "Epoch 6/10\n",
      "488/489 [============================>.] - ETA: 0s - loss: 0.4142 - MCRMSE_keras: 0.4142WARNING:tensorflow:Early stopping conditioned on metric `val_loss` which is not available. Available metrics are: loss,MCRMSE_keras\n"
     ]
    },
    {
     "name": "stderr",
     "output_type": "stream",
     "text": [
      "WARNING:tensorflow:Early stopping conditioned on metric `val_loss` which is not available. Available metrics are: loss,MCRMSE_keras\n"
     ]
    },
    {
     "name": "stdout",
     "output_type": "stream",
     "text": [
      "489/489 [==============================] - 15s 30ms/step - loss: 0.4142 - MCRMSE_keras: 0.4141\n",
      "Epoch 7/10\n",
      "489/489 [==============================] - ETA: 0s - loss: 0.4139 - MCRMSE_keras: 0.4139WARNING:tensorflow:Early stopping conditioned on metric `val_loss` which is not available. Available metrics are: loss,MCRMSE_keras\n"
     ]
    },
    {
     "name": "stderr",
     "output_type": "stream",
     "text": [
      "WARNING:tensorflow:Early stopping conditioned on metric `val_loss` which is not available. Available metrics are: loss,MCRMSE_keras\n"
     ]
    },
    {
     "name": "stdout",
     "output_type": "stream",
     "text": [
      "489/489 [==============================] - 15s 30ms/step - loss: 0.4139 - MCRMSE_keras: 0.4139\n",
      "Epoch 8/10\n",
      "489/489 [==============================] - ETA: 0s - loss: 0.4126 - MCRMSE_keras: 0.4126WARNING:tensorflow:Early stopping conditioned on metric `val_loss` which is not available. Available metrics are: loss,MCRMSE_keras\n"
     ]
    },
    {
     "name": "stderr",
     "output_type": "stream",
     "text": [
      "WARNING:tensorflow:Early stopping conditioned on metric `val_loss` which is not available. Available metrics are: loss,MCRMSE_keras\n"
     ]
    },
    {
     "name": "stdout",
     "output_type": "stream",
     "text": [
      "489/489 [==============================] - 15s 30ms/step - loss: 0.4126 - MCRMSE_keras: 0.4126\n",
      "Epoch 9/10\n",
      "489/489 [==============================] - ETA: 0s - loss: 0.4151 - MCRMSE_keras: 0.4151WARNING:tensorflow:Early stopping conditioned on metric `val_loss` which is not available. Available metrics are: loss,MCRMSE_keras\n"
     ]
    },
    {
     "name": "stderr",
     "output_type": "stream",
     "text": [
      "WARNING:tensorflow:Early stopping conditioned on metric `val_loss` which is not available. Available metrics are: loss,MCRMSE_keras\n"
     ]
    },
    {
     "name": "stdout",
     "output_type": "stream",
     "text": [
      "489/489 [==============================] - 15s 31ms/step - loss: 0.4151 - MCRMSE_keras: 0.4151\n",
      "Epoch 10/10\n",
      "489/489 [==============================] - ETA: 0s - loss: 0.3978 - MCRMSE_keras: 0.3977WARNING:tensorflow:Early stopping conditioned on metric `val_loss` which is not available. Available metrics are: loss,MCRMSE_keras\n"
     ]
    },
    {
     "name": "stderr",
     "output_type": "stream",
     "text": [
      "WARNING:tensorflow:Early stopping conditioned on metric `val_loss` which is not available. Available metrics are: loss,MCRMSE_keras\n"
     ]
    },
    {
     "name": "stdout",
     "output_type": "stream",
     "text": [
      "489/489 [==============================] - 15s 30ms/step - loss: 0.3978 - MCRMSE_keras: 0.3977\n",
      "1/1 [==============================] - 0s 483ms/step\n"
     ]
    },
    {
     "data": {
      "text/plain": [
       "array([[3.2621105, 3.18507  ],\n",
       "       [2.7542586, 2.7154098],\n",
       "       [3.2621033, 3.1850975]], dtype=float32)"
      ]
     },
     "execution_count": 101,
     "metadata": {},
     "output_type": "execute_result"
    }
   ],
   "source": [
    "models = []\n",
    "\n",
    "res = study_result(\"keras1\")\n",
    "params = {k:v for k,v in zip(res.columns, res.values[0])} | {\"BatchSize\": 2**3, \"Rescaling\": False, \"Pruner\": None}\n",
    "X_train_enc, X_test_enc = encodingX()\n",
    "for col in cols[:2]:\n",
    "    models.append(building_keras_model(X_train_enc, y_train[col], params))\n",
    "model = concat_models(X_train_enc, y_train, models, X_val=None, y_val=None)\n",
    "model.predict([X_test_enc] * 2)"
   ]
  },
  {
   "cell_type": "code",
   "execution_count": 25,
   "id": "e7bd7519-19f2-4ccf-8cee-4428cb32a95f",
   "metadata": {},
   "outputs": [
    {
     "name": "stdout",
     "output_type": "stream",
     "text": [
      "Epoch 1/10\n",
      "489/489 [==============================] - ETA: 0s - loss: 0.4201 - MCRMSE_keras: 0.4201WARNING:tensorflow:Early stopping conditioned on metric `val_loss` which is not available. Available metrics are: loss,MCRMSE_keras\n"
     ]
    },
    {
     "name": "stderr",
     "output_type": "stream",
     "text": [
      "WARNING:tensorflow:Early stopping conditioned on metric `val_loss` which is not available. Available metrics are: loss,MCRMSE_keras\n"
     ]
    },
    {
     "name": "stdout",
     "output_type": "stream",
     "text": [
      "489/489 [==============================] - 30s 30ms/step - loss: 0.4201 - MCRMSE_keras: 0.4201\n",
      "Epoch 2/10\n",
      "489/489 [==============================] - ETA: 0s - loss: 0.3656 - MCRMSE_keras: 0.3656WARNING:tensorflow:Early stopping conditioned on metric `val_loss` which is not available. Available metrics are: loss,MCRMSE_keras\n"
     ]
    },
    {
     "name": "stderr",
     "output_type": "stream",
     "text": [
      "WARNING:tensorflow:Early stopping conditioned on metric `val_loss` which is not available. Available metrics are: loss,MCRMSE_keras\n"
     ]
    },
    {
     "name": "stdout",
     "output_type": "stream",
     "text": [
      "489/489 [==============================] - 15s 30ms/step - loss: 0.3656 - MCRMSE_keras: 0.3656\n",
      "Epoch 3/10\n",
      "489/489 [==============================] - ETA: 0s - loss: 0.4238 - MCRMSE_keras: 0.4238WARNING:tensorflow:Early stopping conditioned on metric `val_loss` which is not available. Available metrics are: loss,MCRMSE_keras\n"
     ]
    },
    {
     "name": "stderr",
     "output_type": "stream",
     "text": [
      "WARNING:tensorflow:Early stopping conditioned on metric `val_loss` which is not available. Available metrics are: loss,MCRMSE_keras\n"
     ]
    },
    {
     "name": "stdout",
     "output_type": "stream",
     "text": [
      "489/489 [==============================] - 15s 30ms/step - loss: 0.4238 - MCRMSE_keras: 0.4238\n",
      "Epoch 4/10\n",
      "488/489 [============================>.] - ETA: 0s - loss: 0.4102 - MCRMSE_keras: 0.4102WARNING:tensorflow:Early stopping conditioned on metric `val_loss` which is not available. Available metrics are: loss,MCRMSE_keras\n"
     ]
    },
    {
     "name": "stderr",
     "output_type": "stream",
     "text": [
      "WARNING:tensorflow:Early stopping conditioned on metric `val_loss` which is not available. Available metrics are: loss,MCRMSE_keras\n"
     ]
    },
    {
     "name": "stdout",
     "output_type": "stream",
     "text": [
      "489/489 [==============================] - 15s 30ms/step - loss: 0.4107 - MCRMSE_keras: 0.4108\n",
      "Epoch 5/10\n",
      "489/489 [==============================] - ETA: 0s - loss: 0.4056 - MCRMSE_keras: 0.4055WARNING:tensorflow:Early stopping conditioned on metric `val_loss` which is not available. Available metrics are: loss,MCRMSE_keras\n"
     ]
    },
    {
     "name": "stderr",
     "output_type": "stream",
     "text": [
      "WARNING:tensorflow:Early stopping conditioned on metric `val_loss` which is not available. Available metrics are: loss,MCRMSE_keras\n"
     ]
    },
    {
     "name": "stdout",
     "output_type": "stream",
     "text": [
      "489/489 [==============================] - 15s 30ms/step - loss: 0.4056 - MCRMSE_keras: 0.4055\n",
      "Epoch 6/10\n",
      "489/489 [==============================] - ETA: 0s - loss: 0.4292 - MCRMSE_keras: 0.4292WARNING:tensorflow:Early stopping conditioned on metric `val_loss` which is not available. Available metrics are: loss,MCRMSE_keras\n"
     ]
    },
    {
     "name": "stderr",
     "output_type": "stream",
     "text": [
      "WARNING:tensorflow:Early stopping conditioned on metric `val_loss` which is not available. Available metrics are: loss,MCRMSE_keras\n"
     ]
    },
    {
     "name": "stdout",
     "output_type": "stream",
     "text": [
      "489/489 [==============================] - 15s 30ms/step - loss: 0.4292 - MCRMSE_keras: 0.4292\n",
      "Epoch 7/10\n",
      "489/489 [==============================] - ETA: 0s - loss: 0.4210 - MCRMSE_keras: 0.4210WARNING:tensorflow:Early stopping conditioned on metric `val_loss` which is not available. Available metrics are: loss,MCRMSE_keras\n"
     ]
    },
    {
     "name": "stderr",
     "output_type": "stream",
     "text": [
      "WARNING:tensorflow:Early stopping conditioned on metric `val_loss` which is not available. Available metrics are: loss,MCRMSE_keras\n"
     ]
    },
    {
     "name": "stdout",
     "output_type": "stream",
     "text": [
      "489/489 [==============================] - 15s 31ms/step - loss: 0.4210 - MCRMSE_keras: 0.4210\n",
      "Epoch 8/10\n",
      "489/489 [==============================] - ETA: 0s - loss: 0.4084 - MCRMSE_keras: 0.4085WARNING:tensorflow:Early stopping conditioned on metric `val_loss` which is not available. Available metrics are: loss,MCRMSE_keras\n"
     ]
    },
    {
     "name": "stderr",
     "output_type": "stream",
     "text": [
      "WARNING:tensorflow:Early stopping conditioned on metric `val_loss` which is not available. Available metrics are: loss,MCRMSE_keras\n"
     ]
    },
    {
     "name": "stdout",
     "output_type": "stream",
     "text": [
      "489/489 [==============================] - 15s 30ms/step - loss: 0.4084 - MCRMSE_keras: 0.4085\n",
      "Epoch 9/10\n",
      "489/489 [==============================] - ETA: 0s - loss: 0.4048 - MCRMSE_keras: 0.4047WARNING:tensorflow:Early stopping conditioned on metric `val_loss` which is not available. Available metrics are: loss,MCRMSE_keras\n"
     ]
    },
    {
     "name": "stderr",
     "output_type": "stream",
     "text": [
      "WARNING:tensorflow:Early stopping conditioned on metric `val_loss` which is not available. Available metrics are: loss,MCRMSE_keras\n"
     ]
    },
    {
     "name": "stdout",
     "output_type": "stream",
     "text": [
      "489/489 [==============================] - 15s 30ms/step - loss: 0.4048 - MCRMSE_keras: 0.4047\n",
      "Epoch 10/10\n",
      "489/489 [==============================] - ETA: 0s - loss: 0.3995 - MCRMSE_keras: 0.3995WARNING:tensorflow:Early stopping conditioned on metric `val_loss` which is not available. Available metrics are: loss,MCRMSE_keras\n"
     ]
    },
    {
     "name": "stderr",
     "output_type": "stream",
     "text": [
      "WARNING:tensorflow:Early stopping conditioned on metric `val_loss` which is not available. Available metrics are: loss,MCRMSE_keras\n"
     ]
    },
    {
     "name": "stdout",
     "output_type": "stream",
     "text": [
      "489/489 [==============================] - 15s 30ms/step - loss: 0.3995 - MCRMSE_keras: 0.3995\n"
     ]
    },
    {
     "ename": "ValueError",
     "evalue": "in user code:\n\n    File \"/opt/conda/lib/python3.10/site-packages/keras/engine/training.py\", line 2137, in predict_function  *\n        return step_function(self, iterator)\n    File \"/opt/conda/lib/python3.10/site-packages/keras/engine/training.py\", line 2123, in step_function  **\n        outputs = model.distribute_strategy.run(run_step, args=(data,))\n    File \"/opt/conda/lib/python3.10/site-packages/keras/engine/training.py\", line 2111, in run_step  **\n        outputs = model.predict_step(data)\n    File \"/opt/conda/lib/python3.10/site-packages/keras/engine/training.py\", line 2079, in predict_step\n        return self(x, training=False)\n    File \"/opt/conda/lib/python3.10/site-packages/keras/utils/traceback_utils.py\", line 70, in error_handler\n        raise e.with_traceback(filtered_tb) from None\n    File \"/opt/conda/lib/python3.10/site-packages/keras/engine/input_spec.py\", line 216, in assert_input_compatibility\n        raise ValueError(\n\n    ValueError: Layer \"model_3\" expects 2 input(s), but it received 1 input tensors. Inputs received: [<tf.Tensor 'IteratorGetNext:0' shape=(None, 500) dtype=float64>]\n",
     "output_type": "error",
     "traceback": [
      "\u001b[0;31m---------------------------------------------------------------------------\u001b[0m",
      "\u001b[0;31mValueError\u001b[0m                                Traceback (most recent call last)",
      "\u001b[0;32m<ipython-input-25-8ba92ed97df7>\u001b[0m in \u001b[0;36m<module>\u001b[0;34m\u001b[0m\n\u001b[1;32m      1\u001b[0m \u001b[0mmodel\u001b[0m \u001b[0;34m=\u001b[0m \u001b[0mconcat_models\u001b[0m\u001b[0;34m(\u001b[0m\u001b[0mX_train_enc\u001b[0m\u001b[0;34m,\u001b[0m \u001b[0my_train\u001b[0m\u001b[0;34m,\u001b[0m \u001b[0mmodels\u001b[0m\u001b[0;34m,\u001b[0m \u001b[0mX_val\u001b[0m\u001b[0;34m=\u001b[0m\u001b[0;32mNone\u001b[0m\u001b[0;34m,\u001b[0m \u001b[0my_val\u001b[0m\u001b[0;34m=\u001b[0m\u001b[0;32mNone\u001b[0m\u001b[0;34m)\u001b[0m\u001b[0;34m\u001b[0m\u001b[0;34m\u001b[0m\u001b[0m\n\u001b[0;32m----> 2\u001b[0;31m \u001b[0mmodel\u001b[0m\u001b[0;34m.\u001b[0m\u001b[0mpredict\u001b[0m\u001b[0;34m(\u001b[0m\u001b[0mX_test_enc\u001b[0m\u001b[0;34m)\u001b[0m\u001b[0;34m\u001b[0m\u001b[0;34m\u001b[0m\u001b[0m\n\u001b[0m",
      "\u001b[0;32m/opt/conda/lib/python3.10/site-packages/keras/utils/traceback_utils.py\u001b[0m in \u001b[0;36merror_handler\u001b[0;34m(*args, **kwargs)\u001b[0m\n\u001b[1;32m     68\u001b[0m             \u001b[0;31m# To get the full stack trace, call:\u001b[0m\u001b[0;34m\u001b[0m\u001b[0;34m\u001b[0m\u001b[0m\n\u001b[1;32m     69\u001b[0m             \u001b[0;31m# `tf.debugging.disable_traceback_filtering()`\u001b[0m\u001b[0;34m\u001b[0m\u001b[0;34m\u001b[0m\u001b[0m\n\u001b[0;32m---> 70\u001b[0;31m             \u001b[0;32mraise\u001b[0m \u001b[0me\u001b[0m\u001b[0;34m.\u001b[0m\u001b[0mwith_traceback\u001b[0m\u001b[0;34m(\u001b[0m\u001b[0mfiltered_tb\u001b[0m\u001b[0;34m)\u001b[0m \u001b[0;32mfrom\u001b[0m \u001b[0;32mNone\u001b[0m\u001b[0;34m\u001b[0m\u001b[0;34m\u001b[0m\u001b[0m\n\u001b[0m\u001b[1;32m     71\u001b[0m         \u001b[0;32mfinally\u001b[0m\u001b[0;34m:\u001b[0m\u001b[0;34m\u001b[0m\u001b[0;34m\u001b[0m\u001b[0m\n\u001b[1;32m     72\u001b[0m             \u001b[0;32mdel\u001b[0m \u001b[0mfiltered_tb\u001b[0m\u001b[0;34m\u001b[0m\u001b[0;34m\u001b[0m\u001b[0m\n",
      "\u001b[0;32m/opt/conda/lib/python3.10/site-packages/keras/engine/training.py\u001b[0m in \u001b[0;36mtf__predict_function\u001b[0;34m(iterator)\u001b[0m\n\u001b[1;32m     13\u001b[0m                 \u001b[0;32mtry\u001b[0m\u001b[0;34m:\u001b[0m\u001b[0;34m\u001b[0m\u001b[0;34m\u001b[0m\u001b[0m\n\u001b[1;32m     14\u001b[0m                     \u001b[0mdo_return\u001b[0m \u001b[0;34m=\u001b[0m \u001b[0;32mTrue\u001b[0m\u001b[0;34m\u001b[0m\u001b[0;34m\u001b[0m\u001b[0m\n\u001b[0;32m---> 15\u001b[0;31m                     \u001b[0mretval_\u001b[0m \u001b[0;34m=\u001b[0m \u001b[0mag__\u001b[0m\u001b[0;34m.\u001b[0m\u001b[0mconverted_call\u001b[0m\u001b[0;34m(\u001b[0m\u001b[0mag__\u001b[0m\u001b[0;34m.\u001b[0m\u001b[0mld\u001b[0m\u001b[0;34m(\u001b[0m\u001b[0mstep_function\u001b[0m\u001b[0;34m)\u001b[0m\u001b[0;34m,\u001b[0m \u001b[0;34m(\u001b[0m\u001b[0mag__\u001b[0m\u001b[0;34m.\u001b[0m\u001b[0mld\u001b[0m\u001b[0;34m(\u001b[0m\u001b[0mself\u001b[0m\u001b[0;34m)\u001b[0m\u001b[0;34m,\u001b[0m \u001b[0mag__\u001b[0m\u001b[0;34m.\u001b[0m\u001b[0mld\u001b[0m\u001b[0;34m(\u001b[0m\u001b[0miterator\u001b[0m\u001b[0;34m)\u001b[0m\u001b[0;34m)\u001b[0m\u001b[0;34m,\u001b[0m \u001b[0;32mNone\u001b[0m\u001b[0;34m,\u001b[0m \u001b[0mfscope\u001b[0m\u001b[0;34m)\u001b[0m\u001b[0;34m\u001b[0m\u001b[0;34m\u001b[0m\u001b[0m\n\u001b[0m\u001b[1;32m     16\u001b[0m                 \u001b[0;32mexcept\u001b[0m\u001b[0;34m:\u001b[0m\u001b[0;34m\u001b[0m\u001b[0;34m\u001b[0m\u001b[0m\n\u001b[1;32m     17\u001b[0m                     \u001b[0mdo_return\u001b[0m \u001b[0;34m=\u001b[0m \u001b[0;32mFalse\u001b[0m\u001b[0;34m\u001b[0m\u001b[0;34m\u001b[0m\u001b[0m\n",
      "\u001b[0;31mValueError\u001b[0m: in user code:\n\n    File \"/opt/conda/lib/python3.10/site-packages/keras/engine/training.py\", line 2137, in predict_function  *\n        return step_function(self, iterator)\n    File \"/opt/conda/lib/python3.10/site-packages/keras/engine/training.py\", line 2123, in step_function  **\n        outputs = model.distribute_strategy.run(run_step, args=(data,))\n    File \"/opt/conda/lib/python3.10/site-packages/keras/engine/training.py\", line 2111, in run_step  **\n        outputs = model.predict_step(data)\n    File \"/opt/conda/lib/python3.10/site-packages/keras/engine/training.py\", line 2079, in predict_step\n        return self(x, training=False)\n    File \"/opt/conda/lib/python3.10/site-packages/keras/utils/traceback_utils.py\", line 70, in error_handler\n        raise e.with_traceback(filtered_tb) from None\n    File \"/opt/conda/lib/python3.10/site-packages/keras/engine/input_spec.py\", line 216, in assert_input_compatibility\n        raise ValueError(\n\n    ValueError: Layer \"model_3\" expects 2 input(s), but it received 1 input tensors. Inputs received: [<tf.Tensor 'IteratorGetNext:0' shape=(None, 500) dtype=float64>]\n"
     ]
    }
   ],
   "source": [
    "model = concat_models(X_train_enc, y_train, models, X_val=None, y_val=None)\n",
    "model.predict(X_test_enc)"
   ]
  },
  {
   "cell_type": "code",
   "execution_count": 27,
   "id": "59ffab7b-2964-4504-a98a-21fcd5b0a57f",
   "metadata": {},
   "outputs": [
    {
     "name": "stdout",
     "output_type": "stream",
     "text": [
      "1/1 [==============================] - 1s 501ms/step\n"
     ]
    },
    {
     "data": {
      "text/plain": [
       "array([[2.945384 , 2.882789 ],\n",
       "       [2.945384 , 2.882789 ],\n",
       "       [2.9453735, 2.8827846]], dtype=float32)"
      ]
     },
     "execution_count": 27,
     "metadata": {},
     "output_type": "execute_result"
    }
   ],
   "source": [
    "model.predict([X_test_enc, X_test_enc])"
   ]
  },
  {
   "cell_type": "code",
   "execution_count": 26,
   "id": "bc0ded07-4d15-4dec-9330-04cacf19b28b",
   "metadata": {},
   "outputs": [
    {
     "name": "stdout",
     "output_type": "stream",
     "text": [
      "Model: \"model_3\"\n",
      "__________________________________________________________________________________________________\n",
      " Layer (type)                   Output Shape         Param #     Connected to                     \n",
      "==================================================================================================\n",
      " batch_normalization_input (Inp  [(None, 500)]       0           []                               \n",
      " utLayer)                                                                                         \n",
      "                                                                                                  \n",
      " batch_normalization_10_input (  [(None, 500)]       0           []                               \n",
      " InputLayer)                                                                                      \n",
      "                                                                                                  \n",
      " batch_normalization (BatchNorm  (None, 500)         2000        ['batch_normalization_input[0][0]\n",
      " alization)                                                      ']                               \n",
      "                                                                                                  \n",
      " batch_normalization_10 (BatchN  (None, 500)         2000        ['batch_normalization_10_input[0]\n",
      " ormalization)                                                   [0]']                            \n",
      "                                                                                                  \n",
      " dense (Dense)                  (None, 786)          393786      ['batch_normalization[0][0]']    \n",
      "                                                                                                  \n",
      " dense_19 (Dense)               (None, 786)          393786      ['batch_normalization_10[0][0]'] \n",
      "                                                                                                  \n",
      " dropout (Dropout)              (None, 786)          0           ['dense[0][0]']                  \n",
      "                                                                                                  \n",
      " dropout_8 (Dropout)            (None, 786)          0           ['dense_19[0][0]']               \n",
      "                                                                                                  \n",
      " dense_1 (Dense)                (None, 369)          290403      ['dropout[0][0]']                \n",
      "                                                                                                  \n",
      " dense_20 (Dense)               (None, 369)          290403      ['dropout_8[0][0]']              \n",
      "                                                                                                  \n",
      " dense_2 (Dense)                (None, 1471)         544270      ['dense_1[0][0]']                \n",
      "                                                                                                  \n",
      " dense_21 (Dense)               (None, 1471)         544270      ['dense_20[0][0]']               \n",
      "                                                                                                  \n",
      " batch_normalization_1 (BatchNo  (None, 1471)        5884        ['dense_2[0][0]']                \n",
      " rmalization)                                                                                     \n",
      "                                                                                                  \n",
      " batch_normalization_11 (BatchN  (None, 1471)        5884        ['dense_21[0][0]']               \n",
      " ormalization)                                                                                    \n",
      "                                                                                                  \n",
      " dense_3 (Dense)                (None, 1131)         1664832     ['batch_normalization_1[0][0]']  \n",
      "                                                                                                  \n",
      " dense_22 (Dense)               (None, 1131)         1664832     ['batch_normalization_11[0][0]'] \n",
      "                                                                                                  \n",
      " dropout_1 (Dropout)            (None, 1131)         0           ['dense_3[0][0]']                \n",
      "                                                                                                  \n",
      " dropout_9 (Dropout)            (None, 1131)         0           ['dense_22[0][0]']               \n",
      "                                                                                                  \n",
      " batch_normalization_2 (BatchNo  (None, 1131)        4524        ['dropout_1[0][0]']              \n",
      " rmalization)                                                                                     \n",
      "                                                                                                  \n",
      " batch_normalization_12 (BatchN  (None, 1131)        4524        ['dropout_9[0][0]']              \n",
      " ormalization)                                                                                    \n",
      "                                                                                                  \n",
      " dense_4 (Dense)                (None, 1690)         1913080     ['batch_normalization_2[0][0]']  \n",
      "                                                                                                  \n",
      " dense_23 (Dense)               (None, 1690)         1913080     ['batch_normalization_12[0][0]'] \n",
      "                                                                                                  \n",
      " batch_normalization_3 (BatchNo  (None, 1690)        6760        ['dense_4[0][0]']                \n",
      " rmalization)                                                                                     \n",
      "                                                                                                  \n",
      " batch_normalization_13 (BatchN  (None, 1690)        6760        ['dense_23[0][0]']               \n",
      " ormalization)                                                                                    \n",
      "                                                                                                  \n",
      " dense_5 (Dense)                (None, 1477)         2497607     ['batch_normalization_3[0][0]']  \n",
      "                                                                                                  \n",
      " dense_24 (Dense)               (None, 1477)         2497607     ['batch_normalization_13[0][0]'] \n",
      "                                                                                                  \n",
      " batch_normalization_4 (BatchNo  (None, 1477)        5908        ['dense_5[0][0]']                \n",
      " rmalization)                                                                                     \n",
      "                                                                                                  \n",
      " batch_normalization_14 (BatchN  (None, 1477)        5908        ['dense_24[0][0]']               \n",
      " ormalization)                                                                                    \n",
      "                                                                                                  \n",
      " dense_6 (Dense)                (None, 1568)         2317504     ['batch_normalization_4[0][0]']  \n",
      "                                                                                                  \n",
      " dense_25 (Dense)               (None, 1568)         2317504     ['batch_normalization_14[0][0]'] \n",
      "                                                                                                  \n",
      " dropout_2 (Dropout)            (None, 1568)         0           ['dense_6[0][0]']                \n",
      "                                                                                                  \n",
      " dropout_10 (Dropout)           (None, 1568)         0           ['dense_25[0][0]']               \n",
      "                                                                                                  \n",
      " batch_normalization_5 (BatchNo  (None, 1568)        6272        ['dropout_2[0][0]']              \n",
      " rmalization)                                                                                     \n",
      "                                                                                                  \n",
      " batch_normalization_15 (BatchN  (None, 1568)        6272        ['dropout_10[0][0]']             \n",
      " ormalization)                                                                                    \n",
      "                                                                                                  \n",
      " dense_7 (Dense)                (None, 1037)         1627053     ['batch_normalization_5[0][0]']  \n",
      "                                                                                                  \n",
      " dense_26 (Dense)               (None, 1037)         1627053     ['batch_normalization_15[0][0]'] \n",
      "                                                                                                  \n",
      " batch_normalization_6 (BatchNo  (None, 1037)        4148        ['dense_7[0][0]']                \n",
      " rmalization)                                                                                     \n",
      "                                                                                                  \n",
      " batch_normalization_16 (BatchN  (None, 1037)        4148        ['dense_26[0][0]']               \n",
      " ormalization)                                                                                    \n",
      "                                                                                                  \n",
      " dense_8 (Dense)                (None, 1564)         1623432     ['batch_normalization_6[0][0]']  \n",
      "                                                                                                  \n",
      " dense_27 (Dense)               (None, 1564)         1623432     ['batch_normalization_16[0][0]'] \n",
      "                                                                                                  \n",
      " batch_normalization_7 (BatchNo  (None, 1564)        6256        ['dense_8[0][0]']                \n",
      " rmalization)                                                                                     \n",
      "                                                                                                  \n",
      " batch_normalization_17 (BatchN  (None, 1564)        6256        ['dense_27[0][0]']               \n",
      " ormalization)                                                                                    \n",
      "                                                                                                  \n",
      " dense_9 (Dense)                (None, 518)          810670      ['batch_normalization_7[0][0]']  \n",
      "                                                                                                  \n",
      " dense_28 (Dense)               (None, 518)          810670      ['batch_normalization_17[0][0]'] \n",
      "                                                                                                  \n",
      " dense_10 (Dense)               (None, 670)          347730      ['dense_9[0][0]']                \n",
      "                                                                                                  \n",
      " dense_29 (Dense)               (None, 670)          347730      ['dense_28[0][0]']               \n",
      "                                                                                                  \n",
      " dropout_3 (Dropout)            (None, 670)          0           ['dense_10[0][0]']               \n",
      "                                                                                                  \n",
      " dropout_11 (Dropout)           (None, 670)          0           ['dense_29[0][0]']               \n",
      "                                                                                                  \n",
      " dense_11 (Dense)               (None, 345)          231495      ['dropout_3[0][0]']              \n",
      "                                                                                                  \n",
      " dense_30 (Dense)               (None, 345)          231495      ['dropout_11[0][0]']             \n",
      "                                                                                                  \n",
      " dropout_4 (Dropout)            (None, 345)          0           ['dense_11[0][0]']               \n",
      "                                                                                                  \n",
      " dropout_12 (Dropout)           (None, 345)          0           ['dense_30[0][0]']               \n",
      "                                                                                                  \n",
      " dense_12 (Dense)               (None, 1034)         357764      ['dropout_4[0][0]']              \n",
      "                                                                                                  \n",
      " dense_31 (Dense)               (None, 1034)         357764      ['dropout_12[0][0]']             \n",
      "                                                                                                  \n",
      " dropout_5 (Dropout)            (None, 1034)         0           ['dense_12[0][0]']               \n",
      "                                                                                                  \n",
      " dropout_13 (Dropout)           (None, 1034)         0           ['dense_31[0][0]']               \n",
      "                                                                                                  \n",
      " batch_normalization_8 (BatchNo  (None, 1034)        4136        ['dropout_5[0][0]']              \n",
      " rmalization)                                                                                     \n",
      "                                                                                                  \n",
      " batch_normalization_18 (BatchN  (None, 1034)        4136        ['dropout_13[0][0]']             \n",
      " ormalization)                                                                                    \n",
      "                                                                                                  \n",
      " dense_13 (Dense)               (None, 1277)         1321695     ['batch_normalization_8[0][0]']  \n",
      "                                                                                                  \n",
      " dense_32 (Dense)               (None, 1277)         1321695     ['batch_normalization_18[0][0]'] \n",
      "                                                                                                  \n",
      " dense_14 (Dense)               (None, 591)          755298      ['dense_13[0][0]']               \n",
      "                                                                                                  \n",
      " dense_33 (Dense)               (None, 591)          755298      ['dense_32[0][0]']               \n",
      "                                                                                                  \n",
      " dense_15 (Dense)               (None, 1603)         948976      ['dense_14[0][0]']               \n",
      "                                                                                                  \n",
      " dense_34 (Dense)               (None, 1603)         948976      ['dense_33[0][0]']               \n",
      "                                                                                                  \n",
      " dropout_6 (Dropout)            (None, 1603)         0           ['dense_15[0][0]']               \n",
      "                                                                                                  \n",
      " dropout_14 (Dropout)           (None, 1603)         0           ['dense_34[0][0]']               \n",
      "                                                                                                  \n",
      " batch_normalization_9 (BatchNo  (None, 1603)        6412        ['dropout_6[0][0]']              \n",
      " rmalization)                                                                                     \n",
      "                                                                                                  \n",
      " batch_normalization_19 (BatchN  (None, 1603)        6412        ['dropout_14[0][0]']             \n",
      " ormalization)                                                                                    \n",
      "                                                                                                  \n",
      " dense_16 (Dense)               (None, 950)          1523800     ['batch_normalization_9[0][0]']  \n",
      "                                                                                                  \n",
      " dense_35 (Dense)               (None, 950)          1523800     ['batch_normalization_19[0][0]'] \n",
      "                                                                                                  \n",
      " dropout_7 (Dropout)            (None, 950)          0           ['dense_16[0][0]']               \n",
      "                                                                                                  \n",
      " dropout_15 (Dropout)           (None, 950)          0           ['dense_35[0][0]']               \n",
      "                                                                                                  \n",
      " dense_17 (Dense)               (None, 1153)         1096503     ['dropout_7[0][0]']              \n",
      "                                                                                                  \n",
      " dense_36 (Dense)               (None, 1153)         1096503     ['dropout_15[0][0]']             \n",
      "                                                                                                  \n",
      " dense_18 (Dense)               (None, 1)            1154        ['dense_17[0][0]']               \n",
      "                                                                                                  \n",
      " dense_37 (Dense)               (None, 1)            1154        ['dense_36[0][0]']               \n",
      "                                                                                                  \n",
      " concatenate_3 (Concatenate)    (None, 2)            0           ['dense_18[0][0]',               \n",
      "                                                                  'dense_37[0][0]']               \n",
      "                                                                                                  \n",
      " dense_50 (Dense)               (None, 500)          1500        ['concatenate_3[0][0]']          \n",
      "                                                                                                  \n",
      " dense_51 (Dense)               (None, 1000)         501000      ['dense_50[0][0]']               \n",
      "                                                                                                  \n",
      " dense_52 (Dense)               (None, 500)          500500      ['dense_51[0][0]']               \n",
      "                                                                                                  \n",
      " dense_53 (Dense)               (None, 2)            1002        ['dense_52[0][0]']               \n",
      "                                                                                                  \n",
      "==================================================================================================\n",
      "Total params: 41,642,706\n",
      "Trainable params: 41,590,406\n",
      "Non-trainable params: 52,300\n",
      "__________________________________________________________________________________________________\n"
     ]
    }
   ],
   "source": [
    "model.summary()"
   ]
  },
  {
   "cell_type": "code",
   "execution_count": 7,
   "id": "1e80fa64-d41d-49f8-835e-0946ede0aace",
   "metadata": {},
   "outputs": [
    {
     "name": "stdout",
     "output_type": "stream",
     "text": [
      "cohesion 1.0\n"
     ]
    },
    {
     "ename": "NameError",
     "evalue": "name 'pred' is not defined",
     "output_type": "error",
     "traceback": [
      "\u001b[0;31m---------------------------------------------------------------------------\u001b[0m",
      "\u001b[0;31mNameError\u001b[0m                                 Traceback (most recent call last)",
      "\u001b[0;32m<ipython-input-7-59d3d02cf921>\u001b[0m in \u001b[0;36m<module>\u001b[0;34m\u001b[0m\n\u001b[1;32m      7\u001b[0m         \u001b[0max\u001b[0m \u001b[0;34m=\u001b[0m \u001b[0mfig\u001b[0m\u001b[0;34m.\u001b[0m\u001b[0madd_subplot\u001b[0m\u001b[0;34m(\u001b[0m\u001b[0;36m6\u001b[0m\u001b[0;34m,\u001b[0m \u001b[0;36m9\u001b[0m\u001b[0;34m,\u001b[0m \u001b[0mcount\u001b[0m\u001b[0;34m)\u001b[0m\u001b[0;34m\u001b[0m\u001b[0;34m\u001b[0m\u001b[0m\n\u001b[1;32m      8\u001b[0m         \u001b[0mprint\u001b[0m\u001b[0;34m(\u001b[0m\u001b[0mcol\u001b[0m\u001b[0;34m,\u001b[0m \u001b[0mscore\u001b[0m\u001b[0;34m)\u001b[0m\u001b[0;34m\u001b[0m\u001b[0;34m\u001b[0m\u001b[0m\n\u001b[0;32m----> 9\u001b[0;31m         \u001b[0mdata\u001b[0m \u001b[0;34m=\u001b[0m \u001b[0mpd\u001b[0m\u001b[0;34m.\u001b[0m\u001b[0mconcat\u001b[0m\u001b[0;34m(\u001b[0m\u001b[0;34m[\u001b[0m\u001b[0my_train\u001b[0m\u001b[0;34m[\u001b[0m\u001b[0mcol\u001b[0m\u001b[0;34m]\u001b[0m\u001b[0;34m,\u001b[0m \u001b[0mpred\u001b[0m\u001b[0;34m[\u001b[0m\u001b[0mcol\u001b[0m\u001b[0;34m]\u001b[0m\u001b[0;34m]\u001b[0m\u001b[0;34m,\u001b[0m \u001b[0maxis\u001b[0m\u001b[0;34m=\u001b[0m\u001b[0;36m1\u001b[0m\u001b[0;34m)\u001b[0m\u001b[0;34m\u001b[0m\u001b[0;34m\u001b[0m\u001b[0m\n\u001b[0m\u001b[1;32m     10\u001b[0m         \u001b[0mdata\u001b[0m\u001b[0;34m.\u001b[0m\u001b[0mcolumns\u001b[0m \u001b[0;34m=\u001b[0m \u001b[0;34m[\u001b[0m\u001b[0;34m\"true\"\u001b[0m\u001b[0;34m,\u001b[0m \u001b[0;34m\"pred\"\u001b[0m\u001b[0;34m]\u001b[0m\u001b[0;34m\u001b[0m\u001b[0;34m\u001b[0m\u001b[0m\n\u001b[1;32m     11\u001b[0m         \u001b[0msns\u001b[0m\u001b[0;34m.\u001b[0m\u001b[0mdistplot\u001b[0m\u001b[0;34m(\u001b[0m\u001b[0mdata\u001b[0m\u001b[0;34m[\u001b[0m\u001b[0mdata\u001b[0m\u001b[0;34m[\u001b[0m\u001b[0;34m\"true\"\u001b[0m\u001b[0;34m]\u001b[0m\u001b[0;34m==\u001b[0m\u001b[0mscore\u001b[0m\u001b[0;34m]\u001b[0m\u001b[0;34m.\u001b[0m\u001b[0mpred\u001b[0m\u001b[0;34m,\u001b[0m \u001b[0max\u001b[0m \u001b[0;34m=\u001b[0m \u001b[0max\u001b[0m\u001b[0;34m,\u001b[0m \u001b[0mkde\u001b[0m\u001b[0;34m=\u001b[0m\u001b[0;32mFalse\u001b[0m\u001b[0;34m)\u001b[0m\u001b[0;34m;\u001b[0m\u001b[0;34m\u001b[0m\u001b[0;34m\u001b[0m\u001b[0m\n",
      "\u001b[0;31mNameError\u001b[0m: name 'pred' is not defined"
     ]
    },
    {
     "data": {
      "image/png": "[encoded data removed]",
      "text/plain": [
       "<Figure size 2500x1000 with 1 Axes>"
      ]
     },
     "metadata": {
      "needs_background": "light"
     },
     "output_type": "display_data"
    }
   ],
   "source": [
    "import seaborn as sns\n",
    "import matplotlib.pyplot as plt\n",
    "count = 1\n",
    "fig = plt.figure(figsize=(25,10))\n",
    "for col in cols:\n",
    "    for score in sorted(y_train[col].unique()):\n",
    "        ax = fig.add_subplot(6, 9, count)\n",
    "        print(col, score)\n",
    "        data = pd.concat([y_train[col], pred[col]], axis=1)\n",
    "        data.columns = [\"true\", \"pred\"]\n",
    "        sns.distplot(data[data[\"true\"]==score].pred, ax = ax, kde=False);\n",
    "        ax.set_xlabel(score);\n",
    "        ax.set_xlim([1,5]);\n",
    "        ax.set_title(col+str(score));\n",
    "        plt.tight_layout()\n",
    "        fig.show();\n",
    "        count += 1"
   ]
  },
  {
   "cell_type": "code",
   "execution_count": 15,
   "id": "b37f55ba-dbbb-4a3d-8f68-6c4c06a64ca9",
   "metadata": {},
   "outputs": [
    {
     "data": {
      "text/html": [
       "<div>\n",
       "<style scoped>\n",
       "    .dataframe tbody tr th:only-of-type {\n",
       "        vertical-align: middle;\n",
       "    }\n",
       "\n",
       "    .dataframe tbody tr th {\n",
       "        vertical-align: top;\n",
       "    }\n",
       "\n",
       "    .dataframe thead th {\n",
       "        text-align: right;\n",
       "    }\n",
       "</style>\n",
       "<table border=\"1\" class=\"dataframe\">\n",
       "  <thead>\n",
       "    <tr style=\"text-align: right;\">\n",
       "      <th></th>\n",
       "      <th>cohesion</th>\n",
       "      <th>syntax</th>\n",
       "      <th>vocabulary</th>\n",
       "      <th>phraseology</th>\n",
       "      <th>grammar</th>\n",
       "      <th>conventions</th>\n",
       "    </tr>\n",
       "    <tr>\n",
       "      <th>text_id</th>\n",
       "      <th></th>\n",
       "      <th></th>\n",
       "      <th></th>\n",
       "      <th></th>\n",
       "      <th></th>\n",
       "      <th></th>\n",
       "    </tr>\n",
       "  </thead>\n",
       "  <tbody>\n",
       "    <tr>\n",
       "      <th>0000C359D63E</th>\n",
       "      <td>2.767483</td>\n",
       "      <td>2.733454</td>\n",
       "      <td>2.969960</td>\n",
       "      <td>2.808294</td>\n",
       "      <td>2.716757</td>\n",
       "      <td>2.652545</td>\n",
       "    </tr>\n",
       "    <tr>\n",
       "      <th>000BAD50D026</th>\n",
       "      <td>3.038738</td>\n",
       "      <td>2.872625</td>\n",
       "      <td>3.037558</td>\n",
       "      <td>2.952971</td>\n",
       "      <td>2.719184</td>\n",
       "      <td>2.952540</td>\n",
       "    </tr>\n",
       "    <tr>\n",
       "      <th>00367BB2546B</th>\n",
       "      <td>3.365481</td>\n",
       "      <td>3.267979</td>\n",
       "      <td>3.486429</td>\n",
       "      <td>3.339178</td>\n",
       "      <td>3.286980</td>\n",
       "      <td>3.294214</td>\n",
       "    </tr>\n",
       "  </tbody>\n",
       "</table>\n",
       "</div>"
      ],
      "text/plain": [
       "              cohesion    syntax  vocabulary  phraseology   grammar  \\\n",
       "text_id                                                               \n",
       "0000C359D63E  2.767483  2.733454    2.969960     2.808294  2.716757   \n",
       "000BAD50D026  3.038738  2.872625    3.037558     2.952971  2.719184   \n",
       "00367BB2546B  3.365481  3.267979    3.486429     3.339178  3.286980   \n",
       "\n",
       "              conventions  \n",
       "text_id                    \n",
       "0000C359D63E     2.652545  \n",
       "000BAD50D026     2.952540  \n",
       "00367BB2546B     3.294214  "
      ]
     },
     "execution_count": 15,
     "metadata": {},
     "output_type": "execute_result"
    }
   ],
   "source": [
    "preds = [keras1_pred, keras2_pred, keras3_pred, keras4_pred, lgb1_pred, lgb2_pred]\n",
    "pred = pd.DataFrame(np.mean(np.array(preds), axis=0), columns=cols, index=X_test_idx)\n",
    "pred"
   ]
  },
  {
   "cell_type": "code",
   "execution_count": 86,
   "id": "d51394ed-8972-475b-b685-c474c197667c",
   "metadata": {},
   "outputs": [],
   "source": [
    "pred.to_csv(\"submission.csv\", index=True)"
   ]
  }
 ],
 "metadata": {
  "kernelspec": {
   "display_name": "Python 3",
   "language": "python",
   "name": "python3"
  },
  "language_info": {
   "codemirror_mode": {
    "name": "ipython",
    "version": 3
   },
   "file_extension": ".py",
   "mimetype": "text/x-python",
   "name": "python",
   "nbconvert_exporter": "python",
   "pygments_lexer": "ipython3",
   "version": "3.10.6"
  }
 },
 "nbformat": 4,
 "nbformat_minor": 5
}
